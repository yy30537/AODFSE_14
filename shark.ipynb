{
 "cells": [
  {
   "cell_type": "markdown",
   "id": "standing-honey",
   "metadata": {
    "pycharm": {
     "name": "#%% md\n"
    },
    "toc": true
   },
   "source": [
    "<h1>Table of Contents<span class=\"tocSkip\"></span></h1>\n",
    "<div class=\"toc\"><ul class=\"toc-item\"></ul></div>"
   ]
  },
  {
   "cell_type": "code",
   "execution_count": 11,
   "id": "cf81835b-2b84-4901-b40e-0ce18e53cc50",
   "metadata": {},
   "outputs": [
    {
     "name": "stdout",
     "output_type": "stream",
     "text": [
      "Databases present are ['smartshark_2_1']\n",
      "Found 1 repos\n",
      "There are 7222 commits for commons-math\n"
     ]
    }
   ],
   "source": [
    "from pymongo import MongoClient\n",
    "connection = MongoClient(\n",
    "    host=\"research.cassee.dev:27017\",\n",
    "    username=\"read-shark\",\n",
    "    password=\"msr2021shark\")\n",
    "\n",
    "print(f\"Databases present are {connection.list_database_names()}\")\n",
    "\n",
    "db = connection.smartshark_2_1\n",
    "\n",
    "project = db.project.find_one({})\n",
    "\n",
    "repos = list(db.vcs_system.find({'project_id':project['_id']}))\n",
    "\n",
    "print(f\"Found {len(repos)} repos\")\n",
    "\n",
    "commits = db.commit.count_documents({'vcs_system_id': {'$in': [x[\"_id\"] for x in repos]}})\n",
    "\n",
    "print(f\"There are {commits} commits for {project['name']}\")"
   ]
  },
  {
   "cell_type": "code",
   "execution_count": 12,
   "id": "military-windsor",
   "metadata": {},
   "outputs": [],
   "source": [
    "import pandas as pd\n",
    "from bson.json_util import dumps\n",
    "from json import loads\n",
    "import bson\n",
    "from matplotlib import pyplot as plt"
   ]
  },
  {
   "cell_type": "code",
   "execution_count": 13,
   "id": "contained-cleanup",
   "metadata": {},
   "outputs": [
    {
     "name": "stdout",
     "output_type": "stream",
     "text": [
      "Database(MongoClient(host=['research.cassee.dev:27017'], document_class=dict, tz_aware=False, connect=True), 'smartshark_2_1')\n"
     ]
    }
   ],
   "source": [
    "db = connection['smartshark_2_1']\n",
    "print(db)"
   ]
  },
  {
   "cell_type": "code",
   "execution_count": 14,
   "metadata": {
    "collapsed": false,
    "pycharm": {
     "name": "#%%\n"
    }
   },
   "outputs": [],
   "source": [
    "def convert_object_ids(df, keys):\n",
    "    for x in keys:\n",
    "        df[x] = (df.apply(lambda y: loads(dumps(y[x] if type(y[x]) == bson.objectid.ObjectId else {'$oid': None}))['$oid'], axis=1))\n"
   ]
  },
  {
   "cell_type": "code",
   "execution_count": 15,
   "metadata": {
    "collapsed": false,
    "pycharm": {
     "name": "#%%\n"
    }
   },
   "outputs": [],
   "source": [
    "# Get the people dataset and convert the ObjectIds to strings\n",
    "df_people = pd.DataFrame(list(db.people.find({})))\n",
    "convert_object_ids(df_people, ['_id'])"
   ]
  },
  {
   "cell_type": "code",
   "execution_count": 16,
   "metadata": {
    "collapsed": false,
    "pycharm": {
     "name": "#%%\n"
    }
   },
   "outputs": [],
   "source": [
    "# Get the project dataset and convert the ObjectIds to strings\n",
    "df_project = pd.DataFrame(list(db.project.find({})))\n",
    "convert_object_ids(df_project, ['_id'])"
   ]
  },
  {
   "cell_type": "code",
   "execution_count": 17,
   "metadata": {
    "collapsed": false,
    "pycharm": {
     "name": "#%%\n"
    }
   },
   "outputs": [],
   "source": [
    "# Get the PR dataset and convert the ObjectIds to strings\n",
    "df_pull_request = pd.DataFrame(list(db.pull_request.find({})))\n",
    "convert_object_ids(df_pull_request, [\n",
    "    '_id',\n",
    "    # 'assignee_id',\n",
    "    'creator_id',\n",
    "    # 'merge_commit_id',\n",
    "    'pull_request_system_id',\n",
    "    # 'requested_reviewer_ids',\n",
    "    # 'source_commit_id',\n",
    "    # 'target_commit_id'\n",
    "])"
   ]
  },
  {
   "cell_type": "code",
   "execution_count": 18,
   "metadata": {
    "collapsed": false,
    "pycharm": {
     "name": "#%%\n"
    }
   },
   "outputs": [],
   "source": [
    "# Get the PR_review dataset and convert the ObjectIds to strings\n",
    "df_pull_request_review = pd.DataFrame(list(db.pull_request_review.find({})))\n",
    "convert_object_ids(df_pull_request_review, [\n",
    "    '_id',\n",
    "    'creator_id',\n",
    "    # 'pull_request_commit_id',\n",
    "    'pull_request_id'\n",
    "])"
   ]
  },
  {
   "cell_type": "code",
   "execution_count": 19,
   "metadata": {
    "collapsed": false,
    "pycharm": {
     "name": "#%%\n"
    }
   },
   "outputs": [],
   "source": [
    "# Get the PR_review dataset and convert the ObjectIds to strings\n",
    "df_pull_request_event = pd.DataFrame(list(db.pull_request_event.find({})))\n",
    "convert_object_ids(df_pull_request_event, [\n",
    "    '_id',\n",
    "    'author_id',\n",
    "    # 'commit_id',\n",
    "    # 'pull_request_commit_id',\n",
    "    'pull_request_id'\n",
    "])"
   ]
  },
  {
   "cell_type": "code",
   "execution_count": 20,
   "id": "7eb53804",
   "metadata": {},
   "outputs": [],
   "source": [
    "df_pull_request_file = pd.DataFrame(list(db.pull_request_file.find({})))"
   ]
  },
  {
   "cell_type": "code",
   "execution_count": 21,
   "id": "6216a28b",
   "metadata": {},
   "outputs": [],
   "source": [
    "convert_object_ids(df_pull_request_file, [\n",
    "    '_id',\n",
    "    'pull_request_id',\n",
    "])"
   ]
  },
  {
   "cell_type": "code",
   "execution_count": 22,
   "metadata": {
    "collapsed": false,
    "pycharm": {
     "name": "#%%\n"
    }
   },
   "outputs": [],
   "source": [
    "# Create the same identifier so that we can join\n",
    "df_pull_request['pull_request_id'] = df_pull_request['_id']"
   ]
  },
  {
   "cell_type": "markdown",
   "metadata": {
    "collapsed": false,
    "pycharm": {
     "name": "#%% md\n"
    }
   },
   "source": [
    "### Approved Pull Requests"
   ]
  },
  {
   "cell_type": "code",
   "execution_count": 23,
   "metadata": {
    "collapsed": false,
    "pycharm": {
     "name": "#%%\n"
    }
   },
   "outputs": [
    {
     "data": {
      "text/html": [
       "<div>\n",
       "<style scoped>\n",
       "    .dataframe tbody tr th:only-of-type {\n",
       "        vertical-align: middle;\n",
       "    }\n",
       "\n",
       "    .dataframe tbody tr th {\n",
       "        vertical-align: top;\n",
       "    }\n",
       "\n",
       "    .dataframe thead th {\n",
       "        text-align: right;\n",
       "    }\n",
       "</style>\n",
       "<table border=\"1\" class=\"dataframe\">\n",
       "  <thead>\n",
       "    <tr style=\"text-align: right;\">\n",
       "      <th></th>\n",
       "      <th>_id</th>\n",
       "      <th>pull_request_id</th>\n",
       "      <th>external_id</th>\n",
       "      <th>state</th>\n",
       "      <th>description</th>\n",
       "      <th>creator_id</th>\n",
       "      <th>submitted_at</th>\n",
       "      <th>author_association</th>\n",
       "      <th>commit_sha</th>\n",
       "      <th>pull_request_commit_id</th>\n",
       "    </tr>\n",
       "  </thead>\n",
       "  <tbody>\n",
       "    <tr>\n",
       "      <th>0</th>\n",
       "      <td>5ff188803fba52c925be898d</td>\n",
       "      <td>5ff1887f3fba52c925be898c</td>\n",
       "      <td>143337164</td>\n",
       "      <td>APPROVED</td>\n",
       "      <td>The code looks good, ASN.1-like encoding is a ...</td>\n",
       "      <td>5ff18872c26a57681e7b6d2b</td>\n",
       "      <td>2018-08-03 21:41:31</td>\n",
       "      <td>CONTRIBUTOR</td>\n",
       "      <td>b506949b50d56482e5bdf1123f99a7f2b952f25c</td>\n",
       "      <td>NaN</td>\n",
       "    </tr>\n",
       "    <tr>\n",
       "      <th>37</th>\n",
       "      <td>5ff1919ecbcaee8d21c67e79</td>\n",
       "      <td>5ff1919ccbcaee8d21c67e75</td>\n",
       "      <td>489446018</td>\n",
       "      <td>APPROVED</td>\n",
       "      <td></td>\n",
       "      <td>5b4db0dc30a71b06bce03054</td>\n",
       "      <td>2020-09-16 09:32:52</td>\n",
       "      <td>CONTRIBUTOR</td>\n",
       "      <td>a309b67d74c2083d7808d1f7a6aaff22a2a75dd7</td>\n",
       "      <td>5ff1919dcbcaee8d21c67e76</td>\n",
       "    </tr>\n",
       "    <tr>\n",
       "      <th>38</th>\n",
       "      <td>5ff191a0cbcaee8d21c67e82</td>\n",
       "      <td>5ff1919ecbcaee8d21c67e7f</td>\n",
       "      <td>479608653</td>\n",
       "      <td>APPROVED</td>\n",
       "      <td></td>\n",
       "      <td>5b4db0dc30a71b06bce03054</td>\n",
       "      <td>2020-09-01 10:28:43</td>\n",
       "      <td>CONTRIBUTOR</td>\n",
       "      <td>c21157ad10224d78291b3433914847f9227f038d</td>\n",
       "      <td>5ff1919fcbcaee8d21c67e80</td>\n",
       "    </tr>\n",
       "  </tbody>\n",
       "</table>\n",
       "</div>"
      ],
      "text/plain": [
       "                         _id           pull_request_id external_id     state  \\\n",
       "0   5ff188803fba52c925be898d  5ff1887f3fba52c925be898c   143337164  APPROVED   \n",
       "37  5ff1919ecbcaee8d21c67e79  5ff1919ccbcaee8d21c67e75   489446018  APPROVED   \n",
       "38  5ff191a0cbcaee8d21c67e82  5ff1919ecbcaee8d21c67e7f   479608653  APPROVED   \n",
       "\n",
       "                                          description  \\\n",
       "0   The code looks good, ASN.1-like encoding is a ...   \n",
       "37                                                      \n",
       "38                                                      \n",
       "\n",
       "                  creator_id        submitted_at author_association  \\\n",
       "0   5ff18872c26a57681e7b6d2b 2018-08-03 21:41:31        CONTRIBUTOR   \n",
       "37  5b4db0dc30a71b06bce03054 2020-09-16 09:32:52        CONTRIBUTOR   \n",
       "38  5b4db0dc30a71b06bce03054 2020-09-01 10:28:43        CONTRIBUTOR   \n",
       "\n",
       "                                  commit_sha    pull_request_commit_id  \n",
       "0   b506949b50d56482e5bdf1123f99a7f2b952f25c                       NaN  \n",
       "37  a309b67d74c2083d7808d1f7a6aaff22a2a75dd7  5ff1919dcbcaee8d21c67e76  \n",
       "38  c21157ad10224d78291b3433914847f9227f038d  5ff1919fcbcaee8d21c67e80  "
      ]
     },
     "execution_count": 23,
     "metadata": {},
     "output_type": "execute_result"
    }
   ],
   "source": [
    "df_approved_prs = df_pull_request_review.where(df_pull_request_review['state'] == 'APPROVED').dropna(subset=['_id'])\n",
    "df_approved_prs.head(3)"
   ]
  },
  {
   "cell_type": "code",
   "execution_count": 24,
   "metadata": {
    "collapsed": false,
    "pycharm": {
     "name": "#%%\n"
    }
   },
   "outputs": [],
   "source": [
    "df_approved_prs__annotated_with_pr_creator = pd.merge(df_approved_prs, df_pull_request, on='pull_request_id')"
   ]
  },
  {
   "cell_type": "code",
   "execution_count": 25,
   "metadata": {
    "collapsed": false,
    "pycharm": {
     "name": "#%%\n"
    }
   },
   "outputs": [
    {
     "data": {
      "text/html": [
       "<div>\n",
       "<style scoped>\n",
       "    .dataframe tbody tr th:only-of-type {\n",
       "        vertical-align: middle;\n",
       "    }\n",
       "\n",
       "    .dataframe tbody tr th {\n",
       "        vertical-align: top;\n",
       "    }\n",
       "\n",
       "    .dataframe thead th {\n",
       "        text-align: right;\n",
       "    }\n",
       "</style>\n",
       "<table border=\"1\" class=\"dataframe\">\n",
       "  <thead>\n",
       "    <tr style=\"text-align: right;\">\n",
       "      <th></th>\n",
       "      <th>_id_x</th>\n",
       "      <th>pull_request_id</th>\n",
       "      <th>external_id_x</th>\n",
       "      <th>state_x</th>\n",
       "      <th>description_x</th>\n",
       "      <th>creator_id_x</th>\n",
       "      <th>submitted_at</th>\n",
       "      <th>author_association_x</th>\n",
       "      <th>commit_sha</th>\n",
       "      <th>pull_request_commit_id</th>\n",
       "      <th>...</th>\n",
       "      <th>source_branch</th>\n",
       "      <th>source_commit_sha</th>\n",
       "      <th>target_repo_url</th>\n",
       "      <th>target_branch</th>\n",
       "      <th>target_commit_sha</th>\n",
       "      <th>source_commit_id</th>\n",
       "      <th>target_commit_id</th>\n",
       "      <th>merge_commit_id</th>\n",
       "      <th>assignee_id</th>\n",
       "      <th>lock_reason</th>\n",
       "    </tr>\n",
       "  </thead>\n",
       "  <tbody>\n",
       "    <tr>\n",
       "      <th>0</th>\n",
       "      <td>5ff188803fba52c925be898d</td>\n",
       "      <td>5ff1887f3fba52c925be898c</td>\n",
       "      <td>143337164</td>\n",
       "      <td>APPROVED</td>\n",
       "      <td>The code looks good, ASN.1-like encoding is a ...</td>\n",
       "      <td>5ff18872c26a57681e7b6d2b</td>\n",
       "      <td>2018-08-03 21:41:31</td>\n",
       "      <td>CONTRIBUTOR</td>\n",
       "      <td>b506949b50d56482e5bdf1123f99a7f2b952f25c</td>\n",
       "      <td>NaN</td>\n",
       "      <td>...</td>\n",
       "      <td>master</td>\n",
       "      <td>89583444040dc5423bb143435f23ae0814f24542</td>\n",
       "      <td>https://github.com/apache/ant-ivy</td>\n",
       "      <td>master</td>\n",
       "      <td>89583444040dc5423bb143435f23ae0814f24542</td>\n",
       "      <td>NaN</td>\n",
       "      <td>NaN</td>\n",
       "      <td>NaN</td>\n",
       "      <td>NaN</td>\n",
       "      <td>NaN</td>\n",
       "    </tr>\n",
       "    <tr>\n",
       "      <th>1</th>\n",
       "      <td>5ff1919ecbcaee8d21c67e79</td>\n",
       "      <td>5ff1919ccbcaee8d21c67e75</td>\n",
       "      <td>489446018</td>\n",
       "      <td>APPROVED</td>\n",
       "      <td></td>\n",
       "      <td>5b4db0dc30a71b06bce03054</td>\n",
       "      <td>2020-09-16 09:32:52</td>\n",
       "      <td>CONTRIBUTOR</td>\n",
       "      <td>a309b67d74c2083d7808d1f7a6aaff22a2a75dd7</td>\n",
       "      <td>5ff1919dcbcaee8d21c67e76</td>\n",
       "      <td>...</td>\n",
       "      <td>WSS-678</td>\n",
       "      <td>a309b67d74c2083d7808d1f7a6aaff22a2a75dd7</td>\n",
       "      <td>https://github.com/apache/ws-wss4j</td>\n",
       "      <td>master</td>\n",
       "      <td>1765c4149d700cac8aea5c1a3b78f2bdee8b6e71</td>\n",
       "      <td>NaN</td>\n",
       "      <td>NaN</td>\n",
       "      <td>NaN</td>\n",
       "      <td>NaN</td>\n",
       "      <td>NaN</td>\n",
       "    </tr>\n",
       "    <tr>\n",
       "      <th>2</th>\n",
       "      <td>5ff191a0cbcaee8d21c67e82</td>\n",
       "      <td>5ff1919ecbcaee8d21c67e7f</td>\n",
       "      <td>479608653</td>\n",
       "      <td>APPROVED</td>\n",
       "      <td></td>\n",
       "      <td>5b4db0dc30a71b06bce03054</td>\n",
       "      <td>2020-09-01 10:28:43</td>\n",
       "      <td>CONTRIBUTOR</td>\n",
       "      <td>c21157ad10224d78291b3433914847f9227f038d</td>\n",
       "      <td>5ff1919fcbcaee8d21c67e80</td>\n",
       "      <td>...</td>\n",
       "      <td>wss4j-ws-security-common</td>\n",
       "      <td>c21157ad10224d78291b3433914847f9227f038d</td>\n",
       "      <td>https://github.com/apache/ws-wss4j</td>\n",
       "      <td>master</td>\n",
       "      <td>e9c20e63dc1694dbc5e116e4c9e82190aa81320a</td>\n",
       "      <td>NaN</td>\n",
       "      <td>NaN</td>\n",
       "      <td>NaN</td>\n",
       "      <td>NaN</td>\n",
       "      <td>NaN</td>\n",
       "    </tr>\n",
       "  </tbody>\n",
       "</table>\n",
       "<p>3 rows × 37 columns</p>\n",
       "</div>"
      ],
      "text/plain": [
       "                      _id_x           pull_request_id external_id_x   state_x  \\\n",
       "0  5ff188803fba52c925be898d  5ff1887f3fba52c925be898c     143337164  APPROVED   \n",
       "1  5ff1919ecbcaee8d21c67e79  5ff1919ccbcaee8d21c67e75     489446018  APPROVED   \n",
       "2  5ff191a0cbcaee8d21c67e82  5ff1919ecbcaee8d21c67e7f     479608653  APPROVED   \n",
       "\n",
       "                                       description_x  \\\n",
       "0  The code looks good, ASN.1-like encoding is a ...   \n",
       "1                                                      \n",
       "2                                                      \n",
       "\n",
       "               creator_id_x        submitted_at author_association_x  \\\n",
       "0  5ff18872c26a57681e7b6d2b 2018-08-03 21:41:31          CONTRIBUTOR   \n",
       "1  5b4db0dc30a71b06bce03054 2020-09-16 09:32:52          CONTRIBUTOR   \n",
       "2  5b4db0dc30a71b06bce03054 2020-09-01 10:28:43          CONTRIBUTOR   \n",
       "\n",
       "                                 commit_sha    pull_request_commit_id  ...  \\\n",
       "0  b506949b50d56482e5bdf1123f99a7f2b952f25c                       NaN  ...   \n",
       "1  a309b67d74c2083d7808d1f7a6aaff22a2a75dd7  5ff1919dcbcaee8d21c67e76  ...   \n",
       "2  c21157ad10224d78291b3433914847f9227f038d  5ff1919fcbcaee8d21c67e80  ...   \n",
       "\n",
       "              source_branch                         source_commit_sha  \\\n",
       "0                    master  89583444040dc5423bb143435f23ae0814f24542   \n",
       "1                   WSS-678  a309b67d74c2083d7808d1f7a6aaff22a2a75dd7   \n",
       "2  wss4j-ws-security-common  c21157ad10224d78291b3433914847f9227f038d   \n",
       "\n",
       "                      target_repo_url target_branch  \\\n",
       "0   https://github.com/apache/ant-ivy        master   \n",
       "1  https://github.com/apache/ws-wss4j        master   \n",
       "2  https://github.com/apache/ws-wss4j        master   \n",
       "\n",
       "                          target_commit_sha  source_commit_id  \\\n",
       "0  89583444040dc5423bb143435f23ae0814f24542               NaN   \n",
       "1  1765c4149d700cac8aea5c1a3b78f2bdee8b6e71               NaN   \n",
       "2  e9c20e63dc1694dbc5e116e4c9e82190aa81320a               NaN   \n",
       "\n",
       "   target_commit_id merge_commit_id assignee_id lock_reason  \n",
       "0               NaN             NaN         NaN         NaN  \n",
       "1               NaN             NaN         NaN         NaN  \n",
       "2               NaN             NaN         NaN         NaN  \n",
       "\n",
       "[3 rows x 37 columns]"
      ]
     },
     "execution_count": 25,
     "metadata": {},
     "output_type": "execute_result"
    }
   ],
   "source": [
    "df_approved_prs__annotated_with_pr_creator.head(3)"
   ]
  },
  {
   "cell_type": "code",
   "execution_count": 26,
   "metadata": {
    "collapsed": false,
    "pycharm": {
     "name": "#%%\n"
    }
   },
   "outputs": [
    {
     "data": {
      "text/plain": [
       "Index(['_id_x', 'pull_request_id', 'external_id_x', 'state_x', 'description_x',\n",
       "       'creator_id_x', 'submitted_at', 'author_association_x', 'commit_sha',\n",
       "       'pull_request_commit_id', '_id_y', 'pull_request_system_id',\n",
       "       'external_id_y', 'title', 'description_y', 'is_draft', 'is_locked',\n",
       "       'author_association_y', 'created_at', 'updated_at', 'merged_at',\n",
       "       'creator_id_y', 'linked_user_ids', 'requested_reviewer_ids', 'state_y',\n",
       "       'labels', 'source_repo_url', 'source_branch', 'source_commit_sha',\n",
       "       'target_repo_url', 'target_branch', 'target_commit_sha',\n",
       "       'source_commit_id', 'target_commit_id', 'merge_commit_id',\n",
       "       'assignee_id', 'lock_reason'],\n",
       "      dtype='object')"
      ]
     },
     "execution_count": 26,
     "metadata": {},
     "output_type": "execute_result"
    }
   ],
   "source": [
    "df_approved_prs__annotated_with_pr_creator.columns"
   ]
  },
  {
   "cell_type": "code",
   "execution_count": 27,
   "id": "chicken-strand",
   "metadata": {
    "pycharm": {
     "name": "#%%\n"
    }
   },
   "outputs": [
    {
     "data": {
      "text/html": [
       "<div>\n",
       "<style scoped>\n",
       "    .dataframe tbody tr th:only-of-type {\n",
       "        vertical-align: middle;\n",
       "    }\n",
       "\n",
       "    .dataframe tbody tr th {\n",
       "        vertical-align: top;\n",
       "    }\n",
       "\n",
       "    .dataframe thead th {\n",
       "        text-align: right;\n",
       "    }\n",
       "</style>\n",
       "<table border=\"1\" class=\"dataframe\">\n",
       "  <thead>\n",
       "    <tr style=\"text-align: right;\">\n",
       "      <th></th>\n",
       "      <th>creator_id_x</th>\n",
       "      <th>creator_id_y</th>\n",
       "    </tr>\n",
       "  </thead>\n",
       "  <tbody>\n",
       "    <tr>\n",
       "      <th>0</th>\n",
       "      <td>5ff18872c26a57681e7b6d2b</td>\n",
       "      <td>5ff1887dc26a57681e7b6ee1</td>\n",
       "    </tr>\n",
       "    <tr>\n",
       "      <th>1</th>\n",
       "      <td>5b4db0dc30a71b06bce03054</td>\n",
       "      <td>5f0d6a7baf02e2d6de888cd0</td>\n",
       "    </tr>\n",
       "    <tr>\n",
       "      <th>2</th>\n",
       "      <td>5b4db0dc30a71b06bce03054</td>\n",
       "      <td>5f0d6a7baf02e2d6de888cd0</td>\n",
       "    </tr>\n",
       "    <tr>\n",
       "      <th>3</th>\n",
       "      <td>5b4db0dc30a71b06bce03054</td>\n",
       "      <td>5ff191a2c26a57681e7b9533</td>\n",
       "    </tr>\n",
       "    <tr>\n",
       "      <th>4</th>\n",
       "      <td>5b4db0dc30a71b06bce03054</td>\n",
       "      <td>5ff191a2c26a57681e7b9533</td>\n",
       "    </tr>\n",
       "    <tr>\n",
       "      <th>...</th>\n",
       "      <td>...</td>\n",
       "      <td>...</td>\n",
       "    </tr>\n",
       "    <tr>\n",
       "      <th>19773</th>\n",
       "      <td>5b4db0dc30a71b06bce03054</td>\n",
       "      <td>5f0d6a7baf02e2d6de888cd0</td>\n",
       "    </tr>\n",
       "    <tr>\n",
       "      <th>19774</th>\n",
       "      <td>5b4db0dc30a71b06bce03054</td>\n",
       "      <td>5f0d6a7baf02e2d6de888cd0</td>\n",
       "    </tr>\n",
       "    <tr>\n",
       "      <th>19775</th>\n",
       "      <td>59bc2341f2a4565fe9cfaace</td>\n",
       "      <td>60fd84a0f73e2aa3902dad2a</td>\n",
       "    </tr>\n",
       "    <tr>\n",
       "      <th>19776</th>\n",
       "      <td>59bc2341f2a4565fe9cfaace</td>\n",
       "      <td>60fd84a5f73e2aa3902dc6d2</td>\n",
       "    </tr>\n",
       "    <tr>\n",
       "      <th>19777</th>\n",
       "      <td>59bc2341f2a4565fe9cfaace</td>\n",
       "      <td>5b64351f30a71b06bca37a02</td>\n",
       "    </tr>\n",
       "  </tbody>\n",
       "</table>\n",
       "<p>19771 rows × 2 columns</p>\n",
       "</div>"
      ],
      "text/plain": [
       "                   creator_id_x              creator_id_y\n",
       "0      5ff18872c26a57681e7b6d2b  5ff1887dc26a57681e7b6ee1\n",
       "1      5b4db0dc30a71b06bce03054  5f0d6a7baf02e2d6de888cd0\n",
       "2      5b4db0dc30a71b06bce03054  5f0d6a7baf02e2d6de888cd0\n",
       "3      5b4db0dc30a71b06bce03054  5ff191a2c26a57681e7b9533\n",
       "4      5b4db0dc30a71b06bce03054  5ff191a2c26a57681e7b9533\n",
       "...                         ...                       ...\n",
       "19773  5b4db0dc30a71b06bce03054  5f0d6a7baf02e2d6de888cd0\n",
       "19774  5b4db0dc30a71b06bce03054  5f0d6a7baf02e2d6de888cd0\n",
       "19775  59bc2341f2a4565fe9cfaace  60fd84a0f73e2aa3902dad2a\n",
       "19776  59bc2341f2a4565fe9cfaace  60fd84a5f73e2aa3902dc6d2\n",
       "19777  59bc2341f2a4565fe9cfaace  5b64351f30a71b06bca37a02\n",
       "\n",
       "[19771 rows x 2 columns]"
      ]
     },
     "execution_count": 27,
     "metadata": {},
     "output_type": "execute_result"
    }
   ],
   "source": [
    "# Get the approved PR's that were merged by someone that is not the same person as the one that opened the request\n",
    "approved_pull_requests_closed_by_different_person = df_approved_prs__annotated_with_pr_creator.where(df_approved_prs__annotated_with_pr_creator['creator_id_x'] != df_approved_prs__annotated_with_pr_creator['creator_id_y']).dropna(subset=['creator_id_x', 'creator_id_y'])\n",
    "\n",
    "approved_pull_requests_closed_by_different_person[['creator_id_x', 'creator_id_y']]"
   ]
  },
  {
   "cell_type": "code",
   "execution_count": 28,
   "metadata": {
    "collapsed": false,
    "pycharm": {
     "name": "#%%\n"
    }
   },
   "outputs": [
    {
     "data": {
      "text/html": [
       "<div>\n",
       "<style scoped>\n",
       "    .dataframe tbody tr th:only-of-type {\n",
       "        vertical-align: middle;\n",
       "    }\n",
       "\n",
       "    .dataframe tbody tr th {\n",
       "        vertical-align: top;\n",
       "    }\n",
       "\n",
       "    .dataframe thead th {\n",
       "        text-align: right;\n",
       "    }\n",
       "</style>\n",
       "<table border=\"1\" class=\"dataframe\">\n",
       "  <thead>\n",
       "    <tr style=\"text-align: right;\">\n",
       "      <th></th>\n",
       "      <th>_id_x</th>\n",
       "      <th>pull_request_id</th>\n",
       "      <th>external_id_x</th>\n",
       "      <th>state_x</th>\n",
       "      <th>description_x</th>\n",
       "      <th>creator_id_x</th>\n",
       "      <th>submitted_at</th>\n",
       "      <th>author_association_x</th>\n",
       "      <th>commit_sha</th>\n",
       "      <th>pull_request_commit_id</th>\n",
       "      <th>...</th>\n",
       "      <th>source_branch</th>\n",
       "      <th>source_commit_sha</th>\n",
       "      <th>target_repo_url</th>\n",
       "      <th>target_branch</th>\n",
       "      <th>target_commit_sha</th>\n",
       "      <th>source_commit_id</th>\n",
       "      <th>target_commit_id</th>\n",
       "      <th>merge_commit_id</th>\n",
       "      <th>assignee_id</th>\n",
       "      <th>lock_reason</th>\n",
       "    </tr>\n",
       "  </thead>\n",
       "  <tbody>\n",
       "    <tr>\n",
       "      <th>0</th>\n",
       "      <td>5ff188803fba52c925be898d</td>\n",
       "      <td>5ff1887f3fba52c925be898c</td>\n",
       "      <td>143337164</td>\n",
       "      <td>APPROVED</td>\n",
       "      <td>The code looks good, ASN.1-like encoding is a ...</td>\n",
       "      <td>5ff18872c26a57681e7b6d2b</td>\n",
       "      <td>2018-08-03 21:41:31</td>\n",
       "      <td>CONTRIBUTOR</td>\n",
       "      <td>b506949b50d56482e5bdf1123f99a7f2b952f25c</td>\n",
       "      <td>NaN</td>\n",
       "      <td>...</td>\n",
       "      <td>master</td>\n",
       "      <td>89583444040dc5423bb143435f23ae0814f24542</td>\n",
       "      <td>https://github.com/apache/ant-ivy</td>\n",
       "      <td>master</td>\n",
       "      <td>89583444040dc5423bb143435f23ae0814f24542</td>\n",
       "      <td>NaN</td>\n",
       "      <td>NaN</td>\n",
       "      <td>NaN</td>\n",
       "      <td>NaN</td>\n",
       "      <td>NaN</td>\n",
       "    </tr>\n",
       "    <tr>\n",
       "      <th>1</th>\n",
       "      <td>5ff1919ecbcaee8d21c67e79</td>\n",
       "      <td>5ff1919ccbcaee8d21c67e75</td>\n",
       "      <td>489446018</td>\n",
       "      <td>APPROVED</td>\n",
       "      <td></td>\n",
       "      <td>5b4db0dc30a71b06bce03054</td>\n",
       "      <td>2020-09-16 09:32:52</td>\n",
       "      <td>CONTRIBUTOR</td>\n",
       "      <td>a309b67d74c2083d7808d1f7a6aaff22a2a75dd7</td>\n",
       "      <td>5ff1919dcbcaee8d21c67e76</td>\n",
       "      <td>...</td>\n",
       "      <td>WSS-678</td>\n",
       "      <td>a309b67d74c2083d7808d1f7a6aaff22a2a75dd7</td>\n",
       "      <td>https://github.com/apache/ws-wss4j</td>\n",
       "      <td>master</td>\n",
       "      <td>1765c4149d700cac8aea5c1a3b78f2bdee8b6e71</td>\n",
       "      <td>NaN</td>\n",
       "      <td>NaN</td>\n",
       "      <td>NaN</td>\n",
       "      <td>NaN</td>\n",
       "      <td>NaN</td>\n",
       "    </tr>\n",
       "    <tr>\n",
       "      <th>2</th>\n",
       "      <td>5ff191a0cbcaee8d21c67e82</td>\n",
       "      <td>5ff1919ecbcaee8d21c67e7f</td>\n",
       "      <td>479608653</td>\n",
       "      <td>APPROVED</td>\n",
       "      <td></td>\n",
       "      <td>5b4db0dc30a71b06bce03054</td>\n",
       "      <td>2020-09-01 10:28:43</td>\n",
       "      <td>CONTRIBUTOR</td>\n",
       "      <td>c21157ad10224d78291b3433914847f9227f038d</td>\n",
       "      <td>5ff1919fcbcaee8d21c67e80</td>\n",
       "      <td>...</td>\n",
       "      <td>wss4j-ws-security-common</td>\n",
       "      <td>c21157ad10224d78291b3433914847f9227f038d</td>\n",
       "      <td>https://github.com/apache/ws-wss4j</td>\n",
       "      <td>master</td>\n",
       "      <td>e9c20e63dc1694dbc5e116e4c9e82190aa81320a</td>\n",
       "      <td>NaN</td>\n",
       "      <td>NaN</td>\n",
       "      <td>NaN</td>\n",
       "      <td>NaN</td>\n",
       "      <td>NaN</td>\n",
       "    </tr>\n",
       "  </tbody>\n",
       "</table>\n",
       "<p>3 rows × 37 columns</p>\n",
       "</div>"
      ],
      "text/plain": [
       "                      _id_x           pull_request_id external_id_x   state_x  \\\n",
       "0  5ff188803fba52c925be898d  5ff1887f3fba52c925be898c     143337164  APPROVED   \n",
       "1  5ff1919ecbcaee8d21c67e79  5ff1919ccbcaee8d21c67e75     489446018  APPROVED   \n",
       "2  5ff191a0cbcaee8d21c67e82  5ff1919ecbcaee8d21c67e7f     479608653  APPROVED   \n",
       "\n",
       "                                       description_x  \\\n",
       "0  The code looks good, ASN.1-like encoding is a ...   \n",
       "1                                                      \n",
       "2                                                      \n",
       "\n",
       "               creator_id_x        submitted_at author_association_x  \\\n",
       "0  5ff18872c26a57681e7b6d2b 2018-08-03 21:41:31          CONTRIBUTOR   \n",
       "1  5b4db0dc30a71b06bce03054 2020-09-16 09:32:52          CONTRIBUTOR   \n",
       "2  5b4db0dc30a71b06bce03054 2020-09-01 10:28:43          CONTRIBUTOR   \n",
       "\n",
       "                                 commit_sha    pull_request_commit_id  ...  \\\n",
       "0  b506949b50d56482e5bdf1123f99a7f2b952f25c                       NaN  ...   \n",
       "1  a309b67d74c2083d7808d1f7a6aaff22a2a75dd7  5ff1919dcbcaee8d21c67e76  ...   \n",
       "2  c21157ad10224d78291b3433914847f9227f038d  5ff1919fcbcaee8d21c67e80  ...   \n",
       "\n",
       "              source_branch                         source_commit_sha  \\\n",
       "0                    master  89583444040dc5423bb143435f23ae0814f24542   \n",
       "1                   WSS-678  a309b67d74c2083d7808d1f7a6aaff22a2a75dd7   \n",
       "2  wss4j-ws-security-common  c21157ad10224d78291b3433914847f9227f038d   \n",
       "\n",
       "                      target_repo_url target_branch  \\\n",
       "0   https://github.com/apache/ant-ivy        master   \n",
       "1  https://github.com/apache/ws-wss4j        master   \n",
       "2  https://github.com/apache/ws-wss4j        master   \n",
       "\n",
       "                          target_commit_sha  source_commit_id  \\\n",
       "0  89583444040dc5423bb143435f23ae0814f24542               NaN   \n",
       "1  1765c4149d700cac8aea5c1a3b78f2bdee8b6e71               NaN   \n",
       "2  e9c20e63dc1694dbc5e116e4c9e82190aa81320a               NaN   \n",
       "\n",
       "   target_commit_id merge_commit_id assignee_id lock_reason  \n",
       "0               NaN             NaN         NaN         NaN  \n",
       "1               NaN             NaN         NaN         NaN  \n",
       "2               NaN             NaN         NaN         NaN  \n",
       "\n",
       "[3 rows x 37 columns]"
      ]
     },
     "execution_count": 28,
     "metadata": {},
     "output_type": "execute_result"
    }
   ],
   "source": [
    "approved_pull_requests_closed_by_different_person.head(3)"
   ]
  },
  {
   "cell_type": "code",
   "execution_count": 29,
   "metadata": {
    "collapsed": false,
    "pycharm": {
     "name": "#%%\n"
    }
   },
   "outputs": [],
   "source": [
    "# Calculate the total review_time in hours\n",
    "approved_pull_requests_closed_by_different_person['review_time_in_hours'] = (approved_pull_requests_closed_by_different_person.apply(lambda x: (x['submitted_at'] - x['created_at']).total_seconds() / 60 / 60 if x['created_at'] and x['submitted_at'] else None, axis=1))\n",
    "\n"
   ]
  },
  {
   "cell_type": "code",
   "execution_count": 30,
   "metadata": {
    "collapsed": false,
    "pycharm": {
     "name": "#%%\n"
    }
   },
   "outputs": [
    {
     "data": {
      "text/plain": [
       "count    19771.000000\n",
       "mean       364.869039\n",
       "std       1487.596901\n",
       "min          0.005556\n",
       "25%          5.051806\n",
       "50%         34.950833\n",
       "75%        172.048472\n",
       "max      46427.839722\n",
       "Name: review_time_in_hours, dtype: float64"
      ]
     },
     "execution_count": 30,
     "metadata": {},
     "output_type": "execute_result"
    }
   ],
   "source": [
    "approved_pull_requests_closed_by_different_person['review_time_in_hours'].describe()"
   ]
  },
  {
   "cell_type": "code",
   "execution_count": 31,
   "metadata": {
    "collapsed": false,
    "pycharm": {
     "name": "#%%\n"
    }
   },
   "outputs": [
    {
     "data": {
      "text/plain": [
       "(0.17569444444444443, 1481.924861111111)"
      ]
     },
     "execution_count": 31,
     "metadata": {},
     "output_type": "execute_result"
    }
   ],
   "source": [
    "times = approved_pull_requests_closed_by_different_person['review_time_in_hours']\n",
    "approved_05, approved_95 = times.quantile([0.05, 0.95])\n",
    "approved_05, approved_95"
   ]
  },
  {
   "cell_type": "code",
   "execution_count": 32,
   "metadata": {
    "collapsed": false,
    "pycharm": {
     "name": "#%%\n"
    }
   },
   "outputs": [],
   "source": [
    "# Filter the outliers\n",
    "approved_review_times = approved_pull_requests_closed_by_different_person.where(approved_pull_requests_closed_by_different_person['review_time_in_hours'] >= approved_05).dropna(subset=['review_time_in_hours'])[['review_time_in_hours']]\n",
    "\n",
    "approved_review_times = approved_pull_requests_closed_by_different_person.where(approved_pull_requests_closed_by_different_person['review_time_in_hours'] <= approved_95).dropna(subset=['review_time_in_hours'])[['review_time_in_hours']]"
   ]
  },
  {
   "cell_type": "code",
   "execution_count": 33,
   "metadata": {
    "collapsed": false,
    "pycharm": {
     "name": "#%%\n"
    }
   },
   "outputs": [
    {
     "data": {
      "text/plain": [
       "count    18782.000000\n",
       "mean       135.655528\n",
       "std        246.469039\n",
       "min          0.005556\n",
       "25%          4.357361\n",
       "50%         28.017500\n",
       "75%        140.577153\n",
       "max       1481.506944\n",
       "Name: review_time_in_hours, dtype: float64"
      ]
     },
     "execution_count": 33,
     "metadata": {},
     "output_type": "execute_result"
    }
   ],
   "source": [
    "approved_review_times['review_time_in_hours'].describe()"
   ]
  },
  {
   "cell_type": "code",
   "execution_count": 34,
   "metadata": {
    "collapsed": false,
    "pycharm": {
     "name": "#%%\n"
    }
   },
   "outputs": [
    {
     "data": {
      "text/plain": [
       "2"
      ]
     },
     "execution_count": 34,
     "metadata": {},
     "output_type": "execute_result"
    }
   ],
   "source": [
    "mean_approved_review_time_in_days = round(approved_review_times.mean()[0] / 60)\n",
    "mean_approved_review_time_in_days"
   ]
  },
  {
   "cell_type": "code",
   "execution_count": 35,
   "metadata": {
    "collapsed": false,
    "pycharm": {
     "name": "#%%\n"
    }
   },
   "outputs": [
    {
     "data": {
      "image/png": "[encoded data removed]",
      "text/plain": [
       "<Figure size 432x288 with 1 Axes>"
      ]
     },
     "metadata": {
      "needs_background": "light"
     },
     "output_type": "display_data"
    }
   ],
   "source": [
    "\n",
    "plot = plt.hist(x=approved_review_times, bins=50)"
   ]
  },
  {
   "cell_type": "code",
   "execution_count": 36,
   "metadata": {
    "collapsed": false,
    "pycharm": {
     "name": "#%%\n"
    }
   },
   "outputs": [
    {
     "data": {
      "text/html": [
       "<div>\n",
       "<style scoped>\n",
       "    .dataframe tbody tr th:only-of-type {\n",
       "        vertical-align: middle;\n",
       "    }\n",
       "\n",
       "    .dataframe tbody tr th {\n",
       "        vertical-align: top;\n",
       "    }\n",
       "\n",
       "    .dataframe thead th {\n",
       "        text-align: right;\n",
       "    }\n",
       "</style>\n",
       "<table border=\"1\" class=\"dataframe\">\n",
       "  <thead>\n",
       "    <tr style=\"text-align: right;\">\n",
       "      <th></th>\n",
       "      <th>review_time_in_hours</th>\n",
       "    </tr>\n",
       "  </thead>\n",
       "  <tbody>\n",
       "    <tr>\n",
       "      <th>count</th>\n",
       "      <td>18782.000000</td>\n",
       "    </tr>\n",
       "    <tr>\n",
       "      <th>mean</th>\n",
       "      <td>135.655528</td>\n",
       "    </tr>\n",
       "    <tr>\n",
       "      <th>std</th>\n",
       "      <td>246.469039</td>\n",
       "    </tr>\n",
       "    <tr>\n",
       "      <th>min</th>\n",
       "      <td>0.005556</td>\n",
       "    </tr>\n",
       "    <tr>\n",
       "      <th>25%</th>\n",
       "      <td>4.357361</td>\n",
       "    </tr>\n",
       "    <tr>\n",
       "      <th>50%</th>\n",
       "      <td>28.017500</td>\n",
       "    </tr>\n",
       "    <tr>\n",
       "      <th>75%</th>\n",
       "      <td>140.577153</td>\n",
       "    </tr>\n",
       "    <tr>\n",
       "      <th>max</th>\n",
       "      <td>1481.506944</td>\n",
       "    </tr>\n",
       "  </tbody>\n",
       "</table>\n",
       "</div>"
      ],
      "text/plain": [
       "       review_time_in_hours\n",
       "count          18782.000000\n",
       "mean             135.655528\n",
       "std              246.469039\n",
       "min                0.005556\n",
       "25%                4.357361\n",
       "50%               28.017500\n",
       "75%              140.577153\n",
       "max             1481.506944"
      ]
     },
     "execution_count": 36,
     "metadata": {},
     "output_type": "execute_result"
    }
   ],
   "source": [
    "approved_review_times.describe()"
   ]
  },
  {
   "cell_type": "code",
   "execution_count": 37,
   "metadata": {
    "collapsed": false,
    "pycharm": {
     "name": "#%%\n"
    }
   },
   "outputs": [
    {
     "data": {
      "text/html": [
       "<div>\n",
       "<style scoped>\n",
       "    .dataframe tbody tr th:only-of-type {\n",
       "        vertical-align: middle;\n",
       "    }\n",
       "\n",
       "    .dataframe tbody tr th {\n",
       "        vertical-align: top;\n",
       "    }\n",
       "\n",
       "    .dataframe thead th {\n",
       "        text-align: right;\n",
       "    }\n",
       "</style>\n",
       "<table border=\"1\" class=\"dataframe\">\n",
       "  <thead>\n",
       "    <tr style=\"text-align: right;\">\n",
       "      <th></th>\n",
       "      <th>review_time_in_hours</th>\n",
       "    </tr>\n",
       "  </thead>\n",
       "  <tbody>\n",
       "    <tr>\n",
       "      <th>count</th>\n",
       "      <td>18782.000000</td>\n",
       "    </tr>\n",
       "    <tr>\n",
       "      <th>mean</th>\n",
       "      <td>135.655528</td>\n",
       "    </tr>\n",
       "    <tr>\n",
       "      <th>std</th>\n",
       "      <td>246.469039</td>\n",
       "    </tr>\n",
       "    <tr>\n",
       "      <th>min</th>\n",
       "      <td>0.005556</td>\n",
       "    </tr>\n",
       "    <tr>\n",
       "      <th>25%</th>\n",
       "      <td>4.357361</td>\n",
       "    </tr>\n",
       "    <tr>\n",
       "      <th>50%</th>\n",
       "      <td>28.017500</td>\n",
       "    </tr>\n",
       "    <tr>\n",
       "      <th>75%</th>\n",
       "      <td>140.577153</td>\n",
       "    </tr>\n",
       "    <tr>\n",
       "      <th>max</th>\n",
       "      <td>1481.506944</td>\n",
       "    </tr>\n",
       "  </tbody>\n",
       "</table>\n",
       "</div>"
      ],
      "text/plain": [
       "       review_time_in_hours\n",
       "count          18782.000000\n",
       "mean             135.655528\n",
       "std              246.469039\n",
       "min                0.005556\n",
       "25%                4.357361\n",
       "50%               28.017500\n",
       "75%              140.577153\n",
       "max             1481.506944"
      ]
     },
     "execution_count": 37,
     "metadata": {},
     "output_type": "execute_result"
    }
   ],
   "source": [
    "times = approved_review_times[['review_time_in_hours']]\n",
    "approved_under_an_hour = times.where(times['review_time_in_hours'] > 0).dropna()\n",
    "approved_under_an_hour.describe()"
   ]
  },
  {
   "cell_type": "code",
   "execution_count": 38,
   "metadata": {
    "collapsed": false,
    "pycharm": {
     "name": "#%%\n"
    }
   },
   "outputs": [
    {
     "data": {
      "text/plain": [
       "(array([14320.,  1797.,   934.,   557.,   325.,   262.,   208.,   167.,\n",
       "           98.,   114.]),\n",
       " array([5.55555556e-03, 1.48155694e+02, 2.96305833e+02, 4.44455972e+02,\n",
       "        5.92606111e+02, 7.40756250e+02, 8.88906389e+02, 1.03705653e+03,\n",
       "        1.18520667e+03, 1.33335681e+03, 1.48150694e+03]),\n",
       " <BarContainer object of 10 artists>)"
      ]
     },
     "execution_count": 38,
     "metadata": {},
     "output_type": "execute_result"
    },
    {
     "data": {
      "image/png": "[encoded data removed]",
      "text/plain": [
       "<Figure size 432x288 with 1 Axes>"
      ]
     },
     "metadata": {
      "needs_background": "light"
     },
     "output_type": "display_data"
    }
   ],
   "source": [
    "plt.hist(approved_under_an_hour)"
   ]
  },
  {
   "cell_type": "markdown",
   "metadata": {
    "collapsed": false,
    "pycharm": {
     "name": "#%% md\n"
    }
   },
   "source": [
    "### Closed pull requests"
   ]
  },
  {
   "cell_type": "code",
   "execution_count": 39,
   "metadata": {
    "collapsed": false,
    "pycharm": {
     "name": "#%%\n"
    }
   },
   "outputs": [
    {
     "data": {
      "text/html": [
       "<div>\n",
       "<style scoped>\n",
       "    .dataframe tbody tr th:only-of-type {\n",
       "        vertical-align: middle;\n",
       "    }\n",
       "\n",
       "    .dataframe tbody tr th {\n",
       "        vertical-align: top;\n",
       "    }\n",
       "\n",
       "    .dataframe thead th {\n",
       "        text-align: right;\n",
       "    }\n",
       "</style>\n",
       "<table border=\"1\" class=\"dataframe\">\n",
       "  <thead>\n",
       "    <tr style=\"text-align: right;\">\n",
       "      <th></th>\n",
       "      <th>_id</th>\n",
       "      <th>pull_request_id</th>\n",
       "      <th>external_id</th>\n",
       "      <th>created_at</th>\n",
       "      <th>author_id</th>\n",
       "      <th>commit_sha</th>\n",
       "      <th>commit_repo_url</th>\n",
       "      <th>event_type</th>\n",
       "      <th>additional_data</th>\n",
       "      <th>commit_id</th>\n",
       "    </tr>\n",
       "  </thead>\n",
       "  <tbody>\n",
       "    <tr>\n",
       "      <th>1</th>\n",
       "      <td>5ff188713fba52c925be892b</td>\n",
       "      <td>5ff1886f3fba52c925be8927</td>\n",
       "      <td>3202397715</td>\n",
       "      <td>2020-04-05 12:24:20</td>\n",
       "      <td>59bc22dcf2a4565fe9cfa0a7</td>\n",
       "      <td>NaN</td>\n",
       "      <td>NaN</td>\n",
       "      <td>closed</td>\n",
       "      <td>{'performed_via_github_app': None}</td>\n",
       "      <td>NaN</td>\n",
       "    </tr>\n",
       "    <tr>\n",
       "      <th>18</th>\n",
       "      <td>5ff1887f3fba52c925be898a</td>\n",
       "      <td>5ff1887d3fba52c925be8978</td>\n",
       "      <td>1775164932</td>\n",
       "      <td>2018-08-07 12:39:03</td>\n",
       "      <td>5ff1887dc26a57681e7b6ee1</td>\n",
       "      <td>NaN</td>\n",
       "      <td>NaN</td>\n",
       "      <td>closed</td>\n",
       "      <td>{'performed_via_github_app': None}</td>\n",
       "      <td>NaN</td>\n",
       "    </tr>\n",
       "    <tr>\n",
       "      <th>33</th>\n",
       "      <td>5ff188823fba52c925be89bb</td>\n",
       "      <td>5ff1887f3fba52c925be898c</td>\n",
       "      <td>1772018125</td>\n",
       "      <td>2018-08-06 05:18:53</td>\n",
       "      <td>5ff1887dc26a57681e7b6ee1</td>\n",
       "      <td>NaN</td>\n",
       "      <td>NaN</td>\n",
       "      <td>closed</td>\n",
       "      <td>{'performed_via_github_app': None}</td>\n",
       "      <td>NaN</td>\n",
       "    </tr>\n",
       "  </tbody>\n",
       "</table>\n",
       "</div>"
      ],
      "text/plain": [
       "                         _id           pull_request_id external_id  \\\n",
       "1   5ff188713fba52c925be892b  5ff1886f3fba52c925be8927  3202397715   \n",
       "18  5ff1887f3fba52c925be898a  5ff1887d3fba52c925be8978  1775164932   \n",
       "33  5ff188823fba52c925be89bb  5ff1887f3fba52c925be898c  1772018125   \n",
       "\n",
       "            created_at                 author_id commit_sha commit_repo_url  \\\n",
       "1  2020-04-05 12:24:20  59bc22dcf2a4565fe9cfa0a7        NaN             NaN   \n",
       "18 2018-08-07 12:39:03  5ff1887dc26a57681e7b6ee1        NaN             NaN   \n",
       "33 2018-08-06 05:18:53  5ff1887dc26a57681e7b6ee1        NaN             NaN   \n",
       "\n",
       "   event_type                     additional_data commit_id  \n",
       "1      closed  {'performed_via_github_app': None}       NaN  \n",
       "18     closed  {'performed_via_github_app': None}       NaN  \n",
       "33     closed  {'performed_via_github_app': None}       NaN  "
      ]
     },
     "execution_count": 39,
     "metadata": {},
     "output_type": "execute_result"
    }
   ],
   "source": [
    "# Get all the events closing a PR\n",
    "df_closed_prs = df_pull_request_event.where(df_pull_request_event['event_type'] == 'closed').dropna(subset=['_id'])\n",
    "df_closed_prs.head(3)"
   ]
  },
  {
   "cell_type": "code",
   "execution_count": 40,
   "metadata": {
    "collapsed": false,
    "pycharm": {
     "name": "#%%\n"
    }
   },
   "outputs": [
    {
     "data": {
      "text/plain": [
       "Index(['_id_x', 'pull_request_id', 'external_id_x', 'created_at_x',\n",
       "       'author_id', 'commit_sha', 'commit_repo_url', 'event_type',\n",
       "       'additional_data', 'commit_id', '_id_y', 'pull_request_system_id',\n",
       "       'external_id_y', 'title', 'description', 'is_draft', 'is_locked',\n",
       "       'author_association', 'created_at_y', 'updated_at', 'merged_at',\n",
       "       'creator_id', 'linked_user_ids', 'requested_reviewer_ids', 'state',\n",
       "       'labels', 'source_repo_url', 'source_branch', 'source_commit_sha',\n",
       "       'target_repo_url', 'target_branch', 'target_commit_sha',\n",
       "       'source_commit_id', 'target_commit_id', 'merge_commit_id',\n",
       "       'assignee_id', 'lock_reason'],\n",
       "      dtype='object')"
      ]
     },
     "execution_count": 40,
     "metadata": {},
     "output_type": "execute_result"
    }
   ],
   "source": [
    "df_closed_prs__annotated_with_pr_creator = pd.merge(df_closed_prs, df_pull_request, on='pull_request_id')\n",
    "df_closed_prs__annotated_with_pr_creator.columns"
   ]
  },
  {
   "cell_type": "code",
   "execution_count": 41,
   "metadata": {
    "collapsed": false,
    "pycharm": {
     "name": "#%%\n"
    }
   },
   "outputs": [
    {
     "data": {
      "text/html": [
       "<div>\n",
       "<style scoped>\n",
       "    .dataframe tbody tr th:only-of-type {\n",
       "        vertical-align: middle;\n",
       "    }\n",
       "\n",
       "    .dataframe tbody tr th {\n",
       "        vertical-align: top;\n",
       "    }\n",
       "\n",
       "    .dataframe thead th {\n",
       "        text-align: right;\n",
       "    }\n",
       "</style>\n",
       "<table border=\"1\" class=\"dataframe\">\n",
       "  <thead>\n",
       "    <tr style=\"text-align: right;\">\n",
       "      <th></th>\n",
       "      <th>author_id</th>\n",
       "      <th>creator_id</th>\n",
       "    </tr>\n",
       "  </thead>\n",
       "  <tbody>\n",
       "    <tr>\n",
       "      <th>0</th>\n",
       "      <td>59bc22dcf2a4565fe9cfa0a7</td>\n",
       "      <td>5ff1886fc26a57681e7b6cfe</td>\n",
       "    </tr>\n",
       "    <tr>\n",
       "      <th>7</th>\n",
       "      <td>59bc22dcf2a4565fe9cfa0a7</td>\n",
       "      <td>5ff18872c26a57681e7b6d2b</td>\n",
       "    </tr>\n",
       "    <tr>\n",
       "      <th>11</th>\n",
       "      <td>59bc22dcf2a4565fe9cfa0a7</td>\n",
       "      <td>59b9055bc335c776c30e850a</td>\n",
       "    </tr>\n",
       "    <tr>\n",
       "      <th>13</th>\n",
       "      <td>59bc22dcf2a4565fe9cfa0a7</td>\n",
       "      <td>5ff18872c26a57681e7b6d2b</td>\n",
       "    </tr>\n",
       "    <tr>\n",
       "      <th>14</th>\n",
       "      <td>59bc22dcf2a4565fe9cfa0a7</td>\n",
       "      <td>5ff18875c26a57681e7b6d68</td>\n",
       "    </tr>\n",
       "    <tr>\n",
       "      <th>...</th>\n",
       "      <td>...</td>\n",
       "      <td>...</td>\n",
       "    </tr>\n",
       "    <tr>\n",
       "      <th>46990</th>\n",
       "      <td>59bc22dcf2a4565fe9cfa0a7</td>\n",
       "      <td>5b6434e130a71b06bca36cd2</td>\n",
       "    </tr>\n",
       "    <tr>\n",
       "      <th>46991</th>\n",
       "      <td>5ff34a9dc26a57681ea38bf9</td>\n",
       "      <td>60fd84c6f73e2aa3902e825c</td>\n",
       "    </tr>\n",
       "    <tr>\n",
       "      <th>46992</th>\n",
       "      <td>59bc22dcf2a4565fe9cfa0a7</td>\n",
       "      <td>59bc1a03f2a4565fe9ce189c</td>\n",
       "    </tr>\n",
       "    <tr>\n",
       "      <th>46998</th>\n",
       "      <td>59bc22dcf2a4565fe9cfa0a7</td>\n",
       "      <td>59bc1a03f2a4565fe9ce189c</td>\n",
       "    </tr>\n",
       "    <tr>\n",
       "      <th>47009</th>\n",
       "      <td>5ff34a9dc26a57681ea38bf9</td>\n",
       "      <td>5ff1d47cc26a57681e81d6d6</td>\n",
       "    </tr>\n",
       "  </tbody>\n",
       "</table>\n",
       "<p>31616 rows × 2 columns</p>\n",
       "</div>"
      ],
      "text/plain": [
       "                      author_id                creator_id\n",
       "0      59bc22dcf2a4565fe9cfa0a7  5ff1886fc26a57681e7b6cfe\n",
       "7      59bc22dcf2a4565fe9cfa0a7  5ff18872c26a57681e7b6d2b\n",
       "11     59bc22dcf2a4565fe9cfa0a7  59b9055bc335c776c30e850a\n",
       "13     59bc22dcf2a4565fe9cfa0a7  5ff18872c26a57681e7b6d2b\n",
       "14     59bc22dcf2a4565fe9cfa0a7  5ff18875c26a57681e7b6d68\n",
       "...                         ...                       ...\n",
       "46990  59bc22dcf2a4565fe9cfa0a7  5b6434e130a71b06bca36cd2\n",
       "46991  5ff34a9dc26a57681ea38bf9  60fd84c6f73e2aa3902e825c\n",
       "46992  59bc22dcf2a4565fe9cfa0a7  59bc1a03f2a4565fe9ce189c\n",
       "46998  59bc22dcf2a4565fe9cfa0a7  59bc1a03f2a4565fe9ce189c\n",
       "47009  5ff34a9dc26a57681ea38bf9  5ff1d47cc26a57681e81d6d6\n",
       "\n",
       "[31616 rows x 2 columns]"
      ]
     },
     "execution_count": 41,
     "metadata": {},
     "output_type": "execute_result"
    }
   ],
   "source": [
    "# Get the PR's that were merged by someone that is not the same person as the one that opened the request\n",
    "closed_pull_requests_closed_by_different_person = df_closed_prs__annotated_with_pr_creator.where(df_closed_prs__annotated_with_pr_creator['author_id'] != df_closed_prs__annotated_with_pr_creator['creator_id']).dropna(subset=['author_id', 'creator_id'])\n",
    "\n",
    "closed_pull_requests_closed_by_different_person[['author_id', 'creator_id']]"
   ]
  },
  {
   "cell_type": "code",
   "execution_count": 42,
   "metadata": {
    "collapsed": false,
    "pycharm": {
     "name": "#%%\n"
    }
   },
   "outputs": [],
   "source": [
    "# Calculate the reivew time of closed pull requests\n",
    "closed_pull_requests_closed_by_different_person['review_time_in_hours'] = (closed_pull_requests_closed_by_different_person.apply(lambda x: (x['created_at_x'] - x['created_at_y']).total_seconds() / 60 / 60 if x['created_at_x'] and x['created_at_y'] else None, axis=1))\n"
   ]
  },
  {
   "cell_type": "code",
   "execution_count": 43,
   "metadata": {
    "collapsed": false,
    "pycharm": {
     "name": "#%%\n"
    }
   },
   "outputs": [
    {
     "data": {
      "text/plain": [
       "count    31616.000000\n",
       "mean      1090.622155\n",
       "std       4119.100288\n",
       "min          0.008611\n",
       "25%         18.781181\n",
       "50%         86.430139\n",
       "75%        339.807569\n",
       "max      69346.616111\n",
       "Name: review_time_in_hours, dtype: float64"
      ]
     },
     "execution_count": 43,
     "metadata": {},
     "output_type": "execute_result"
    }
   ],
   "source": [
    "closed_pull_requests_closed_by_different_person['review_time_in_hours'].describe()"
   ]
  },
  {
   "cell_type": "code",
   "execution_count": 44,
   "metadata": {
    "collapsed": false,
    "pycharm": {
     "name": "#%%\n"
    }
   },
   "outputs": [
    {
     "data": {
      "text/plain": [
       "(0.7643055555555556, 5312.072847222222)"
      ]
     },
     "execution_count": 44,
     "metadata": {},
     "output_type": "execute_result"
    }
   ],
   "source": [
    "times = closed_pull_requests_closed_by_different_person['review_time_in_hours']\n",
    "closed_05, closed_95 = times.quantile([0.05, 0.95])\n",
    "closed_05, closed_95"
   ]
  },
  {
   "cell_type": "code",
   "execution_count": 45,
   "metadata": {
    "collapsed": false,
    "pycharm": {
     "name": "#%%\n"
    }
   },
   "outputs": [],
   "source": [
    "# Filter really low values\n",
    "closed_review_times = closed_pull_requests_closed_by_different_person.where(closed_pull_requests_closed_by_different_person['review_time_in_hours'] >= closed_05).dropna(subset=['review_time_in_hours'])[['review_time_in_hours']]\n",
    "\n",
    "closed_review_times = closed_pull_requests_closed_by_different_person.where(closed_pull_requests_closed_by_different_person['review_time_in_hours'] <= closed_95).dropna(subset=['review_time_in_hours'])[['review_time_in_hours']]\n"
   ]
  },
  {
   "cell_type": "code",
   "execution_count": 46,
   "metadata": {
    "collapsed": false,
    "pycharm": {
     "name": "#%%\n"
    }
   },
   "outputs": [
    {
     "data": {
      "image/png": "[encoded data removed]",
      "text/plain": [
       "<Figure size 432x288 with 1 Axes>"
      ]
     },
     "metadata": {
      "needs_background": "light"
     },
     "output_type": "display_data"
    }
   ],
   "source": [
    "plot = plt.hist(x=closed_review_times, bins=50)"
   ]
  },
  {
   "cell_type": "code",
   "execution_count": 47,
   "metadata": {
    "collapsed": false,
    "pycharm": {
     "name": "#%%\n"
    }
   },
   "outputs": [
    {
     "data": {
      "text/html": [
       "<div>\n",
       "<style scoped>\n",
       "    .dataframe tbody tr th:only-of-type {\n",
       "        vertical-align: middle;\n",
       "    }\n",
       "\n",
       "    .dataframe tbody tr th {\n",
       "        vertical-align: top;\n",
       "    }\n",
       "\n",
       "    .dataframe thead th {\n",
       "        text-align: right;\n",
       "    }\n",
       "</style>\n",
       "<table border=\"1\" class=\"dataframe\">\n",
       "  <thead>\n",
       "    <tr style=\"text-align: right;\">\n",
       "      <th></th>\n",
       "      <th>review_time_in_hours</th>\n",
       "    </tr>\n",
       "  </thead>\n",
       "  <tbody>\n",
       "    <tr>\n",
       "      <th>count</th>\n",
       "      <td>30035.000000</td>\n",
       "    </tr>\n",
       "    <tr>\n",
       "      <th>mean</th>\n",
       "      <td>325.966631</td>\n",
       "    </tr>\n",
       "    <tr>\n",
       "      <th>std</th>\n",
       "      <td>705.852023</td>\n",
       "    </tr>\n",
       "    <tr>\n",
       "      <th>min</th>\n",
       "      <td>0.008611</td>\n",
       "    </tr>\n",
       "    <tr>\n",
       "      <th>25%</th>\n",
       "      <td>17.154028</td>\n",
       "    </tr>\n",
       "    <tr>\n",
       "      <th>50%</th>\n",
       "      <td>73.311944</td>\n",
       "    </tr>\n",
       "    <tr>\n",
       "      <th>75%</th>\n",
       "      <td>269.121944</td>\n",
       "    </tr>\n",
       "    <tr>\n",
       "      <th>max</th>\n",
       "      <td>5310.835000</td>\n",
       "    </tr>\n",
       "  </tbody>\n",
       "</table>\n",
       "</div>"
      ],
      "text/plain": [
       "       review_time_in_hours\n",
       "count          30035.000000\n",
       "mean             325.966631\n",
       "std              705.852023\n",
       "min                0.008611\n",
       "25%               17.154028\n",
       "50%               73.311944\n",
       "75%              269.121944\n",
       "max             5310.835000"
      ]
     },
     "execution_count": 47,
     "metadata": {},
     "output_type": "execute_result"
    }
   ],
   "source": [
    "closed_review_times.describe()"
   ]
  },
  {
   "cell_type": "code",
   "execution_count": 48,
   "metadata": {
    "collapsed": false,
    "pycharm": {
     "name": "#%%\n"
    }
   },
   "outputs": [
    {
     "data": {
      "text/plain": [
       "5"
      ]
     },
     "execution_count": 48,
     "metadata": {},
     "output_type": "execute_result"
    }
   ],
   "source": [
    "mean_closed_review_time_in_days = round(closed_review_times.mean()[0] / 60)\n",
    "mean_closed_review_time_in_days"
   ]
  },
  {
   "cell_type": "code",
   "execution_count": 49,
   "metadata": {
    "collapsed": false,
    "pycharm": {
     "name": "#%%\n"
    }
   },
   "outputs": [
    {
     "name": "stdout",
     "output_type": "stream",
     "text": [
      "Approved PR's take on average 2 days, whilst closed PR's take on average 5 days\n"
     ]
    }
   ],
   "source": [
    "print(f\"Approved PR's take on average {mean_approved_review_time_in_days} days, whilst closed PR's take on average {mean_closed_review_time_in_days} days\")"
   ]
  },
  {
   "cell_type": "markdown",
   "id": "f6d59916",
   "metadata": {
    "collapsed": false,
    "pycharm": {
     "name": "#%% md\n"
    }
   },
   "source": [
    "### Pull requests changes vs review time"
   ]
  },
  {
   "cell_type": "code",
   "execution_count": 59,
   "id": "2a9d589f",
   "metadata": {
    "collapsed": false,
    "pycharm": {
     "name": "#%%\n"
    }
   },
   "outputs": [
    {
     "data": {
      "text/html": [
       "<div>\n",
       "<style scoped>\n",
       "    .dataframe tbody tr th:only-of-type {\n",
       "        vertical-align: middle;\n",
       "    }\n",
       "\n",
       "    .dataframe tbody tr th {\n",
       "        vertical-align: top;\n",
       "    }\n",
       "\n",
       "    .dataframe thead th {\n",
       "        text-align: right;\n",
       "    }\n",
       "</style>\n",
       "<table border=\"1\" class=\"dataframe\">\n",
       "  <thead>\n",
       "    <tr style=\"text-align: right;\">\n",
       "      <th></th>\n",
       "      <th>pull_request_id</th>\n",
       "      <th>changes</th>\n",
       "    </tr>\n",
       "  </thead>\n",
       "  <tbody>\n",
       "    <tr>\n",
       "      <th>0</th>\n",
       "      <td>5ff1886f3fba52c925be8927</td>\n",
       "      <td>2</td>\n",
       "    </tr>\n",
       "    <tr>\n",
       "      <th>1</th>\n",
       "      <td>5ff188723fba52c925be892c</td>\n",
       "      <td>40</td>\n",
       "    </tr>\n",
       "    <tr>\n",
       "      <th>2</th>\n",
       "      <td>5ff188743fba52c925be8933</td>\n",
       "      <td>42</td>\n",
       "    </tr>\n",
       "    <tr>\n",
       "      <th>3</th>\n",
       "      <td>5ff188763fba52c925be893d</td>\n",
       "      <td>110</td>\n",
       "    </tr>\n",
       "    <tr>\n",
       "      <th>4</th>\n",
       "      <td>5ff188783fba52c925be8951</td>\n",
       "      <td>16</td>\n",
       "    </tr>\n",
       "    <tr>\n",
       "      <th>...</th>\n",
       "      <td>...</td>\n",
       "      <td>...</td>\n",
       "    </tr>\n",
       "    <tr>\n",
       "      <th>46934</th>\n",
       "      <td>60fd84e6d2c6e7fd6ac8f14d</td>\n",
       "      <td>10</td>\n",
       "    </tr>\n",
       "    <tr>\n",
       "      <th>46935</th>\n",
       "      <td>60fd84e9d2c6e7fd6ac8f161</td>\n",
       "      <td>602</td>\n",
       "    </tr>\n",
       "    <tr>\n",
       "      <th>46936</th>\n",
       "      <td>60fd84ebd2c6e7fd6ac8f17a</td>\n",
       "      <td>13</td>\n",
       "    </tr>\n",
       "    <tr>\n",
       "      <th>46937</th>\n",
       "      <td>60fd84eed2c6e7fd6ac8f188</td>\n",
       "      <td>3</td>\n",
       "    </tr>\n",
       "    <tr>\n",
       "      <th>46938</th>\n",
       "      <td>60fd84f0d2c6e7fd6ac8f18d</td>\n",
       "      <td>12</td>\n",
       "    </tr>\n",
       "  </tbody>\n",
       "</table>\n",
       "<p>46939 rows × 2 columns</p>\n",
       "</div>"
      ],
      "text/plain": [
       "                pull_request_id  changes\n",
       "0      5ff1886f3fba52c925be8927        2\n",
       "1      5ff188723fba52c925be892c       40\n",
       "2      5ff188743fba52c925be8933       42\n",
       "3      5ff188763fba52c925be893d      110\n",
       "4      5ff188783fba52c925be8951       16\n",
       "...                         ...      ...\n",
       "46934  60fd84e6d2c6e7fd6ac8f14d       10\n",
       "46935  60fd84e9d2c6e7fd6ac8f161      602\n",
       "46936  60fd84ebd2c6e7fd6ac8f17a       13\n",
       "46937  60fd84eed2c6e7fd6ac8f188        3\n",
       "46938  60fd84f0d2c6e7fd6ac8f18d       12\n",
       "\n",
       "[46939 rows x 2 columns]"
      ]
     },
     "execution_count": 59,
     "metadata": {},
     "output_type": "execute_result"
    }
   ],
   "source": [
    "# Get all the pull_request_file information \n",
    "df_pull_request_merge_PR_file = pd.merge(df_pull_request, df_pull_request_file, on='pull_request_id')\n",
    "#df_pull_request_merge_PR_file[['pull_request_id', 'status', 'changes']]\n",
    "\n",
    "# create dict for storing each unique pull_request_id as key\n",
    "# update the total changes for each key's value\n",
    "data_dict = {}\n",
    "\n",
    "# iterate rows\n",
    "for i in df_pull_request_merge_PR_file.index:\n",
    "    cur_pr_id = df_pull_request_merge_PR_file['pull_request_id'][i]\n",
    "    cur_pr_changes = df_pull_request_merge_PR_file['changes'][i]\n",
    "\n",
    "    if \"{}\".format(cur_pr_id) in data_dict.keys():\n",
    "        data_dict [\"{}\".format(cur_pr_id)] += cur_pr_changes \n",
    "    else:\n",
    "        data_dict [\"{}\".format(cur_pr_id)] = cur_pr_changes\n",
    "\n",
    "# convert dict to df\n",
    "data_items = data_dict.items()\n",
    "data_list = list(data_items)\n",
    "df_pr_changes = pd.DataFrame(data_list)\n",
    "df_pr_changes.columns = ['pull_request_id', 'changes']\n",
    "\n",
    "df_pr_changes\n"
   ]
  },
  {
   "cell_type": "code",
   "execution_count": 63,
   "id": "174326d8",
   "metadata": {},
   "outputs": [
    {
     "data": {
      "text/html": [
       "<div>\n",
       "<style scoped>\n",
       "    .dataframe tbody tr th:only-of-type {\n",
       "        vertical-align: middle;\n",
       "    }\n",
       "\n",
       "    .dataframe tbody tr th {\n",
       "        vertical-align: top;\n",
       "    }\n",
       "\n",
       "    .dataframe thead th {\n",
       "        text-align: right;\n",
       "    }\n",
       "</style>\n",
       "<table border=\"1\" class=\"dataframe\">\n",
       "  <thead>\n",
       "    <tr style=\"text-align: right;\">\n",
       "      <th></th>\n",
       "      <th>pull_request_id</th>\n",
       "      <th>review_time_in_hours</th>\n",
       "      <th>changes</th>\n",
       "    </tr>\n",
       "  </thead>\n",
       "  <tbody>\n",
       "    <tr>\n",
       "      <th>0</th>\n",
       "      <td>5ff1919ccbcaee8d21c67e75</td>\n",
       "      <td>23.346667</td>\n",
       "      <td>42</td>\n",
       "    </tr>\n",
       "    <tr>\n",
       "      <th>1</th>\n",
       "      <td>5ff1919ecbcaee8d21c67e7f</td>\n",
       "      <td>2.522500</td>\n",
       "      <td>57</td>\n",
       "    </tr>\n",
       "    <tr>\n",
       "      <th>2</th>\n",
       "      <td>5ff191a2cbcaee8d21c67e93</td>\n",
       "      <td>3.795556</td>\n",
       "      <td>18</td>\n",
       "    </tr>\n",
       "  </tbody>\n",
       "</table>\n",
       "</div>"
      ],
      "text/plain": [
       "            pull_request_id  review_time_in_hours  changes\n",
       "0  5ff1919ccbcaee8d21c67e75             23.346667       42\n",
       "1  5ff1919ecbcaee8d21c67e7f              2.522500       57\n",
       "2  5ff191a2cbcaee8d21c67e93              3.795556       18"
      ]
     },
     "execution_count": 63,
     "metadata": {},
     "output_type": "execute_result"
    }
   ],
   "source": [
    "# reference with approved PRs\n",
    "approved_PR_with_changes = pd.merge(approved_pull_requests_closed_by_different_person, df_pr_changes, on='pull_request_id', how='inner')\n",
    "approved_PR_with_changes[['pull_request_id', 'review_time_in_hours','changes']].head(3)"
   ]
  },
  {
   "cell_type": "code",
   "execution_count": 64,
   "id": "199c0d18",
   "metadata": {},
   "outputs": [
    {
     "data": {
      "text/html": [
       "<div>\n",
       "<style scoped>\n",
       "    .dataframe tbody tr th:only-of-type {\n",
       "        vertical-align: middle;\n",
       "    }\n",
       "\n",
       "    .dataframe tbody tr th {\n",
       "        vertical-align: top;\n",
       "    }\n",
       "\n",
       "    .dataframe thead th {\n",
       "        text-align: right;\n",
       "    }\n",
       "</style>\n",
       "<table border=\"1\" class=\"dataframe\">\n",
       "  <thead>\n",
       "    <tr style=\"text-align: right;\">\n",
       "      <th></th>\n",
       "      <th>changes</th>\n",
       "    </tr>\n",
       "  </thead>\n",
       "  <tbody>\n",
       "    <tr>\n",
       "      <th>count</th>\n",
       "      <td>19743.000000</td>\n",
       "    </tr>\n",
       "    <tr>\n",
       "      <th>mean</th>\n",
       "      <td>355.697462</td>\n",
       "    </tr>\n",
       "    <tr>\n",
       "      <th>std</th>\n",
       "      <td>1921.984806</td>\n",
       "    </tr>\n",
       "    <tr>\n",
       "      <th>min</th>\n",
       "      <td>0.000000</td>\n",
       "    </tr>\n",
       "    <tr>\n",
       "      <th>25%</th>\n",
       "      <td>12.000000</td>\n",
       "    </tr>\n",
       "    <tr>\n",
       "      <th>50%</th>\n",
       "      <td>54.000000</td>\n",
       "    </tr>\n",
       "    <tr>\n",
       "      <th>75%</th>\n",
       "      <td>206.000000</td>\n",
       "    </tr>\n",
       "    <tr>\n",
       "      <th>max</th>\n",
       "      <td>109325.000000</td>\n",
       "    </tr>\n",
       "  </tbody>\n",
       "</table>\n",
       "</div>"
      ],
      "text/plain": [
       "             changes\n",
       "count   19743.000000\n",
       "mean      355.697462\n",
       "std      1921.984806\n",
       "min         0.000000\n",
       "25%        12.000000\n",
       "50%        54.000000\n",
       "75%       206.000000\n",
       "max    109325.000000"
      ]
     },
     "execution_count": 64,
     "metadata": {},
     "output_type": "execute_result"
    }
   ],
   "source": [
    "approved_PR_with_changes[['changes']].describe()"
   ]
  },
  {
   "cell_type": "code",
   "execution_count": 72,
   "id": "7a1fa826",
   "metadata": {},
   "outputs": [
    {
     "data": {
      "text/plain": [
       "<AxesSubplot:xlabel='review_time_in_hours', ylabel='changes'>"
      ]
     },
     "execution_count": 72,
     "metadata": {},
     "output_type": "execute_result"
    },
    {
     "data": {
      "image/png": "[encoded data removed]",
      "text/plain": [
       "<Figure size 432x288 with 1 Axes>"
      ]
     },
     "metadata": {
      "needs_background": "light"
     },
     "output_type": "display_data"
    },
    {
     "data": {
      "image/png": "[encoded data removed]",
      "text/plain": [
       "<Figure size 432x288 with 1 Axes>"
      ]
     },
     "metadata": {
      "needs_background": "light"
     },
     "output_type": "display_data"
    }
   ],
   "source": [
    "# plot the approved PRs review time vs total changes\n",
    "\n",
    "changes_lp, changes_hp = approved_PR_with_changes['changes'].quantile([0.05, 0.95])\n",
    "time_lp, time_hp = approved_PR_with_changes['changes'].quantile([0.05, 0.95])\n",
    "filter_approved_pr = approved_PR_with_changes.where(approved_PR_with_changes['changes'] >= changes_lp)\n",
    "filter_approved_pr = filter_approved_pr.where(filter_approved_pr['changes'] <= changes_hp)\n",
    "filter_approved_pr = filter_approved_pr.where(filter_approved_pr['review_time_in_hours'] >= time_lp)\n",
    "filter_approved_pr = filter_approved_pr.where(filter_approved_pr['review_time_in_hours'] <= time_hp)\n",
    "\n",
    "filter_approved_pr.plot(kind='scatter', x='review_time_in_hours', y='changes')\n",
    "approved_PR_with_changes.plot(kind='scatter', x='review_time_in_hours', y='changes')\n"
   ]
  },
  {
   "cell_type": "code",
   "execution_count": 62,
   "id": "037f9272",
   "metadata": {},
   "outputs": [
    {
     "data": {
      "text/html": [
       "<div>\n",
       "<style scoped>\n",
       "    .dataframe tbody tr th:only-of-type {\n",
       "        vertical-align: middle;\n",
       "    }\n",
       "\n",
       "    .dataframe tbody tr th {\n",
       "        vertical-align: top;\n",
       "    }\n",
       "\n",
       "    .dataframe thead th {\n",
       "        text-align: right;\n",
       "    }\n",
       "</style>\n",
       "<table border=\"1\" class=\"dataframe\">\n",
       "  <thead>\n",
       "    <tr style=\"text-align: right;\">\n",
       "      <th></th>\n",
       "      <th>pull_request_id</th>\n",
       "      <th>review_time_in_hours</th>\n",
       "      <th>changes</th>\n",
       "    </tr>\n",
       "  </thead>\n",
       "  <tbody>\n",
       "    <tr>\n",
       "      <th>0</th>\n",
       "      <td>5ff1886f3fba52c925be8927</td>\n",
       "      <td>1.967778</td>\n",
       "      <td>2</td>\n",
       "    </tr>\n",
       "    <tr>\n",
       "      <th>1</th>\n",
       "      <td>5ff188933fba52c925be8a42</td>\n",
       "      <td>152.296944</td>\n",
       "      <td>243</td>\n",
       "    </tr>\n",
       "    <tr>\n",
       "      <th>2</th>\n",
       "      <td>5ff188a33fba52c925be8b2e</td>\n",
       "      <td>422.500833</td>\n",
       "      <td>11</td>\n",
       "    </tr>\n",
       "  </tbody>\n",
       "</table>\n",
       "</div>"
      ],
      "text/plain": [
       "            pull_request_id  review_time_in_hours  changes\n",
       "0  5ff1886f3fba52c925be8927              1.967778        2\n",
       "1  5ff188933fba52c925be8a42            152.296944      243\n",
       "2  5ff188a33fba52c925be8b2e            422.500833       11"
      ]
     },
     "execution_count": 62,
     "metadata": {},
     "output_type": "execute_result"
    }
   ],
   "source": [
    "# reference with closed PRs\n",
    "closed_PR_with_changes = pd.merge(closed_pull_requests_closed_by_different_person, df_pr_changes, on='pull_request_id', how='inner')\n",
    "closed_PR_with_changes[['pull_request_id', 'review_time_in_hours','changes']].head(3)"
   ]
  },
  {
   "cell_type": "code",
   "execution_count": 73,
   "id": "75853d78",
   "metadata": {},
   "outputs": [
    {
     "data": {
      "text/plain": [
       "<AxesSubplot:xlabel='review_time_in_hours', ylabel='changes'>"
      ]
     },
     "execution_count": 73,
     "metadata": {},
     "output_type": "execute_result"
    },
    {
     "data": {
      "image/png": "[encoded data removed]",
      "text/plain": [
       "<Figure size 432x288 with 1 Axes>"
      ]
     },
     "metadata": {
      "needs_background": "light"
     },
     "output_type": "display_data"
    },
    {
     "data": {
      "image/png": "[encoded data removed]",
      "text/plain": [
       "<Figure size 432x288 with 1 Axes>"
      ]
     },
     "metadata": {
      "needs_background": "light"
     },
     "output_type": "display_data"
    }
   ],
   "source": [
    "# plot the closed PRs review time vs total changes\n",
    "\n",
    "changes_lp, changes_hp = closed_PR_with_changes['changes'].quantile([0.05, 0.95])\n",
    "time_lp, time_hp = closed_PR_with_changes['changes'].quantile([0.05, 0.95])\n",
    "filter_closed_pr = closed_PR_with_changes.where(closed_PR_with_changes['changes'] >= changes_lp)\n",
    "filter_closed_pr = filter_closed_pr.where(filter_closed_pr['changes'] <= changes_hp)\n",
    "filter_closed_pr = filter_closed_pr.where(filter_closed_pr['review_time_in_hours'] >= time_lp)\n",
    "filter_closed_pr = filter_closed_pr.where(filter_closed_pr['review_time_in_hours'] <= time_hp)\n",
    "\n",
    "filter_closed_pr.plot(kind='scatter', x='review_time_in_hours', y='changes')\n",
    "closed_PR_with_changes.plot(kind='scatter', x='review_time_in_hours', y='changes')"
   ]
  }
 ],
 "metadata": {
  "kernelspec": {
   "display_name": "Python 3",
   "language": "python",
   "name": "python3"
  },
  "language_info": {
   "codemirror_mode": {
    "name": "ipython",
    "version": 3
   },
   "file_extension": ".py",
   "mimetype": "text/x-python",
   "name": "python",
   "nbconvert_exporter": "python",
   "pygments_lexer": "ipython3",
   "version": "3.10.1"
  },
  "toc": {
   "base_numbering": 1,
   "nav_menu": {},
   "number_sections": true,
   "sideBar": true,
   "skip_h1_title": false,
   "title_cell": "Table of Contents",
   "title_sidebar": "Contents",
   "toc_cell": true,
   "toc_position": {},
   "toc_section_display": true,
   "toc_window_display": false
  },
  "varInspector": {
   "cols": {
    "lenName": 16,
    "lenType": 16,
    "lenVar": 40
   },
   "kernels_config": {
    "python": {
     "delete_cmd_postfix": "",
     "delete_cmd_prefix": "del ",
     "library": "var_list.py",
     "varRefreshCmd": "print(var_dic_list())"
    },
    "r": {
     "delete_cmd_postfix": ") ",
     "delete_cmd_prefix": "rm(",
     "library": "var_list.r",
     "varRefreshCmd": "cat(var_dic_list()) "
    }
   },
   "types_to_exclude": [
    "module",
    "function",
    "builtin_function_or_method",
    "instance",
    "_Feature"
   ],
   "window_display": false
  }
 },
 "nbformat": 4,
 "nbformat_minor": 5
}
