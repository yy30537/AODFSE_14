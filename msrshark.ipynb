{
 "cells": [
  {
   "cell_type": "markdown",
   "id": "standing-honey",
   "metadata": {
    "pycharm": {
     "name": "#%% md\n"
    },
    "toc": true
   },
   "source": [
    "<h1>Table of Contents<span class=\"tocSkip\"></span></h1>\n",
    "<div class=\"toc\"><ul class=\"toc-item\"></ul></div>"
   ]
  },
  {
   "cell_type": "code",
   "execution_count": 11,
   "id": "cf81835b-2b84-4901-b40e-0ce18e53cc50",
   "metadata": {},
   "outputs": [
    {
     "name": "stdout",
     "output_type": "stream",
     "text": [
      "Databases present are ['smartshark_2_1']\n",
      "Found 1 repos\n",
      "There are 7222 commits for commons-math\n"
     ]
    }
   ],
   "source": [
    "from pymongo import MongoClient\n",
    "connection = MongoClient(\n",
    "    host=\"research.cassee.dev:27017\",\n",
    "    username=\"read-shark\",\n",
    "    password=\"msr2021shark\")\n",
    "\n",
    "print(f\"Databases present are {connection.list_database_names()}\")\n",
    "\n",
    "db = connection.smartshark_2_1\n",
    "\n",
    "project = db.project.find_one({})\n",
    "\n",
    "repos = list(db.vcs_system.find({'project_id':project['_id']}))\n",
    "\n",
    "print(f\"Found {len(repos)} repos\")\n",
    "\n",
    "commits = db.commit.count_documents({'vcs_system_id': {'$in': [x[\"_id\"] for x in repos]}})\n",
    "\n",
    "print(f\"There are {commits} commits for {project['name']}\")"
   ]
  },
  {
   "cell_type": "code",
   "execution_count": 12,
   "id": "military-windsor",
   "metadata": {},
   "outputs": [],
   "source": [
    "import pandas as pd\n",
    "from bson.json_util import dumps\n",
    "from json import loads\n",
    "import bson\n",
    "from matplotlib import pyplot as plt"
   ]
  },
  {
   "cell_type": "code",
   "execution_count": 13,
   "id": "contained-cleanup",
   "metadata": {},
   "outputs": [
    {
     "name": "stdout",
     "output_type": "stream",
     "text": [
      "Database(MongoClient(host=['research.cassee.dev:27017'], document_class=dict, tz_aware=False, connect=True), 'smartshark_2_1')\n"
     ]
    }
   ],
   "source": [
    "db = connection['smartshark_2_1']\n",
    "print(db)"
   ]
  },
  {
   "cell_type": "code",
   "execution_count": 14,
   "id": "4b57ed38",
   "metadata": {
    "pycharm": {
     "name": "#%%\n"
    }
   },
   "outputs": [],
   "source": [
    "def convert_object_ids(df, keys):\n",
    "    for x in keys:\n",
    "        df[x] = (df.apply(lambda y: loads(dumps(y[x] if type(y[x]) == bson.objectid.ObjectId else {'$oid': None}))['$oid'], axis=1))\n"
   ]
  },
  {
   "cell_type": "code",
   "execution_count": 6,
   "id": "4f33e27c",
   "metadata": {
    "pycharm": {
     "name": "#%%\n"
    }
   },
   "outputs": [],
   "source": [
    "# Get the people dataset and convert the ObjectIds to strings\n",
    "df_people = pd.DataFrame(list(db.people.find({})))\n",
    "convert_object_ids(df_people, ['_id'])"
   ]
  },
  {
   "cell_type": "code",
   "execution_count": 7,
   "id": "fec1f49b",
   "metadata": {
    "pycharm": {
     "name": "#%%\n"
    }
   },
   "outputs": [],
   "source": [
    "# Get the project dataset and convert the ObjectIds to strings\n",
    "df_project = pd.DataFrame(list(db.project.find({})))\n",
    "convert_object_ids(df_project, ['_id'])"
   ]
  },
  {
   "cell_type": "code",
   "execution_count": 16,
   "id": "ff18c6e3",
   "metadata": {
    "pycharm": {
     "name": "#%%\n"
    }
   },
   "outputs": [
    {
     "data": {
      "text/html": [
       "<div>\n",
       "<style scoped>\n",
       "    .dataframe tbody tr th:only-of-type {\n",
       "        vertical-align: middle;\n",
       "    }\n",
       "\n",
       "    .dataframe tbody tr th {\n",
       "        vertical-align: top;\n",
       "    }\n",
       "\n",
       "    .dataframe thead th {\n",
       "        text-align: right;\n",
       "    }\n",
       "</style>\n",
       "<table border=\"1\" class=\"dataframe\">\n",
       "  <thead>\n",
       "    <tr style=\"text-align: right;\">\n",
       "      <th></th>\n",
       "      <th>_id</th>\n",
       "      <th>pull_request_system_id</th>\n",
       "      <th>external_id</th>\n",
       "      <th>title</th>\n",
       "      <th>description</th>\n",
       "      <th>is_draft</th>\n",
       "      <th>is_locked</th>\n",
       "      <th>author_association</th>\n",
       "      <th>created_at</th>\n",
       "      <th>updated_at</th>\n",
       "      <th>...</th>\n",
       "      <th>source_branch</th>\n",
       "      <th>source_commit_sha</th>\n",
       "      <th>target_repo_url</th>\n",
       "      <th>target_branch</th>\n",
       "      <th>target_commit_sha</th>\n",
       "      <th>source_commit_id</th>\n",
       "      <th>target_commit_id</th>\n",
       "      <th>merge_commit_id</th>\n",
       "      <th>assignee_id</th>\n",
       "      <th>lock_reason</th>\n",
       "    </tr>\n",
       "  </thead>\n",
       "  <tbody>\n",
       "    <tr>\n",
       "      <th>0</th>\n",
       "      <td>5ff1886f3fba52c925be8927</td>\n",
       "      <td>5ff1886a3fba52c925be8926</td>\n",
       "      <td>93</td>\n",
       "      <td>RetrieveEngine: remove superfluous space in error</td>\n",
       "      <td></td>\n",
       "      <td>False</td>\n",
       "      <td>False</td>\n",
       "      <td>CONTRIBUTOR</td>\n",
       "      <td>2020-04-05 10:26:16</td>\n",
       "      <td>2020-04-05 12:24:21</td>\n",
       "      <td>...</td>\n",
       "      <td>patch-1</td>\n",
       "      <td>bb8cfa726cb93f8f77b59125e80e06cf2fc1b7f6</td>\n",
       "      <td>https://github.com/apache/ant-ivy</td>\n",
       "      <td>master</td>\n",
       "      <td>87de65450494a13a0ce2a86bd21742e2ac8c999a</td>\n",
       "      <td>NaN</td>\n",
       "      <td>NaN</td>\n",
       "      <td>NaN</td>\n",
       "      <td>NaN</td>\n",
       "      <td>NaN</td>\n",
       "    </tr>\n",
       "  </tbody>\n",
       "</table>\n",
       "<p>1 rows × 27 columns</p>\n",
       "</div>"
      ],
      "text/plain": [
       "                        _id    pull_request_system_id external_id  \\\n",
       "0  5ff1886f3fba52c925be8927  5ff1886a3fba52c925be8926          93   \n",
       "\n",
       "                                               title description  is_draft  \\\n",
       "0  RetrieveEngine: remove superfluous space in error                 False   \n",
       "\n",
       "   is_locked author_association          created_at          updated_at  ...  \\\n",
       "0      False        CONTRIBUTOR 2020-04-05 10:26:16 2020-04-05 12:24:21  ...   \n",
       "\n",
       "  source_branch                         source_commit_sha  \\\n",
       "0       patch-1  bb8cfa726cb93f8f77b59125e80e06cf2fc1b7f6   \n",
       "\n",
       "                     target_repo_url target_branch  \\\n",
       "0  https://github.com/apache/ant-ivy        master   \n",
       "\n",
       "                          target_commit_sha source_commit_id target_commit_id  \\\n",
       "0  87de65450494a13a0ce2a86bd21742e2ac8c999a              NaN              NaN   \n",
       "\n",
       "  merge_commit_id assignee_id lock_reason  \n",
       "0             NaN         NaN         NaN  \n",
       "\n",
       "[1 rows x 27 columns]"
      ]
     },
     "execution_count": 16,
     "metadata": {},
     "output_type": "execute_result"
    }
   ],
   "source": [
    "# Get the PR dataset and convert the ObjectIds to strings\n",
    "df_pull_request = pd.DataFrame(list(db.pull_request.find({})))\n",
    "convert_object_ids(df_pull_request, [\n",
    "    '_id',\n",
    "    # 'assignee_id',\n",
    "    'creator_id',\n",
    "    # 'merge_commit_id',\n",
    "    'pull_request_system_id',\n",
    "    # 'requested_reviewer_ids',\n",
    "    # 'source_commit_id',\n",
    "    # 'target_commit_id'\n",
    "])\n",
    "df_pull_request.head(1)"
   ]
  },
  {
   "cell_type": "code",
   "execution_count": 17,
   "id": "97b5a463",
   "metadata": {
    "pycharm": {
     "name": "#%%\n"
    }
   },
   "outputs": [
    {
     "data": {
      "text/html": [
       "<div>\n",
       "<style scoped>\n",
       "    .dataframe tbody tr th:only-of-type {\n",
       "        vertical-align: middle;\n",
       "    }\n",
       "\n",
       "    .dataframe tbody tr th {\n",
       "        vertical-align: top;\n",
       "    }\n",
       "\n",
       "    .dataframe thead th {\n",
       "        text-align: right;\n",
       "    }\n",
       "</style>\n",
       "<table border=\"1\" class=\"dataframe\">\n",
       "  <thead>\n",
       "    <tr style=\"text-align: right;\">\n",
       "      <th></th>\n",
       "      <th>_id</th>\n",
       "      <th>pull_request_id</th>\n",
       "      <th>external_id</th>\n",
       "      <th>state</th>\n",
       "      <th>description</th>\n",
       "      <th>creator_id</th>\n",
       "      <th>submitted_at</th>\n",
       "      <th>author_association</th>\n",
       "      <th>commit_sha</th>\n",
       "      <th>pull_request_commit_id</th>\n",
       "    </tr>\n",
       "  </thead>\n",
       "  <tbody>\n",
       "    <tr>\n",
       "      <th>0</th>\n",
       "      <td>5ff188803fba52c925be898d</td>\n",
       "      <td>5ff1887f3fba52c925be898c</td>\n",
       "      <td>143337164</td>\n",
       "      <td>APPROVED</td>\n",
       "      <td>The code looks good, ASN.1-like encoding is a ...</td>\n",
       "      <td>5ff18872c26a57681e7b6d2b</td>\n",
       "      <td>2018-08-03 21:41:31</td>\n",
       "      <td>CONTRIBUTOR</td>\n",
       "      <td>b506949b50d56482e5bdf1123f99a7f2b952f25c</td>\n",
       "      <td>NaN</td>\n",
       "    </tr>\n",
       "  </tbody>\n",
       "</table>\n",
       "</div>"
      ],
      "text/plain": [
       "                        _id           pull_request_id external_id     state  \\\n",
       "0  5ff188803fba52c925be898d  5ff1887f3fba52c925be898c   143337164  APPROVED   \n",
       "\n",
       "                                         description  \\\n",
       "0  The code looks good, ASN.1-like encoding is a ...   \n",
       "\n",
       "                 creator_id        submitted_at author_association  \\\n",
       "0  5ff18872c26a57681e7b6d2b 2018-08-03 21:41:31        CONTRIBUTOR   \n",
       "\n",
       "                                 commit_sha pull_request_commit_id  \n",
       "0  b506949b50d56482e5bdf1123f99a7f2b952f25c                    NaN  "
      ]
     },
     "execution_count": 17,
     "metadata": {},
     "output_type": "execute_result"
    }
   ],
   "source": [
    "# Get the PR_review dataset and convert the ObjectIds to strings\n",
    "df_pull_request_review = pd.DataFrame(list(db.pull_request_review.find({})))\n",
    "convert_object_ids(df_pull_request_review, [\n",
    "    '_id',\n",
    "    'creator_id',\n",
    "    # 'pull_request_commit_id',\n",
    "    'pull_request_id'\n",
    "])\n",
    "df_pull_request_review.head(1)"
   ]
  },
  {
   "cell_type": "code",
   "execution_count": 57,
   "id": "a88ce1e7",
   "metadata": {
    "pycharm": {
     "name": "#%%\n"
    }
   },
   "outputs": [
    {
     "data": {
      "text/html": [
       "<div>\n",
       "<style scoped>\n",
       "    .dataframe tbody tr th:only-of-type {\n",
       "        vertical-align: middle;\n",
       "    }\n",
       "\n",
       "    .dataframe tbody tr th {\n",
       "        vertical-align: top;\n",
       "    }\n",
       "\n",
       "    .dataframe thead th {\n",
       "        text-align: right;\n",
       "    }\n",
       "</style>\n",
       "<table border=\"1\" class=\"dataframe\">\n",
       "  <thead>\n",
       "    <tr style=\"text-align: right;\">\n",
       "      <th></th>\n",
       "      <th>_id</th>\n",
       "      <th>pull_request_id</th>\n",
       "      <th>external_id</th>\n",
       "      <th>created_at</th>\n",
       "      <th>author_id</th>\n",
       "      <th>commit_sha</th>\n",
       "      <th>commit_repo_url</th>\n",
       "      <th>event_type</th>\n",
       "      <th>additional_data</th>\n",
       "      <th>commit_id</th>\n",
       "    </tr>\n",
       "  </thead>\n",
       "  <tbody>\n",
       "    <tr>\n",
       "      <th>0</th>\n",
       "      <td>5ff188713fba52c925be892a</td>\n",
       "      <td>5ff1886f3fba52c925be8927</td>\n",
       "      <td>3202397712</td>\n",
       "      <td>2020-04-05 12:24:20</td>\n",
       "      <td>59bc22dcf2a4565fe9cfa0a7</td>\n",
       "      <td>bb8cfa726cb93f8f77b59125e80e06cf2fc1b7f6</td>\n",
       "      <td>https://github.com/apache/ant-ivy</td>\n",
       "      <td>merged</td>\n",
       "      <td>{'performed_via_github_app': None}</td>\n",
       "      <td>NaN</td>\n",
       "    </tr>\n",
       "  </tbody>\n",
       "</table>\n",
       "</div>"
      ],
      "text/plain": [
       "                        _id           pull_request_id external_id  \\\n",
       "0  5ff188713fba52c925be892a  5ff1886f3fba52c925be8927  3202397712   \n",
       "\n",
       "           created_at                 author_id  \\\n",
       "0 2020-04-05 12:24:20  59bc22dcf2a4565fe9cfa0a7   \n",
       "\n",
       "                                 commit_sha  \\\n",
       "0  bb8cfa726cb93f8f77b59125e80e06cf2fc1b7f6   \n",
       "\n",
       "                     commit_repo_url event_type  \\\n",
       "0  https://github.com/apache/ant-ivy     merged   \n",
       "\n",
       "                      additional_data commit_id  \n",
       "0  {'performed_via_github_app': None}       NaN  "
      ]
     },
     "execution_count": 57,
     "metadata": {},
     "output_type": "execute_result"
    }
   ],
   "source": [
    "# Get the PR_review dataset and convert the ObjectIds to strings\n",
    "df_pull_request_event = pd.DataFrame(list(db.pull_request_event.find({})))\n",
    "convert_object_ids(df_pull_request_event, [\n",
    "    '_id',\n",
    "    'author_id',\n",
    "    # 'commit_id',\n",
    "    # 'pull_request_commit_id',\n",
    "    'pull_request_id'\n",
    "])\n",
    "df_pull_request_event.head(1)"
   ]
  },
  {
   "cell_type": "code",
   "execution_count": 19,
   "id": "cb96e322",
   "metadata": {},
   "outputs": [
    {
     "data": {
      "text/html": [
       "<div>\n",
       "<style scoped>\n",
       "    .dataframe tbody tr th:only-of-type {\n",
       "        vertical-align: middle;\n",
       "    }\n",
       "\n",
       "    .dataframe tbody tr th {\n",
       "        vertical-align: top;\n",
       "    }\n",
       "\n",
       "    .dataframe thead th {\n",
       "        text-align: right;\n",
       "    }\n",
       "</style>\n",
       "<table border=\"1\" class=\"dataframe\">\n",
       "  <thead>\n",
       "    <tr style=\"text-align: right;\">\n",
       "      <th></th>\n",
       "      <th>_id</th>\n",
       "      <th>project_id</th>\n",
       "      <th>url</th>\n",
       "      <th>last_updated</th>\n",
       "    </tr>\n",
       "  </thead>\n",
       "  <tbody>\n",
       "    <tr>\n",
       "      <th>0</th>\n",
       "      <td>5ff1886a3fba52c925be8926</td>\n",
       "      <td>58c8979e0da3ef6363ccb8de</td>\n",
       "      <td>https://api.github.com/repos/apache/ant-ivy/pulls</td>\n",
       "      <td>2021-01-03 10:03:38.742</td>\n",
       "    </tr>\n",
       "  </tbody>\n",
       "</table>\n",
       "</div>"
      ],
      "text/plain": [
       "                        _id                project_id  \\\n",
       "0  5ff1886a3fba52c925be8926  58c8979e0da3ef6363ccb8de   \n",
       "\n",
       "                                                 url            last_updated  \n",
       "0  https://api.github.com/repos/apache/ant-ivy/pulls 2021-01-03 10:03:38.742  "
      ]
     },
     "execution_count": 19,
     "metadata": {},
     "output_type": "execute_result"
    }
   ],
   "source": [
    "# Get the PR_review_system dataset\n",
    "df_pull_request_system = pd.DataFrame(list(db.pull_request_system.find({})))\n",
    "convert_object_ids(df_pull_request_system, [\n",
    "    '_id',\n",
    "    'project_id',\n",
    "])\n",
    "df_pull_request_system.head(1)"
   ]
  },
  {
   "cell_type": "code",
   "execution_count": 20,
   "id": "ee7cfc07",
   "metadata": {
    "pycharm": {
     "name": "#%%\n"
    }
   },
   "outputs": [],
   "source": [
    "# Create the same identifier so that we can join\n",
    "df_pull_request['pull_request_id'] = df_pull_request['_id']\n",
    "df_pull_request_review['pull_request_review_id']=df_pull_request_review['_id']\n",
    "df_pull_request_system['pull_request_system_id']=df_pull_request_system['_id']"
   ]
  },
  {
   "cell_type": "markdown",
   "id": "7e0e875c",
   "metadata": {},
   "source": [
    "### Number of reviewers per project"
   ]
  },
  {
   "cell_type": "code",
   "execution_count": 42,
   "id": "97a0ccee",
   "metadata": {
    "scrolled": true
   },
   "outputs": [
    {
     "data": {
      "text/html": [
       "<div>\n",
       "<style scoped>\n",
       "    .dataframe tbody tr th:only-of-type {\n",
       "        vertical-align: middle;\n",
       "    }\n",
       "\n",
       "    .dataframe tbody tr th {\n",
       "        vertical-align: top;\n",
       "    }\n",
       "\n",
       "    .dataframe thead th {\n",
       "        text-align: right;\n",
       "    }\n",
       "</style>\n",
       "<table border=\"1\" class=\"dataframe\">\n",
       "  <thead>\n",
       "    <tr style=\"text-align: right;\">\n",
       "      <th></th>\n",
       "      <th>_id_x</th>\n",
       "      <th>project_id</th>\n",
       "      <th>url</th>\n",
       "      <th>last_updated</th>\n",
       "      <th>pull_request_system_id</th>\n",
       "      <th>_id_y</th>\n",
       "      <th>external_id_x</th>\n",
       "      <th>title</th>\n",
       "      <th>description_x</th>\n",
       "      <th>is_draft</th>\n",
       "      <th>...</th>\n",
       "      <th>_id</th>\n",
       "      <th>external_id_y</th>\n",
       "      <th>state_y</th>\n",
       "      <th>description_y</th>\n",
       "      <th>creator_id_y</th>\n",
       "      <th>submitted_at</th>\n",
       "      <th>author_association_y</th>\n",
       "      <th>commit_sha</th>\n",
       "      <th>pull_request_commit_id</th>\n",
       "      <th>pull_request_review_id</th>\n",
       "    </tr>\n",
       "  </thead>\n",
       "  <tbody>\n",
       "    <tr>\n",
       "      <th>0</th>\n",
       "      <td>5ff1886a3fba52c925be8926</td>\n",
       "      <td>58c8979e0da3ef6363ccb8de</td>\n",
       "      <td>https://api.github.com/repos/apache/ant-ivy/pulls</td>\n",
       "      <td>2021-01-03 10:03:38.742</td>\n",
       "      <td>5ff1886a3fba52c925be8926</td>\n",
       "      <td>5ff1887f3fba52c925be898c</td>\n",
       "      <td>73</td>\n",
       "      <td>IVY-1104 Include attributes qualifiers in the ...</td>\n",
       "      <td>### Issue\\r\\n`${ivy.deps.changed}` is always `...</td>\n",
       "      <td>False</td>\n",
       "      <td>...</td>\n",
       "      <td>5ff188803fba52c925be898d</td>\n",
       "      <td>143337164</td>\n",
       "      <td>APPROVED</td>\n",
       "      <td>The code looks good, ASN.1-like encoding is a ...</td>\n",
       "      <td>5ff18872c26a57681e7b6d2b</td>\n",
       "      <td>2018-08-03 21:41:31</td>\n",
       "      <td>CONTRIBUTOR</td>\n",
       "      <td>b506949b50d56482e5bdf1123f99a7f2b952f25c</td>\n",
       "      <td>NaN</td>\n",
       "      <td>5ff188803fba52c925be898d</td>\n",
       "    </tr>\n",
       "    <tr>\n",
       "      <th>1</th>\n",
       "      <td>5ff1886a3fba52c925be8926</td>\n",
       "      <td>58c8979e0da3ef6363ccb8de</td>\n",
       "      <td>https://api.github.com/repos/apache/ant-ivy/pulls</td>\n",
       "      <td>2021-01-03 10:03:38.742</td>\n",
       "      <td>5ff1886a3fba52c925be8926</td>\n",
       "      <td>5ff1887f3fba52c925be898c</td>\n",
       "      <td>73</td>\n",
       "      <td>IVY-1104 Include attributes qualifiers in the ...</td>\n",
       "      <td>### Issue\\r\\n`${ivy.deps.changed}` is always `...</td>\n",
       "      <td>False</td>\n",
       "      <td>...</td>\n",
       "      <td>5ff188803fba52c925be898f</td>\n",
       "      <td>143344703</td>\n",
       "      <td>COMMENTED</td>\n",
       "      <td></td>\n",
       "      <td>5ff1887dc26a57681e7b6ee1</td>\n",
       "      <td>2018-08-03 21:47:53</td>\n",
       "      <td>CONTRIBUTOR</td>\n",
       "      <td>b506949b50d56482e5bdf1123f99a7f2b952f25c</td>\n",
       "      <td>NaN</td>\n",
       "      <td>5ff188803fba52c925be898f</td>\n",
       "    </tr>\n",
       "    <tr>\n",
       "      <th>2</th>\n",
       "      <td>5ff1886a3fba52c925be8926</td>\n",
       "      <td>58c8979e0da3ef6363ccb8de</td>\n",
       "      <td>https://api.github.com/repos/apache/ant-ivy/pulls</td>\n",
       "      <td>2021-01-03 10:03:38.742</td>\n",
       "      <td>5ff1886a3fba52c925be8926</td>\n",
       "      <td>5ff188843fba52c925be89c6</td>\n",
       "      <td>71</td>\n",
       "      <td>Ivy main/standalone: Patch to include 'makepom...</td>\n",
       "      <td>Hello,\\r\\n\\r\\nI added the pomfile option to ma...</td>\n",
       "      <td>False</td>\n",
       "      <td>...</td>\n",
       "      <td>5ff188853fba52c925be89ca</td>\n",
       "      <td>107610203</td>\n",
       "      <td>COMMENTED</td>\n",
       "      <td></td>\n",
       "      <td>5ff18875c26a57681e7b6d68</td>\n",
       "      <td>2018-03-28 09:46:39</td>\n",
       "      <td>MEMBER</td>\n",
       "      <td>5e814ad7a84ffb2a9d4df72fc801e9b8d6aa2f64</td>\n",
       "      <td>5ff188843fba52c925be89c7</td>\n",
       "      <td>5ff188853fba52c925be89ca</td>\n",
       "    </tr>\n",
       "  </tbody>\n",
       "</table>\n",
       "<p>3 rows × 42 columns</p>\n",
       "</div>"
      ],
      "text/plain": [
       "                      _id_x                project_id  \\\n",
       "0  5ff1886a3fba52c925be8926  58c8979e0da3ef6363ccb8de   \n",
       "1  5ff1886a3fba52c925be8926  58c8979e0da3ef6363ccb8de   \n",
       "2  5ff1886a3fba52c925be8926  58c8979e0da3ef6363ccb8de   \n",
       "\n",
       "                                                 url            last_updated  \\\n",
       "0  https://api.github.com/repos/apache/ant-ivy/pulls 2021-01-03 10:03:38.742   \n",
       "1  https://api.github.com/repos/apache/ant-ivy/pulls 2021-01-03 10:03:38.742   \n",
       "2  https://api.github.com/repos/apache/ant-ivy/pulls 2021-01-03 10:03:38.742   \n",
       "\n",
       "     pull_request_system_id                     _id_y external_id_x  \\\n",
       "0  5ff1886a3fba52c925be8926  5ff1887f3fba52c925be898c            73   \n",
       "1  5ff1886a3fba52c925be8926  5ff1887f3fba52c925be898c            73   \n",
       "2  5ff1886a3fba52c925be8926  5ff188843fba52c925be89c6            71   \n",
       "\n",
       "                                               title  \\\n",
       "0  IVY-1104 Include attributes qualifiers in the ...   \n",
       "1  IVY-1104 Include attributes qualifiers in the ...   \n",
       "2  Ivy main/standalone: Patch to include 'makepom...   \n",
       "\n",
       "                                       description_x  is_draft  ...  \\\n",
       "0  ### Issue\\r\\n`${ivy.deps.changed}` is always `...     False  ...   \n",
       "1  ### Issue\\r\\n`${ivy.deps.changed}` is always `...     False  ...   \n",
       "2  Hello,\\r\\n\\r\\nI added the pomfile option to ma...     False  ...   \n",
       "\n",
       "                        _id external_id_y    state_y  \\\n",
       "0  5ff188803fba52c925be898d     143337164   APPROVED   \n",
       "1  5ff188803fba52c925be898f     143344703  COMMENTED   \n",
       "2  5ff188853fba52c925be89ca     107610203  COMMENTED   \n",
       "\n",
       "                                       description_y  \\\n",
       "0  The code looks good, ASN.1-like encoding is a ...   \n",
       "1                                                      \n",
       "2                                                      \n",
       "\n",
       "               creator_id_y        submitted_at author_association_y  \\\n",
       "0  5ff18872c26a57681e7b6d2b 2018-08-03 21:41:31          CONTRIBUTOR   \n",
       "1  5ff1887dc26a57681e7b6ee1 2018-08-03 21:47:53          CONTRIBUTOR   \n",
       "2  5ff18875c26a57681e7b6d68 2018-03-28 09:46:39               MEMBER   \n",
       "\n",
       "                                 commit_sha    pull_request_commit_id  \\\n",
       "0  b506949b50d56482e5bdf1123f99a7f2b952f25c                       NaN   \n",
       "1  b506949b50d56482e5bdf1123f99a7f2b952f25c                       NaN   \n",
       "2  5e814ad7a84ffb2a9d4df72fc801e9b8d6aa2f64  5ff188843fba52c925be89c7   \n",
       "\n",
       "     pull_request_review_id  \n",
       "0  5ff188803fba52c925be898d  \n",
       "1  5ff188803fba52c925be898f  \n",
       "2  5ff188853fba52c925be89ca  \n",
       "\n",
       "[3 rows x 42 columns]"
      ]
     },
     "execution_count": 42,
     "metadata": {},
     "output_type": "execute_result"
    }
   ],
   "source": [
    "# Join\n",
    "df_review_project_list = pd.merge(df_pull_request_system, df_pull_request, on='pull_request_system_id')\n",
    "df_reviewer_list = pd.merge(df_review_project_list, df_pull_request_review, on='pull_request_id')\n",
    "df_reviewer_list.head(3)"
   ]
  },
  {
   "cell_type": "code",
   "execution_count": 61,
   "id": "8b80ecf6",
   "metadata": {
    "scrolled": false
   },
   "outputs": [
    {
     "data": {
      "text/html": [
       "<div>\n",
       "<style scoped>\n",
       "    .dataframe tbody tr th:only-of-type {\n",
       "        vertical-align: middle;\n",
       "    }\n",
       "\n",
       "    .dataframe tbody tr th {\n",
       "        vertical-align: top;\n",
       "    }\n",
       "\n",
       "    .dataframe thead th {\n",
       "        text-align: right;\n",
       "    }\n",
       "</style>\n",
       "<table border=\"1\" class=\"dataframe\">\n",
       "  <thead>\n",
       "    <tr style=\"text-align: right;\">\n",
       "      <th></th>\n",
       "      <th>project_id</th>\n",
       "      <th>creator_id_y</th>\n",
       "    </tr>\n",
       "  </thead>\n",
       "  <tbody>\n",
       "    <tr>\n",
       "      <th>0</th>\n",
       "      <td>58bfd5860da3ef7cef464c78</td>\n",
       "      <td>9</td>\n",
       "    </tr>\n",
       "    <tr>\n",
       "      <th>1</th>\n",
       "      <td>58c8979e0da3ef6363ccb8de</td>\n",
       "      <td>5</td>\n",
       "    </tr>\n",
       "    <tr>\n",
       "      <th>2</th>\n",
       "      <td>5b0fa95e0da3ef431af80833</td>\n",
       "      <td>599</td>\n",
       "    </tr>\n",
       "    <tr>\n",
       "      <th>3</th>\n",
       "      <td>5b110ee90da3ef05a99f0de6</td>\n",
       "      <td>195</td>\n",
       "    </tr>\n",
       "    <tr>\n",
       "      <th>4</th>\n",
       "      <td>5b1f9fbb0da3ef49b7d0a480</td>\n",
       "      <td>10</td>\n",
       "    </tr>\n",
       "    <tr>\n",
       "      <th>...</th>\n",
       "      <td>...</td>\n",
       "      <td>...</td>\n",
       "    </tr>\n",
       "    <tr>\n",
       "      <th>67</th>\n",
       "      <td>608b9e8d4064fcb5083898b5</td>\n",
       "      <td>7</td>\n",
       "    </tr>\n",
       "    <tr>\n",
       "      <th>68</th>\n",
       "      <td>608c3a354064fcb5083898b6</td>\n",
       "      <td>68</td>\n",
       "    </tr>\n",
       "    <tr>\n",
       "      <th>69</th>\n",
       "      <td>60a24a6992d37bcecc65bf82</td>\n",
       "      <td>3</td>\n",
       "    </tr>\n",
       "    <tr>\n",
       "      <th>70</th>\n",
       "      <td>60a24a978d56179891397c71</td>\n",
       "      <td>4</td>\n",
       "    </tr>\n",
       "    <tr>\n",
       "      <th>71</th>\n",
       "      <td>60a24ac427ad48a9ceb48656</td>\n",
       "      <td>8</td>\n",
       "    </tr>\n",
       "  </tbody>\n",
       "</table>\n",
       "<p>72 rows × 2 columns</p>\n",
       "</div>"
      ],
      "text/plain": [
       "                  project_id  creator_id_y\n",
       "0   58bfd5860da3ef7cef464c78             9\n",
       "1   58c8979e0da3ef6363ccb8de             5\n",
       "2   5b0fa95e0da3ef431af80833           599\n",
       "3   5b110ee90da3ef05a99f0de6           195\n",
       "4   5b1f9fbb0da3ef49b7d0a480            10\n",
       "..                       ...           ...\n",
       "67  608b9e8d4064fcb5083898b5             7\n",
       "68  608c3a354064fcb5083898b6            68\n",
       "69  60a24a6992d37bcecc65bf82             3\n",
       "70  60a24a978d56179891397c71             4\n",
       "71  60a24ac427ad48a9ceb48656             8\n",
       "\n",
       "[72 rows x 2 columns]"
      ]
     },
     "execution_count": 61,
     "metadata": {},
     "output_type": "execute_result"
    }
   ],
   "source": [
    "df_group_by_project = df_reviewer_list.groupby('project_id')\n",
    "#print(df_group_by_project.get_group(\"58c8979e0da3ef6363ccb8de\"))\n",
    "df_group_by_project_stastic = df_group_by_project['creator_id_y'].nunique()\n",
    "df_group_by_project_stastic.reset_index()"
   ]
  },
  {
   "cell_type": "markdown",
   "id": "5207dbdc",
   "metadata": {},
   "source": [
    "### Review time per project"
   ]
  },
  {
   "cell_type": "code",
   "execution_count": null,
   "id": "8d483c4f",
   "metadata": {},
   "outputs": [],
   "source": []
  },
  {
   "cell_type": "markdown",
   "id": "f4304a8b",
   "metadata": {},
   "source": [
    "### Approve rate per project"
   ]
  },
  {
   "cell_type": "code",
   "execution_count": 56,
   "id": "54f46199",
   "metadata": {},
   "outputs": [
    {
     "ename": "KeyError",
     "evalue": "'event_type'",
     "output_type": "error",
     "traceback": [
      "\u001b[0;31m---------------------------------------------------------------------------\u001b[0m",
      "\u001b[0;31mKeyError\u001b[0m                                  Traceback (most recent call last)",
      "\u001b[0;32m~/.pyenv/versions/3.9.4/lib/python3.9/site-packages/pandas/core/indexes/base.py\u001b[0m in \u001b[0;36mget_loc\u001b[0;34m(self, key, method, tolerance)\u001b[0m\n\u001b[1;32m   3360\u001b[0m             \u001b[0;32mtry\u001b[0m\u001b[0;34m:\u001b[0m\u001b[0;34m\u001b[0m\u001b[0;34m\u001b[0m\u001b[0m\n\u001b[0;32m-> 3361\u001b[0;31m                 \u001b[0;32mreturn\u001b[0m \u001b[0mself\u001b[0m\u001b[0;34m.\u001b[0m\u001b[0m_engine\u001b[0m\u001b[0;34m.\u001b[0m\u001b[0mget_loc\u001b[0m\u001b[0;34m(\u001b[0m\u001b[0mcasted_key\u001b[0m\u001b[0;34m)\u001b[0m\u001b[0;34m\u001b[0m\u001b[0;34m\u001b[0m\u001b[0m\n\u001b[0m\u001b[1;32m   3362\u001b[0m             \u001b[0;32mexcept\u001b[0m \u001b[0mKeyError\u001b[0m \u001b[0;32mas\u001b[0m \u001b[0merr\u001b[0m\u001b[0;34m:\u001b[0m\u001b[0;34m\u001b[0m\u001b[0;34m\u001b[0m\u001b[0m\n",
      "\u001b[0;32m~/.pyenv/versions/3.9.4/lib/python3.9/site-packages/pandas/_libs/index.pyx\u001b[0m in \u001b[0;36mpandas._libs.index.IndexEngine.get_loc\u001b[0;34m()\u001b[0m\n",
      "\u001b[0;32m~/.pyenv/versions/3.9.4/lib/python3.9/site-packages/pandas/_libs/index.pyx\u001b[0m in \u001b[0;36mpandas._libs.index.IndexEngine.get_loc\u001b[0;34m()\u001b[0m\n",
      "\u001b[0;32mpandas/_libs/hashtable_class_helper.pxi\u001b[0m in \u001b[0;36mpandas._libs.hashtable.PyObjectHashTable.get_item\u001b[0;34m()\u001b[0m\n",
      "\u001b[0;32mpandas/_libs/hashtable_class_helper.pxi\u001b[0m in \u001b[0;36mpandas._libs.hashtable.PyObjectHashTable.get_item\u001b[0;34m()\u001b[0m\n",
      "\u001b[0;31mKeyError\u001b[0m: 'event_type'",
      "\nThe above exception was the direct cause of the following exception:\n",
      "\u001b[0;31mKeyError\u001b[0m                                  Traceback (most recent call last)",
      "\u001b[0;32m/var/folders/49/38pjxqd16vv6bjkcmxj98l1r0000gn/T/ipykernel_1147/370432915.py\u001b[0m in \u001b[0;36m<module>\u001b[0;34m\u001b[0m\n\u001b[1;32m      1\u001b[0m \u001b[0;31m# Get all the events closing a PR\u001b[0m\u001b[0;34m\u001b[0m\u001b[0;34m\u001b[0m\u001b[0;34m\u001b[0m\u001b[0m\n\u001b[0;32m----> 2\u001b[0;31m \u001b[0mdf_closed_prs\u001b[0m \u001b[0;34m=\u001b[0m \u001b[0mdf_pull_request_event\u001b[0m\u001b[0;34m.\u001b[0m\u001b[0mwhere\u001b[0m\u001b[0;34m(\u001b[0m\u001b[0mdf_pull_request_event\u001b[0m\u001b[0;34m[\u001b[0m\u001b[0;34m'event_type'\u001b[0m\u001b[0;34m]\u001b[0m \u001b[0;34m==\u001b[0m \u001b[0;34m'closed'\u001b[0m\u001b[0;34m)\u001b[0m\u001b[0;34m.\u001b[0m\u001b[0mdropna\u001b[0m\u001b[0;34m(\u001b[0m\u001b[0msubset\u001b[0m\u001b[0;34m=\u001b[0m\u001b[0;34m[\u001b[0m\u001b[0;34m'_id'\u001b[0m\u001b[0;34m]\u001b[0m\u001b[0;34m)\u001b[0m\u001b[0;34m\u001b[0m\u001b[0;34m\u001b[0m\u001b[0m\n\u001b[0m\u001b[1;32m      3\u001b[0m \u001b[0mdf_closed_prs\u001b[0m\u001b[0;34m.\u001b[0m\u001b[0mhead\u001b[0m\u001b[0;34m(\u001b[0m\u001b[0;36m3\u001b[0m\u001b[0;34m)\u001b[0m\u001b[0;34m\u001b[0m\u001b[0;34m\u001b[0m\u001b[0m\n",
      "\u001b[0;32m~/.pyenv/versions/3.9.4/lib/python3.9/site-packages/pandas/core/frame.py\u001b[0m in \u001b[0;36m__getitem__\u001b[0;34m(self, key)\u001b[0m\n\u001b[1;32m   3456\u001b[0m             \u001b[0;32mif\u001b[0m \u001b[0mself\u001b[0m\u001b[0;34m.\u001b[0m\u001b[0mcolumns\u001b[0m\u001b[0;34m.\u001b[0m\u001b[0mnlevels\u001b[0m \u001b[0;34m>\u001b[0m \u001b[0;36m1\u001b[0m\u001b[0;34m:\u001b[0m\u001b[0;34m\u001b[0m\u001b[0;34m\u001b[0m\u001b[0m\n\u001b[1;32m   3457\u001b[0m                 \u001b[0;32mreturn\u001b[0m \u001b[0mself\u001b[0m\u001b[0;34m.\u001b[0m\u001b[0m_getitem_multilevel\u001b[0m\u001b[0;34m(\u001b[0m\u001b[0mkey\u001b[0m\u001b[0;34m)\u001b[0m\u001b[0;34m\u001b[0m\u001b[0;34m\u001b[0m\u001b[0m\n\u001b[0;32m-> 3458\u001b[0;31m             \u001b[0mindexer\u001b[0m \u001b[0;34m=\u001b[0m \u001b[0mself\u001b[0m\u001b[0;34m.\u001b[0m\u001b[0mcolumns\u001b[0m\u001b[0;34m.\u001b[0m\u001b[0mget_loc\u001b[0m\u001b[0;34m(\u001b[0m\u001b[0mkey\u001b[0m\u001b[0;34m)\u001b[0m\u001b[0;34m\u001b[0m\u001b[0;34m\u001b[0m\u001b[0m\n\u001b[0m\u001b[1;32m   3459\u001b[0m             \u001b[0;32mif\u001b[0m \u001b[0mis_integer\u001b[0m\u001b[0;34m(\u001b[0m\u001b[0mindexer\u001b[0m\u001b[0;34m)\u001b[0m\u001b[0;34m:\u001b[0m\u001b[0;34m\u001b[0m\u001b[0;34m\u001b[0m\u001b[0m\n\u001b[1;32m   3460\u001b[0m                 \u001b[0mindexer\u001b[0m \u001b[0;34m=\u001b[0m \u001b[0;34m[\u001b[0m\u001b[0mindexer\u001b[0m\u001b[0;34m]\u001b[0m\u001b[0;34m\u001b[0m\u001b[0;34m\u001b[0m\u001b[0m\n",
      "\u001b[0;32m~/.pyenv/versions/3.9.4/lib/python3.9/site-packages/pandas/core/indexes/base.py\u001b[0m in \u001b[0;36mget_loc\u001b[0;34m(self, key, method, tolerance)\u001b[0m\n\u001b[1;32m   3361\u001b[0m                 \u001b[0;32mreturn\u001b[0m \u001b[0mself\u001b[0m\u001b[0;34m.\u001b[0m\u001b[0m_engine\u001b[0m\u001b[0;34m.\u001b[0m\u001b[0mget_loc\u001b[0m\u001b[0;34m(\u001b[0m\u001b[0mcasted_key\u001b[0m\u001b[0;34m)\u001b[0m\u001b[0;34m\u001b[0m\u001b[0;34m\u001b[0m\u001b[0m\n\u001b[1;32m   3362\u001b[0m             \u001b[0;32mexcept\u001b[0m \u001b[0mKeyError\u001b[0m \u001b[0;32mas\u001b[0m \u001b[0merr\u001b[0m\u001b[0;34m:\u001b[0m\u001b[0;34m\u001b[0m\u001b[0;34m\u001b[0m\u001b[0m\n\u001b[0;32m-> 3363\u001b[0;31m                 \u001b[0;32mraise\u001b[0m \u001b[0mKeyError\u001b[0m\u001b[0;34m(\u001b[0m\u001b[0mkey\u001b[0m\u001b[0;34m)\u001b[0m \u001b[0;32mfrom\u001b[0m \u001b[0merr\u001b[0m\u001b[0;34m\u001b[0m\u001b[0;34m\u001b[0m\u001b[0m\n\u001b[0m\u001b[1;32m   3364\u001b[0m \u001b[0;34m\u001b[0m\u001b[0m\n\u001b[1;32m   3365\u001b[0m         \u001b[0;32mif\u001b[0m \u001b[0mis_scalar\u001b[0m\u001b[0;34m(\u001b[0m\u001b[0mkey\u001b[0m\u001b[0;34m)\u001b[0m \u001b[0;32mand\u001b[0m \u001b[0misna\u001b[0m\u001b[0;34m(\u001b[0m\u001b[0mkey\u001b[0m\u001b[0;34m)\u001b[0m \u001b[0;32mand\u001b[0m \u001b[0;32mnot\u001b[0m \u001b[0mself\u001b[0m\u001b[0;34m.\u001b[0m\u001b[0mhasnans\u001b[0m\u001b[0;34m:\u001b[0m\u001b[0;34m\u001b[0m\u001b[0;34m\u001b[0m\u001b[0m\n",
      "\u001b[0;31mKeyError\u001b[0m: 'event_type'"
     ]
    }
   ],
   "source": [
    "# Get all the events closing a PR\n",
    "df_closed_prs = df_pull_request_event.where(df_pull_request_event['event_type'] == 'closed').dropna(subset=['_id'])\n",
    "df_closed_prs.head(3)"
   ]
  },
  {
   "cell_type": "markdown",
   "id": "7c5524ef",
   "metadata": {
    "pycharm": {
     "name": "#%% md\n"
    }
   },
   "source": [
    "### Approved Pull Requests"
   ]
  },
  {
   "cell_type": "code",
   "execution_count": 11,
   "id": "881345ad",
   "metadata": {
    "pycharm": {
     "name": "#%%\n"
    }
   },
   "outputs": [
    {
     "data": {
      "text/html": [
       "<div>\n",
       "<style scoped>\n",
       "    .dataframe tbody tr th:only-of-type {\n",
       "        vertical-align: middle;\n",
       "    }\n",
       "\n",
       "    .dataframe tbody tr th {\n",
       "        vertical-align: top;\n",
       "    }\n",
       "\n",
       "    .dataframe thead th {\n",
       "        text-align: right;\n",
       "    }\n",
       "</style>\n",
       "<table border=\"1\" class=\"dataframe\">\n",
       "  <thead>\n",
       "    <tr style=\"text-align: right;\">\n",
       "      <th></th>\n",
       "      <th>_id</th>\n",
       "      <th>pull_request_id</th>\n",
       "      <th>external_id</th>\n",
       "      <th>state</th>\n",
       "      <th>description</th>\n",
       "      <th>creator_id</th>\n",
       "      <th>submitted_at</th>\n",
       "      <th>author_association</th>\n",
       "      <th>commit_sha</th>\n",
       "      <th>pull_request_commit_id</th>\n",
       "    </tr>\n",
       "  </thead>\n",
       "  <tbody>\n",
       "    <tr>\n",
       "      <th>0</th>\n",
       "      <td>5ff188803fba52c925be898d</td>\n",
       "      <td>5ff1887f3fba52c925be898c</td>\n",
       "      <td>143337164</td>\n",
       "      <td>APPROVED</td>\n",
       "      <td>The code looks good, ASN.1-like encoding is a ...</td>\n",
       "      <td>5ff18872c26a57681e7b6d2b</td>\n",
       "      <td>2018-08-03 21:41:31</td>\n",
       "      <td>CONTRIBUTOR</td>\n",
       "      <td>b506949b50d56482e5bdf1123f99a7f2b952f25c</td>\n",
       "      <td>NaN</td>\n",
       "    </tr>\n",
       "    <tr>\n",
       "      <th>37</th>\n",
       "      <td>5ff1919ecbcaee8d21c67e79</td>\n",
       "      <td>5ff1919ccbcaee8d21c67e75</td>\n",
       "      <td>489446018</td>\n",
       "      <td>APPROVED</td>\n",
       "      <td></td>\n",
       "      <td>5b4db0dc30a71b06bce03054</td>\n",
       "      <td>2020-09-16 09:32:52</td>\n",
       "      <td>CONTRIBUTOR</td>\n",
       "      <td>a309b67d74c2083d7808d1f7a6aaff22a2a75dd7</td>\n",
       "      <td>5ff1919dcbcaee8d21c67e76</td>\n",
       "    </tr>\n",
       "    <tr>\n",
       "      <th>38</th>\n",
       "      <td>5ff191a0cbcaee8d21c67e82</td>\n",
       "      <td>5ff1919ecbcaee8d21c67e7f</td>\n",
       "      <td>479608653</td>\n",
       "      <td>APPROVED</td>\n",
       "      <td></td>\n",
       "      <td>5b4db0dc30a71b06bce03054</td>\n",
       "      <td>2020-09-01 10:28:43</td>\n",
       "      <td>CONTRIBUTOR</td>\n",
       "      <td>c21157ad10224d78291b3433914847f9227f038d</td>\n",
       "      <td>5ff1919fcbcaee8d21c67e80</td>\n",
       "    </tr>\n",
       "  </tbody>\n",
       "</table>\n",
       "</div>"
      ],
      "text/plain": [
       "                         _id           pull_request_id external_id     state  \\\n",
       "0   5ff188803fba52c925be898d  5ff1887f3fba52c925be898c   143337164  APPROVED   \n",
       "37  5ff1919ecbcaee8d21c67e79  5ff1919ccbcaee8d21c67e75   489446018  APPROVED   \n",
       "38  5ff191a0cbcaee8d21c67e82  5ff1919ecbcaee8d21c67e7f   479608653  APPROVED   \n",
       "\n",
       "                                          description  \\\n",
       "0   The code looks good, ASN.1-like encoding is a ...   \n",
       "37                                                      \n",
       "38                                                      \n",
       "\n",
       "                  creator_id        submitted_at author_association  \\\n",
       "0   5ff18872c26a57681e7b6d2b 2018-08-03 21:41:31        CONTRIBUTOR   \n",
       "37  5b4db0dc30a71b06bce03054 2020-09-16 09:32:52        CONTRIBUTOR   \n",
       "38  5b4db0dc30a71b06bce03054 2020-09-01 10:28:43        CONTRIBUTOR   \n",
       "\n",
       "                                  commit_sha    pull_request_commit_id  \n",
       "0   b506949b50d56482e5bdf1123f99a7f2b952f25c                       NaN  \n",
       "37  a309b67d74c2083d7808d1f7a6aaff22a2a75dd7  5ff1919dcbcaee8d21c67e76  \n",
       "38  c21157ad10224d78291b3433914847f9227f038d  5ff1919fcbcaee8d21c67e80  "
      ]
     },
     "execution_count": 11,
     "metadata": {},
     "output_type": "execute_result"
    }
   ],
   "source": [
    "df_approved_prs = df_pull_request_review.where(df_pull_request_review['state'] == 'APPROVED').dropna(subset=['_id'])\n",
    "df_approved_prs.head(3)"
   ]
  },
  {
   "cell_type": "code",
   "execution_count": 180,
   "id": "f3f7b36b",
   "metadata": {
    "pycharm": {
     "name": "#%%\n"
    }
   },
   "outputs": [],
   "source": [
    "# Join\n",
    "df_approved_prs__annotated_with_pr_creator = pd.merge(df_approved_prs, df_pull_request, on='pull_request_id')\n",
    "df_approved_prs__annotated_with_pr_creator.head(3)"
   ]
  },
  {
   "cell_type": "code",
   "execution_count": 208,
   "id": "5534fdca",
   "metadata": {
    "pycharm": {
     "name": "#%%\n"
    }
   },
   "outputs": [
    {
     "data": {
      "text/plain": [
       "Index(['_id_x', 'pull_request_id', 'external_id_x', 'state_x', 'description_x',\n",
       "       'creator_id_x', 'submitted_at', 'author_association_x', 'commit_sha',\n",
       "       'pull_request_commit_id', '_id_y', 'pull_request_system_id',\n",
       "       'external_id_y', 'title', 'description_y', 'is_draft', 'is_locked',\n",
       "       'author_association_y', 'created_at', 'updated_at', 'merged_at',\n",
       "       'creator_id_y', 'linked_user_ids', 'requested_reviewer_ids', 'state_y',\n",
       "       'labels', 'source_repo_url', 'source_branch', 'source_commit_sha',\n",
       "       'target_repo_url', 'target_branch', 'target_commit_sha',\n",
       "       'source_commit_id', 'target_commit_id', 'merge_commit_id',\n",
       "       'assignee_id', 'lock_reason'],\n",
       "      dtype='object')"
      ]
     },
     "execution_count": 208,
     "metadata": {},
     "output_type": "execute_result"
    }
   ],
   "source": [
    "df_approved_prs__annotated_with_pr_creator.columns"
   ]
  },
  {
   "cell_type": "code",
   "execution_count": 182,
   "id": "chicken-strand",
   "metadata": {
    "pycharm": {
     "name": "#%%\n"
    }
   },
   "outputs": [
    {
     "data": {
      "text/html": [
       "<div>\n",
       "<style scoped>\n",
       "    .dataframe tbody tr th:only-of-type {\n",
       "        vertical-align: middle;\n",
       "    }\n",
       "\n",
       "    .dataframe tbody tr th {\n",
       "        vertical-align: top;\n",
       "    }\n",
       "\n",
       "    .dataframe thead th {\n",
       "        text-align: right;\n",
       "    }\n",
       "</style>\n",
       "<table border=\"1\" class=\"dataframe\">\n",
       "  <thead>\n",
       "    <tr style=\"text-align: right;\">\n",
       "      <th></th>\n",
       "      <th>creator_id_x</th>\n",
       "      <th>creator_id_y</th>\n",
       "    </tr>\n",
       "  </thead>\n",
       "  <tbody>\n",
       "    <tr>\n",
       "      <th>0</th>\n",
       "      <td>5ff18872c26a57681e7b6d2b</td>\n",
       "      <td>5ff1887dc26a57681e7b6ee1</td>\n",
       "    </tr>\n",
       "    <tr>\n",
       "      <th>1</th>\n",
       "      <td>5b4db0dc30a71b06bce03054</td>\n",
       "      <td>5f0d6a7baf02e2d6de888cd0</td>\n",
       "    </tr>\n",
       "    <tr>\n",
       "      <th>2</th>\n",
       "      <td>5b4db0dc30a71b06bce03054</td>\n",
       "      <td>5f0d6a7baf02e2d6de888cd0</td>\n",
       "    </tr>\n",
       "    <tr>\n",
       "      <th>3</th>\n",
       "      <td>5b4db0dc30a71b06bce03054</td>\n",
       "      <td>5ff191a2c26a57681e7b9533</td>\n",
       "    </tr>\n",
       "    <tr>\n",
       "      <th>4</th>\n",
       "      <td>5b4db0dc30a71b06bce03054</td>\n",
       "      <td>5ff191a2c26a57681e7b9533</td>\n",
       "    </tr>\n",
       "    <tr>\n",
       "      <th>...</th>\n",
       "      <td>...</td>\n",
       "      <td>...</td>\n",
       "    </tr>\n",
       "    <tr>\n",
       "      <th>19773</th>\n",
       "      <td>5b4db0dc30a71b06bce03054</td>\n",
       "      <td>5f0d6a7baf02e2d6de888cd0</td>\n",
       "    </tr>\n",
       "    <tr>\n",
       "      <th>19774</th>\n",
       "      <td>5b4db0dc30a71b06bce03054</td>\n",
       "      <td>5f0d6a7baf02e2d6de888cd0</td>\n",
       "    </tr>\n",
       "    <tr>\n",
       "      <th>19775</th>\n",
       "      <td>59bc2341f2a4565fe9cfaace</td>\n",
       "      <td>60fd84a0f73e2aa3902dad2a</td>\n",
       "    </tr>\n",
       "    <tr>\n",
       "      <th>19776</th>\n",
       "      <td>59bc2341f2a4565fe9cfaace</td>\n",
       "      <td>60fd84a5f73e2aa3902dc6d2</td>\n",
       "    </tr>\n",
       "    <tr>\n",
       "      <th>19777</th>\n",
       "      <td>59bc2341f2a4565fe9cfaace</td>\n",
       "      <td>5b64351f30a71b06bca37a02</td>\n",
       "    </tr>\n",
       "  </tbody>\n",
       "</table>\n",
       "<p>19771 rows × 2 columns</p>\n",
       "</div>"
      ],
      "text/plain": [
       "                   creator_id_x              creator_id_y\n",
       "0      5ff18872c26a57681e7b6d2b  5ff1887dc26a57681e7b6ee1\n",
       "1      5b4db0dc30a71b06bce03054  5f0d6a7baf02e2d6de888cd0\n",
       "2      5b4db0dc30a71b06bce03054  5f0d6a7baf02e2d6de888cd0\n",
       "3      5b4db0dc30a71b06bce03054  5ff191a2c26a57681e7b9533\n",
       "4      5b4db0dc30a71b06bce03054  5ff191a2c26a57681e7b9533\n",
       "...                         ...                       ...\n",
       "19773  5b4db0dc30a71b06bce03054  5f0d6a7baf02e2d6de888cd0\n",
       "19774  5b4db0dc30a71b06bce03054  5f0d6a7baf02e2d6de888cd0\n",
       "19775  59bc2341f2a4565fe9cfaace  60fd84a0f73e2aa3902dad2a\n",
       "19776  59bc2341f2a4565fe9cfaace  60fd84a5f73e2aa3902dc6d2\n",
       "19777  59bc2341f2a4565fe9cfaace  5b64351f30a71b06bca37a02\n",
       "\n",
       "[19771 rows x 2 columns]"
      ]
     },
     "execution_count": 182,
     "metadata": {},
     "output_type": "execute_result"
    }
   ],
   "source": [
    "# Get the approved PR's that were merged by someone that is not the same person as the one that opened the request\n",
    "approved_pull_requests_closed_by_different_person = df_approved_prs__annotated_with_pr_creator.where(df_approved_prs__annotated_with_pr_creator['creator_id_x'] != df_approved_prs__annotated_with_pr_creator['creator_id_y']).dropna(subset=['creator_id_x', 'creator_id_y'])\n",
    "\n",
    "approved_pull_requests_closed_by_different_person[['creator_id_x', 'creator_id_y']]"
   ]
  },
  {
   "cell_type": "code",
   "execution_count": 183,
   "id": "e677bcc2",
   "metadata": {
    "pycharm": {
     "name": "#%%\n"
    }
   },
   "outputs": [
    {
     "data": {
      "text/html": [
       "<div>\n",
       "<style scoped>\n",
       "    .dataframe tbody tr th:only-of-type {\n",
       "        vertical-align: middle;\n",
       "    }\n",
       "\n",
       "    .dataframe tbody tr th {\n",
       "        vertical-align: top;\n",
       "    }\n",
       "\n",
       "    .dataframe thead th {\n",
       "        text-align: right;\n",
       "    }\n",
       "</style>\n",
       "<table border=\"1\" class=\"dataframe\">\n",
       "  <thead>\n",
       "    <tr style=\"text-align: right;\">\n",
       "      <th></th>\n",
       "      <th>_id_x</th>\n",
       "      <th>pull_request_id</th>\n",
       "      <th>external_id_x</th>\n",
       "      <th>state_x</th>\n",
       "      <th>description_x</th>\n",
       "      <th>creator_id_x</th>\n",
       "      <th>submitted_at</th>\n",
       "      <th>author_association_x</th>\n",
       "      <th>commit_sha</th>\n",
       "      <th>pull_request_commit_id</th>\n",
       "      <th>...</th>\n",
       "      <th>source_branch</th>\n",
       "      <th>source_commit_sha</th>\n",
       "      <th>target_repo_url</th>\n",
       "      <th>target_branch</th>\n",
       "      <th>target_commit_sha</th>\n",
       "      <th>source_commit_id</th>\n",
       "      <th>target_commit_id</th>\n",
       "      <th>merge_commit_id</th>\n",
       "      <th>assignee_id</th>\n",
       "      <th>lock_reason</th>\n",
       "    </tr>\n",
       "  </thead>\n",
       "  <tbody>\n",
       "    <tr>\n",
       "      <th>0</th>\n",
       "      <td>5ff188803fba52c925be898d</td>\n",
       "      <td>5ff1887f3fba52c925be898c</td>\n",
       "      <td>143337164</td>\n",
       "      <td>APPROVED</td>\n",
       "      <td>The code looks good, ASN.1-like encoding is a ...</td>\n",
       "      <td>5ff18872c26a57681e7b6d2b</td>\n",
       "      <td>2018-08-03 21:41:31</td>\n",
       "      <td>CONTRIBUTOR</td>\n",
       "      <td>b506949b50d56482e5bdf1123f99a7f2b952f25c</td>\n",
       "      <td>NaN</td>\n",
       "      <td>...</td>\n",
       "      <td>master</td>\n",
       "      <td>89583444040dc5423bb143435f23ae0814f24542</td>\n",
       "      <td>https://github.com/apache/ant-ivy</td>\n",
       "      <td>master</td>\n",
       "      <td>89583444040dc5423bb143435f23ae0814f24542</td>\n",
       "      <td>NaN</td>\n",
       "      <td>NaN</td>\n",
       "      <td>NaN</td>\n",
       "      <td>NaN</td>\n",
       "      <td>NaN</td>\n",
       "    </tr>\n",
       "    <tr>\n",
       "      <th>1</th>\n",
       "      <td>5ff1919ecbcaee8d21c67e79</td>\n",
       "      <td>5ff1919ccbcaee8d21c67e75</td>\n",
       "      <td>489446018</td>\n",
       "      <td>APPROVED</td>\n",
       "      <td></td>\n",
       "      <td>5b4db0dc30a71b06bce03054</td>\n",
       "      <td>2020-09-16 09:32:52</td>\n",
       "      <td>CONTRIBUTOR</td>\n",
       "      <td>a309b67d74c2083d7808d1f7a6aaff22a2a75dd7</td>\n",
       "      <td>5ff1919dcbcaee8d21c67e76</td>\n",
       "      <td>...</td>\n",
       "      <td>WSS-678</td>\n",
       "      <td>a309b67d74c2083d7808d1f7a6aaff22a2a75dd7</td>\n",
       "      <td>https://github.com/apache/ws-wss4j</td>\n",
       "      <td>master</td>\n",
       "      <td>1765c4149d700cac8aea5c1a3b78f2bdee8b6e71</td>\n",
       "      <td>NaN</td>\n",
       "      <td>NaN</td>\n",
       "      <td>NaN</td>\n",
       "      <td>NaN</td>\n",
       "      <td>NaN</td>\n",
       "    </tr>\n",
       "    <tr>\n",
       "      <th>2</th>\n",
       "      <td>5ff191a0cbcaee8d21c67e82</td>\n",
       "      <td>5ff1919ecbcaee8d21c67e7f</td>\n",
       "      <td>479608653</td>\n",
       "      <td>APPROVED</td>\n",
       "      <td></td>\n",
       "      <td>5b4db0dc30a71b06bce03054</td>\n",
       "      <td>2020-09-01 10:28:43</td>\n",
       "      <td>CONTRIBUTOR</td>\n",
       "      <td>c21157ad10224d78291b3433914847f9227f038d</td>\n",
       "      <td>5ff1919fcbcaee8d21c67e80</td>\n",
       "      <td>...</td>\n",
       "      <td>wss4j-ws-security-common</td>\n",
       "      <td>c21157ad10224d78291b3433914847f9227f038d</td>\n",
       "      <td>https://github.com/apache/ws-wss4j</td>\n",
       "      <td>master</td>\n",
       "      <td>e9c20e63dc1694dbc5e116e4c9e82190aa81320a</td>\n",
       "      <td>NaN</td>\n",
       "      <td>NaN</td>\n",
       "      <td>NaN</td>\n",
       "      <td>NaN</td>\n",
       "      <td>NaN</td>\n",
       "    </tr>\n",
       "  </tbody>\n",
       "</table>\n",
       "<p>3 rows × 37 columns</p>\n",
       "</div>"
      ],
      "text/plain": [
       "                      _id_x           pull_request_id external_id_x   state_x  \\\n",
       "0  5ff188803fba52c925be898d  5ff1887f3fba52c925be898c     143337164  APPROVED   \n",
       "1  5ff1919ecbcaee8d21c67e79  5ff1919ccbcaee8d21c67e75     489446018  APPROVED   \n",
       "2  5ff191a0cbcaee8d21c67e82  5ff1919ecbcaee8d21c67e7f     479608653  APPROVED   \n",
       "\n",
       "                                       description_x  \\\n",
       "0  The code looks good, ASN.1-like encoding is a ...   \n",
       "1                                                      \n",
       "2                                                      \n",
       "\n",
       "               creator_id_x        submitted_at author_association_x  \\\n",
       "0  5ff18872c26a57681e7b6d2b 2018-08-03 21:41:31          CONTRIBUTOR   \n",
       "1  5b4db0dc30a71b06bce03054 2020-09-16 09:32:52          CONTRIBUTOR   \n",
       "2  5b4db0dc30a71b06bce03054 2020-09-01 10:28:43          CONTRIBUTOR   \n",
       "\n",
       "                                 commit_sha    pull_request_commit_id  ...  \\\n",
       "0  b506949b50d56482e5bdf1123f99a7f2b952f25c                       NaN  ...   \n",
       "1  a309b67d74c2083d7808d1f7a6aaff22a2a75dd7  5ff1919dcbcaee8d21c67e76  ...   \n",
       "2  c21157ad10224d78291b3433914847f9227f038d  5ff1919fcbcaee8d21c67e80  ...   \n",
       "\n",
       "              source_branch                         source_commit_sha  \\\n",
       "0                    master  89583444040dc5423bb143435f23ae0814f24542   \n",
       "1                   WSS-678  a309b67d74c2083d7808d1f7a6aaff22a2a75dd7   \n",
       "2  wss4j-ws-security-common  c21157ad10224d78291b3433914847f9227f038d   \n",
       "\n",
       "                      target_repo_url target_branch  \\\n",
       "0   https://github.com/apache/ant-ivy        master   \n",
       "1  https://github.com/apache/ws-wss4j        master   \n",
       "2  https://github.com/apache/ws-wss4j        master   \n",
       "\n",
       "                          target_commit_sha  source_commit_id  \\\n",
       "0  89583444040dc5423bb143435f23ae0814f24542               NaN   \n",
       "1  1765c4149d700cac8aea5c1a3b78f2bdee8b6e71               NaN   \n",
       "2  e9c20e63dc1694dbc5e116e4c9e82190aa81320a               NaN   \n",
       "\n",
       "   target_commit_id merge_commit_id assignee_id lock_reason  \n",
       "0               NaN             NaN         NaN         NaN  \n",
       "1               NaN             NaN         NaN         NaN  \n",
       "2               NaN             NaN         NaN         NaN  \n",
       "\n",
       "[3 rows x 37 columns]"
      ]
     },
     "execution_count": 183,
     "metadata": {},
     "output_type": "execute_result"
    }
   ],
   "source": [
    "approved_pull_requests_closed_by_different_person.head(3)"
   ]
  },
  {
   "cell_type": "code",
   "execution_count": 184,
   "id": "76f6188e",
   "metadata": {
    "pycharm": {
     "name": "#%%\n"
    }
   },
   "outputs": [],
   "source": [
    "# Calculate the total review_time in hours\n",
    "approved_pull_requests_closed_by_different_person['review_time_in_hours'] = (approved_pull_requests_closed_by_different_person.apply(lambda x: (x['submitted_at'] - x['created_at']).total_seconds() / 60 / 60 if x['created_at'] and x['submitted_at'] else None, axis=1))\n",
    "\n"
   ]
  },
  {
   "cell_type": "code",
   "execution_count": 191,
   "id": "b81ebf0d",
   "metadata": {
    "pycharm": {
     "name": "#%%\n"
    }
   },
   "outputs": [
    {
     "data": {
      "text/html": [
       "<div>\n",
       "<style scoped>\n",
       "    .dataframe tbody tr th:only-of-type {\n",
       "        vertical-align: middle;\n",
       "    }\n",
       "\n",
       "    .dataframe tbody tr th {\n",
       "        vertical-align: top;\n",
       "    }\n",
       "\n",
       "    .dataframe thead th {\n",
       "        text-align: right;\n",
       "    }\n",
       "</style>\n",
       "<table border=\"1\" class=\"dataframe\">\n",
       "  <thead>\n",
       "    <tr style=\"text-align: right;\">\n",
       "      <th></th>\n",
       "      <th>review_time_in_hours</th>\n",
       "    </tr>\n",
       "  </thead>\n",
       "  <tbody>\n",
       "    <tr>\n",
       "      <th>count</th>\n",
       "      <td>18782.000000</td>\n",
       "    </tr>\n",
       "    <tr>\n",
       "      <th>mean</th>\n",
       "      <td>135.655528</td>\n",
       "    </tr>\n",
       "    <tr>\n",
       "      <th>std</th>\n",
       "      <td>246.469039</td>\n",
       "    </tr>\n",
       "    <tr>\n",
       "      <th>min</th>\n",
       "      <td>0.005556</td>\n",
       "    </tr>\n",
       "    <tr>\n",
       "      <th>25%</th>\n",
       "      <td>4.357361</td>\n",
       "    </tr>\n",
       "    <tr>\n",
       "      <th>50%</th>\n",
       "      <td>28.017500</td>\n",
       "    </tr>\n",
       "    <tr>\n",
       "      <th>75%</th>\n",
       "      <td>140.577153</td>\n",
       "    </tr>\n",
       "    <tr>\n",
       "      <th>max</th>\n",
       "      <td>1481.506944</td>\n",
       "    </tr>\n",
       "  </tbody>\n",
       "</table>\n",
       "</div>"
      ],
      "text/plain": [
       "       review_time_in_hours\n",
       "count          18782.000000\n",
       "mean             135.655528\n",
       "std              246.469039\n",
       "min                0.005556\n",
       "25%                4.357361\n",
       "50%               28.017500\n",
       "75%              140.577153\n",
       "max             1481.506944"
      ]
     },
     "execution_count": 191,
     "metadata": {},
     "output_type": "execute_result"
    }
   ],
   "source": [
    "approved_review_times.describe()"
   ]
  },
  {
   "cell_type": "code",
   "execution_count": 226,
   "id": "a25ae804",
   "metadata": {
    "pycharm": {
     "name": "#%%\n"
    }
   },
   "outputs": [
    {
     "data": {
      "text/html": [
       "<div>\n",
       "<style scoped>\n",
       "    .dataframe tbody tr th:only-of-type {\n",
       "        vertical-align: middle;\n",
       "    }\n",
       "\n",
       "    .dataframe tbody tr th {\n",
       "        vertical-align: top;\n",
       "    }\n",
       "\n",
       "    .dataframe thead th {\n",
       "        text-align: right;\n",
       "    }\n",
       "</style>\n",
       "<table border=\"1\" class=\"dataframe\">\n",
       "  <thead>\n",
       "    <tr style=\"text-align: right;\">\n",
       "      <th></th>\n",
       "      <th>review_time_in_hours</th>\n",
       "    </tr>\n",
       "  </thead>\n",
       "  <tbody>\n",
       "    <tr>\n",
       "      <th>count</th>\n",
       "      <td>18782.000000</td>\n",
       "    </tr>\n",
       "    <tr>\n",
       "      <th>mean</th>\n",
       "      <td>135.655528</td>\n",
       "    </tr>\n",
       "    <tr>\n",
       "      <th>std</th>\n",
       "      <td>246.469039</td>\n",
       "    </tr>\n",
       "    <tr>\n",
       "      <th>min</th>\n",
       "      <td>0.005556</td>\n",
       "    </tr>\n",
       "    <tr>\n",
       "      <th>25%</th>\n",
       "      <td>4.357361</td>\n",
       "    </tr>\n",
       "    <tr>\n",
       "      <th>50%</th>\n",
       "      <td>28.017500</td>\n",
       "    </tr>\n",
       "    <tr>\n",
       "      <th>75%</th>\n",
       "      <td>140.577153</td>\n",
       "    </tr>\n",
       "    <tr>\n",
       "      <th>max</th>\n",
       "      <td>1481.506944</td>\n",
       "    </tr>\n",
       "  </tbody>\n",
       "</table>\n",
       "</div>"
      ],
      "text/plain": [
       "       review_time_in_hours\n",
       "count          18782.000000\n",
       "mean             135.655528\n",
       "std              246.469039\n",
       "min                0.005556\n",
       "25%                4.357361\n",
       "50%               28.017500\n",
       "75%              140.577153\n",
       "max             1481.506944"
      ]
     },
     "execution_count": 226,
     "metadata": {},
     "output_type": "execute_result"
    }
   ],
   "source": [
    "times = approved_review_times[['review_time_in_hours']]\n",
    "approved_under_an_hour = times.where(times['review_time_in_hours'] > 0).dropna()\n",
    "approved_under_an_hour.describe()"
   ]
  },
  {
   "cell_type": "code",
   "execution_count": 223,
   "id": "4dd1b7aa",
   "metadata": {
    "pycharm": {
     "name": "#%%\n"
    }
   },
   "outputs": [
    {
     "data": {
      "text/plain": [
       "(array([8814., 2006., 1140.,  880.,  748.,  631.,  501.,  406.,  277.,\n",
       "         223.]),\n",
       " array([5.55555556e-03, 2.40032500e+01, 4.80009444e+01, 7.19986389e+01,\n",
       "        9.59963333e+01, 1.19994028e+02, 1.43991722e+02, 1.67989417e+02,\n",
       "        1.91987111e+02, 2.15984806e+02, 2.39982500e+02]),\n",
       " <BarContainer object of 10 artists>)"
      ]
     },
     "execution_count": 223,
     "metadata": {},
     "output_type": "execute_result"
    },
    {
     "data": {
      "image/png": "[encoded data removed]",
      "text/plain": [
       "<Figure size 432x288 with 1 Axes>"
      ]
     },
     "metadata": {
      "needs_background": "light"
     },
     "output_type": "display_data"
    }
   ],
   "source": [
    "plt.hist(approved_under_an_hour)"
   ]
  },
  {
   "cell_type": "markdown",
   "id": "6f23530a",
   "metadata": {
    "pycharm": {
     "name": "#%% md\n"
    }
   },
   "source": [
    "### Closed pull requests"
   ]
  },
  {
   "cell_type": "code",
   "execution_count": 192,
   "id": "5ff98c95",
   "metadata": {
    "pycharm": {
     "name": "#%%\n"
    }
   },
   "outputs": [
    {
     "data": {
      "text/html": [
       "<div>\n",
       "<style scoped>\n",
       "    .dataframe tbody tr th:only-of-type {\n",
       "        vertical-align: middle;\n",
       "    }\n",
       "\n",
       "    .dataframe tbody tr th {\n",
       "        vertical-align: top;\n",
       "    }\n",
       "\n",
       "    .dataframe thead th {\n",
       "        text-align: right;\n",
       "    }\n",
       "</style>\n",
       "<table border=\"1\" class=\"dataframe\">\n",
       "  <thead>\n",
       "    <tr style=\"text-align: right;\">\n",
       "      <th></th>\n",
       "      <th>_id</th>\n",
       "      <th>pull_request_id</th>\n",
       "      <th>external_id</th>\n",
       "      <th>created_at</th>\n",
       "      <th>author_id</th>\n",
       "      <th>commit_sha</th>\n",
       "      <th>commit_repo_url</th>\n",
       "      <th>event_type</th>\n",
       "      <th>additional_data</th>\n",
       "      <th>commit_id</th>\n",
       "    </tr>\n",
       "  </thead>\n",
       "  <tbody>\n",
       "    <tr>\n",
       "      <th>1</th>\n",
       "      <td>5ff188713fba52c925be892b</td>\n",
       "      <td>5ff1886f3fba52c925be8927</td>\n",
       "      <td>3202397715</td>\n",
       "      <td>2020-04-05 12:24:20</td>\n",
       "      <td>59bc22dcf2a4565fe9cfa0a7</td>\n",
       "      <td>NaN</td>\n",
       "      <td>NaN</td>\n",
       "      <td>closed</td>\n",
       "      <td>{'performed_via_github_app': None}</td>\n",
       "      <td>NaN</td>\n",
       "    </tr>\n",
       "    <tr>\n",
       "      <th>18</th>\n",
       "      <td>5ff1887f3fba52c925be898a</td>\n",
       "      <td>5ff1887d3fba52c925be8978</td>\n",
       "      <td>1775164932</td>\n",
       "      <td>2018-08-07 12:39:03</td>\n",
       "      <td>5ff1887dc26a57681e7b6ee1</td>\n",
       "      <td>NaN</td>\n",
       "      <td>NaN</td>\n",
       "      <td>closed</td>\n",
       "      <td>{'performed_via_github_app': None}</td>\n",
       "      <td>NaN</td>\n",
       "    </tr>\n",
       "    <tr>\n",
       "      <th>33</th>\n",
       "      <td>5ff188823fba52c925be89bb</td>\n",
       "      <td>5ff1887f3fba52c925be898c</td>\n",
       "      <td>1772018125</td>\n",
       "      <td>2018-08-06 05:18:53</td>\n",
       "      <td>5ff1887dc26a57681e7b6ee1</td>\n",
       "      <td>NaN</td>\n",
       "      <td>NaN</td>\n",
       "      <td>closed</td>\n",
       "      <td>{'performed_via_github_app': None}</td>\n",
       "      <td>NaN</td>\n",
       "    </tr>\n",
       "  </tbody>\n",
       "</table>\n",
       "</div>"
      ],
      "text/plain": [
       "                         _id           pull_request_id external_id  \\\n",
       "1   5ff188713fba52c925be892b  5ff1886f3fba52c925be8927  3202397715   \n",
       "18  5ff1887f3fba52c925be898a  5ff1887d3fba52c925be8978  1775164932   \n",
       "33  5ff188823fba52c925be89bb  5ff1887f3fba52c925be898c  1772018125   \n",
       "\n",
       "            created_at                 author_id commit_sha commit_repo_url  \\\n",
       "1  2020-04-05 12:24:20  59bc22dcf2a4565fe9cfa0a7        NaN             NaN   \n",
       "18 2018-08-07 12:39:03  5ff1887dc26a57681e7b6ee1        NaN             NaN   \n",
       "33 2018-08-06 05:18:53  5ff1887dc26a57681e7b6ee1        NaN             NaN   \n",
       "\n",
       "   event_type                     additional_data commit_id  \n",
       "1      closed  {'performed_via_github_app': None}       NaN  \n",
       "18     closed  {'performed_via_github_app': None}       NaN  \n",
       "33     closed  {'performed_via_github_app': None}       NaN  "
      ]
     },
     "execution_count": 192,
     "metadata": {},
     "output_type": "execute_result"
    }
   ],
   "source": [
    "# Get all the events closing a PR\n",
    "df_closed_prs = df_pull_request_event.where(df_pull_request_event['event_type'] == 'closed').dropna(subset=['_id'])\n",
    "df_closed_prs.head(3)"
   ]
  },
  {
   "cell_type": "code",
   "execution_count": 193,
   "id": "2207fcd3",
   "metadata": {
    "pycharm": {
     "name": "#%%\n"
    }
   },
   "outputs": [
    {
     "data": {
      "text/plain": [
       "Index(['_id_x', 'pull_request_id', 'external_id_x', 'created_at_x',\n",
       "       'author_id', 'commit_sha', 'commit_repo_url', 'event_type',\n",
       "       'additional_data', 'commit_id', '_id_y', 'pull_request_system_id',\n",
       "       'external_id_y', 'title', 'description', 'is_draft', 'is_locked',\n",
       "       'author_association', 'created_at_y', 'updated_at', 'merged_at',\n",
       "       'creator_id', 'linked_user_ids', 'requested_reviewer_ids', 'state',\n",
       "       'labels', 'source_repo_url', 'source_branch', 'source_commit_sha',\n",
       "       'target_repo_url', 'target_branch', 'target_commit_sha',\n",
       "       'source_commit_id', 'target_commit_id', 'merge_commit_id',\n",
       "       'assignee_id', 'lock_reason'],\n",
       "      dtype='object')"
      ]
     },
     "execution_count": 193,
     "metadata": {},
     "output_type": "execute_result"
    }
   ],
   "source": [
    "df_closed_prs__annotated_with_pr_creator = pd.merge(df_closed_prs, df_pull_request, on='pull_request_id')\n",
    "df_closed_prs__annotated_with_pr_creator.columns"
   ]
  },
  {
   "cell_type": "code",
   "execution_count": 194,
   "id": "4c263508",
   "metadata": {
    "pycharm": {
     "name": "#%%\n"
    }
   },
   "outputs": [
    {
     "data": {
      "text/html": [
       "<div>\n",
       "<style scoped>\n",
       "    .dataframe tbody tr th:only-of-type {\n",
       "        vertical-align: middle;\n",
       "    }\n",
       "\n",
       "    .dataframe tbody tr th {\n",
       "        vertical-align: top;\n",
       "    }\n",
       "\n",
       "    .dataframe thead th {\n",
       "        text-align: right;\n",
       "    }\n",
       "</style>\n",
       "<table border=\"1\" class=\"dataframe\">\n",
       "  <thead>\n",
       "    <tr style=\"text-align: right;\">\n",
       "      <th></th>\n",
       "      <th>author_id</th>\n",
       "      <th>creator_id</th>\n",
       "    </tr>\n",
       "  </thead>\n",
       "  <tbody>\n",
       "    <tr>\n",
       "      <th>0</th>\n",
       "      <td>59bc22dcf2a4565fe9cfa0a7</td>\n",
       "      <td>5ff1886fc26a57681e7b6cfe</td>\n",
       "    </tr>\n",
       "    <tr>\n",
       "      <th>7</th>\n",
       "      <td>59bc22dcf2a4565fe9cfa0a7</td>\n",
       "      <td>5ff18872c26a57681e7b6d2b</td>\n",
       "    </tr>\n",
       "    <tr>\n",
       "      <th>11</th>\n",
       "      <td>59bc22dcf2a4565fe9cfa0a7</td>\n",
       "      <td>59b9055bc335c776c30e850a</td>\n",
       "    </tr>\n",
       "    <tr>\n",
       "      <th>13</th>\n",
       "      <td>59bc22dcf2a4565fe9cfa0a7</td>\n",
       "      <td>5ff18872c26a57681e7b6d2b</td>\n",
       "    </tr>\n",
       "    <tr>\n",
       "      <th>14</th>\n",
       "      <td>59bc22dcf2a4565fe9cfa0a7</td>\n",
       "      <td>5ff18875c26a57681e7b6d68</td>\n",
       "    </tr>\n",
       "    <tr>\n",
       "      <th>...</th>\n",
       "      <td>...</td>\n",
       "      <td>...</td>\n",
       "    </tr>\n",
       "    <tr>\n",
       "      <th>46990</th>\n",
       "      <td>59bc22dcf2a4565fe9cfa0a7</td>\n",
       "      <td>5b6434e130a71b06bca36cd2</td>\n",
       "    </tr>\n",
       "    <tr>\n",
       "      <th>46991</th>\n",
       "      <td>5ff34a9dc26a57681ea38bf9</td>\n",
       "      <td>60fd84c6f73e2aa3902e825c</td>\n",
       "    </tr>\n",
       "    <tr>\n",
       "      <th>46992</th>\n",
       "      <td>59bc22dcf2a4565fe9cfa0a7</td>\n",
       "      <td>59bc1a03f2a4565fe9ce189c</td>\n",
       "    </tr>\n",
       "    <tr>\n",
       "      <th>46998</th>\n",
       "      <td>59bc22dcf2a4565fe9cfa0a7</td>\n",
       "      <td>59bc1a03f2a4565fe9ce189c</td>\n",
       "    </tr>\n",
       "    <tr>\n",
       "      <th>47009</th>\n",
       "      <td>5ff34a9dc26a57681ea38bf9</td>\n",
       "      <td>5ff1d47cc26a57681e81d6d6</td>\n",
       "    </tr>\n",
       "  </tbody>\n",
       "</table>\n",
       "<p>31616 rows × 2 columns</p>\n",
       "</div>"
      ],
      "text/plain": [
       "                      author_id                creator_id\n",
       "0      59bc22dcf2a4565fe9cfa0a7  5ff1886fc26a57681e7b6cfe\n",
       "7      59bc22dcf2a4565fe9cfa0a7  5ff18872c26a57681e7b6d2b\n",
       "11     59bc22dcf2a4565fe9cfa0a7  59b9055bc335c776c30e850a\n",
       "13     59bc22dcf2a4565fe9cfa0a7  5ff18872c26a57681e7b6d2b\n",
       "14     59bc22dcf2a4565fe9cfa0a7  5ff18875c26a57681e7b6d68\n",
       "...                         ...                       ...\n",
       "46990  59bc22dcf2a4565fe9cfa0a7  5b6434e130a71b06bca36cd2\n",
       "46991  5ff34a9dc26a57681ea38bf9  60fd84c6f73e2aa3902e825c\n",
       "46992  59bc22dcf2a4565fe9cfa0a7  59bc1a03f2a4565fe9ce189c\n",
       "46998  59bc22dcf2a4565fe9cfa0a7  59bc1a03f2a4565fe9ce189c\n",
       "47009  5ff34a9dc26a57681ea38bf9  5ff1d47cc26a57681e81d6d6\n",
       "\n",
       "[31616 rows x 2 columns]"
      ]
     },
     "execution_count": 194,
     "metadata": {},
     "output_type": "execute_result"
    }
   ],
   "source": [
    "# Get the PR's that were merged by someone that is not the same person as the one that opened the request\n",
    "closed_pull_requests_closed_by_different_person = df_closed_prs__annotated_with_pr_creator.where(df_closed_prs__annotated_with_pr_creator['author_id'] != df_closed_prs__annotated_with_pr_creator['creator_id']).dropna(subset=['author_id', 'creator_id'])\n",
    "\n",
    "closed_pull_requests_closed_by_different_person[['author_id', 'creator_id']]"
   ]
  },
  {
   "cell_type": "code",
   "execution_count": 195,
   "id": "0942101e",
   "metadata": {
    "pycharm": {
     "name": "#%%\n"
    }
   },
   "outputs": [],
   "source": [
    "# Calculate the reivew time of closed pull requests\n",
    "closed_pull_requests_closed_by_different_person['review_time_in_hours'] = (closed_pull_requests_closed_by_different_person.apply(lambda x: (x['created_at_x'] - x['created_at_y']).total_seconds() / 60 / 60 if x['created_at_x'] and x['created_at_y'] else None, axis=1))\n"
   ]
  },
  {
   "cell_type": "code",
   "execution_count": 196,
   "id": "52e402d9",
   "metadata": {
    "pycharm": {
     "name": "#%%\n"
    }
   },
   "outputs": [
    {
     "data": {
      "text/plain": [
       "count    31616.000000\n",
       "mean      1090.622155\n",
       "std       4119.100288\n",
       "min          0.008611\n",
       "25%         18.781181\n",
       "50%         86.430139\n",
       "75%        339.807569\n",
       "max      69346.616111\n",
       "Name: review_time_in_hours, dtype: float64"
      ]
     },
     "execution_count": 196,
     "metadata": {},
     "output_type": "execute_result"
    }
   ],
   "source": [
    "closed_pull_requests_closed_by_different_person['review_time_in_hours'].describe()"
   ]
  },
  {
   "cell_type": "code",
   "execution_count": 197,
   "id": "be306bf5",
   "metadata": {
    "pycharm": {
     "name": "#%%\n"
    }
   },
   "outputs": [
    {
     "data": {
      "text/plain": [
       "(0.7643055555555556, 5312.072847222222)"
      ]
     },
     "execution_count": 197,
     "metadata": {},
     "output_type": "execute_result"
    }
   ],
   "source": [
    "times = closed_pull_requests_closed_by_different_person['review_time_in_hours']\n",
    "closed_05, closed_95 = times.quantile([0.05, 0.95])\n",
    "closed_05, closed_95"
   ]
  },
  {
   "cell_type": "code",
   "execution_count": 198,
   "id": "2faa882c",
   "metadata": {
    "pycharm": {
     "name": "#%%\n"
    }
   },
   "outputs": [],
   "source": [
    "# Filter really low values\n",
    "closed_review_times = closed_pull_requests_closed_by_different_person.where(closed_pull_requests_closed_by_different_person['review_time_in_hours'] >= closed_05).dropna(subset=['review_time_in_hours'])[['review_time_in_hours']]\n",
    "\n",
    "closed_review_times = closed_pull_requests_closed_by_different_person.where(closed_pull_requests_closed_by_different_person['review_time_in_hours'] <= closed_95).dropna(subset=['review_time_in_hours'])[['review_time_in_hours']]\n"
   ]
  },
  {
   "cell_type": "code",
   "execution_count": 199,
   "id": "d8104285",
   "metadata": {
    "pycharm": {
     "name": "#%%\n"
    }
   },
   "outputs": [
    {
     "data": {
      "image/png": "[encoded data removed]",
      "text/plain": [
       "<Figure size 432x288 with 1 Axes>"
      ]
     },
     "metadata": {
      "needs_background": "light"
     },
     "output_type": "display_data"
    }
   ],
   "source": [
    "plot = plt.hist(x=closed_review_times, bins=50)"
   ]
  },
  {
   "cell_type": "code",
   "execution_count": 200,
   "id": "6c128072",
   "metadata": {
    "pycharm": {
     "name": "#%%\n"
    }
   },
   "outputs": [
    {
     "data": {
      "text/html": [
       "<div>\n",
       "<style scoped>\n",
       "    .dataframe tbody tr th:only-of-type {\n",
       "        vertical-align: middle;\n",
       "    }\n",
       "\n",
       "    .dataframe tbody tr th {\n",
       "        vertical-align: top;\n",
       "    }\n",
       "\n",
       "    .dataframe thead th {\n",
       "        text-align: right;\n",
       "    }\n",
       "</style>\n",
       "<table border=\"1\" class=\"dataframe\">\n",
       "  <thead>\n",
       "    <tr style=\"text-align: right;\">\n",
       "      <th></th>\n",
       "      <th>review_time_in_hours</th>\n",
       "    </tr>\n",
       "  </thead>\n",
       "  <tbody>\n",
       "    <tr>\n",
       "      <th>count</th>\n",
       "      <td>30035.000000</td>\n",
       "    </tr>\n",
       "    <tr>\n",
       "      <th>mean</th>\n",
       "      <td>325.966631</td>\n",
       "    </tr>\n",
       "    <tr>\n",
       "      <th>std</th>\n",
       "      <td>705.852023</td>\n",
       "    </tr>\n",
       "    <tr>\n",
       "      <th>min</th>\n",
       "      <td>0.008611</td>\n",
       "    </tr>\n",
       "    <tr>\n",
       "      <th>25%</th>\n",
       "      <td>17.154028</td>\n",
       "    </tr>\n",
       "    <tr>\n",
       "      <th>50%</th>\n",
       "      <td>73.311944</td>\n",
       "    </tr>\n",
       "    <tr>\n",
       "      <th>75%</th>\n",
       "      <td>269.121944</td>\n",
       "    </tr>\n",
       "    <tr>\n",
       "      <th>max</th>\n",
       "      <td>5310.835000</td>\n",
       "    </tr>\n",
       "  </tbody>\n",
       "</table>\n",
       "</div>"
      ],
      "text/plain": [
       "       review_time_in_hours\n",
       "count          30035.000000\n",
       "mean             325.966631\n",
       "std              705.852023\n",
       "min                0.008611\n",
       "25%               17.154028\n",
       "50%               73.311944\n",
       "75%              269.121944\n",
       "max             5310.835000"
      ]
     },
     "execution_count": 200,
     "metadata": {},
     "output_type": "execute_result"
    }
   ],
   "source": [
    "closed_review_times.describe()"
   ]
  },
  {
   "cell_type": "code",
   "execution_count": 201,
   "id": "7eeb1c2e",
   "metadata": {
    "pycharm": {
     "name": "#%%\n"
    }
   },
   "outputs": [
    {
     "data": {
      "text/plain": [
       "5"
      ]
     },
     "execution_count": 201,
     "metadata": {},
     "output_type": "execute_result"
    }
   ],
   "source": [
    "mean_closed_review_time_in_days = round(closed_review_times.mean()[0] / 60)\n",
    "mean_closed_review_time_in_days"
   ]
  },
  {
   "cell_type": "code",
   "execution_count": 202,
   "id": "c837e44e",
   "metadata": {
    "pycharm": {
     "name": "#%%\n"
    }
   },
   "outputs": [
    {
     "name": "stdout",
     "output_type": "stream",
     "text": [
      "Approved PR's take on average 2 days, whilst closed PR's take on average 5 days\n"
     ]
    }
   ],
   "source": [
    "print(f\"Approved PR's take on average {mean_approved_review_time_in_days} days, whilst closed PR's take on average {mean_closed_review_time_in_days} days\")"
   ]
  }
 ],
 "metadata": {
  "kernelspec": {
   "display_name": "Python 3 (ipykernel)",
   "language": "python",
   "name": "python3"
  },
  "language_info": {
   "codemirror_mode": {
    "name": "ipython",
    "version": 3
   },
   "file_extension": ".py",
   "mimetype": "text/x-python",
   "name": "python",
   "nbconvert_exporter": "python",
   "pygments_lexer": "ipython3",
   "version": "3.9.4"
  },
  "toc": {
   "base_numbering": 1,
   "nav_menu": {},
   "number_sections": true,
   "sideBar": true,
   "skip_h1_title": false,
   "title_cell": "Table of Contents",
   "title_sidebar": "Contents",
   "toc_cell": true,
   "toc_position": {},
   "toc_section_display": true,
   "toc_window_display": false
  },
  "varInspector": {
   "cols": {
    "lenName": 16,
    "lenType": 16,
    "lenVar": 40
   },
   "kernels_config": {
    "python": {
     "delete_cmd_postfix": "",
     "delete_cmd_prefix": "del ",
     "library": "var_list.py",
     "varRefreshCmd": "print(var_dic_list())"
    },
    "r": {
     "delete_cmd_postfix": ") ",
     "delete_cmd_prefix": "rm(",
     "library": "var_list.r",
     "varRefreshCmd": "cat(var_dic_list()) "
    }
   },
   "types_to_exclude": [
    "module",
    "function",
    "builtin_function_or_method",
    "instance",
    "_Feature"
   ],
   "window_display": false
  }
 },
 "nbformat": 4,
 "nbformat_minor": 5
}
