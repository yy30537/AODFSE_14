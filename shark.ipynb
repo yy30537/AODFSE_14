{
 "cells": [
  {
   "cell_type": "markdown",
   "id": "standing-honey",
   "metadata": {
    "toc": true,
    "pycharm": {
     "name": "#%% md\n"
    }
   },
   "source": [
    "<h1>Table of Contents<span class=\"tocSkip\"></span></h1>\n",
    "<div class=\"toc\"><ul class=\"toc-item\"></ul></div>"
   ]
  },
  {
   "cell_type": "code",
   "execution_count": 284,
   "id": "cf81835b-2b84-4901-b40e-0ce18e53cc50",
   "metadata": {},
   "outputs": [
    {
     "name": "stdout",
     "output_type": "stream",
     "text": [
      "Databases present are ['smartshark_2_1']\n",
      "Found 1 repos\n",
      "There are 7222 commits for commons-math\n"
     ]
    }
   ],
   "source": [
    "from pymongo import MongoClient\n",
    "connection = MongoClient(\n",
    "    host=\"research.cassee.dev:27017\",\n",
    "    username=\"read-shark\",\n",
    "    password=\"msr2021shark\")\n",
    "\n",
    "print(f\"Databases present are {connection.list_database_names()}\")\n",
    "\n",
    "db = connection.smartshark_2_1\n",
    "\n",
    "project = db.project.find_one({})\n",
    "\n",
    "repos = list(db.vcs_system.find({'project_id':project['_id']}))\n",
    "\n",
    "print(f\"Found {len(repos)} repos\")\n",
    "\n",
    "commits = db.commit.count_documents({'vcs_system_id': {'$in': [x[\"_id\"] for x in repos]}})\n",
    "\n",
    "print(f\"There are {commits} commits for {project['name']}\")"
   ]
  },
  {
   "cell_type": "code",
   "execution_count": 385,
   "id": "military-windsor",
   "metadata": {},
   "outputs": [],
   "source": [
    "import pandas as pd\n",
    "from bson.json_util import dumps\n",
    "from json import loads\n",
    "import bson\n",
    "from matplotlib import pyplot as plt"
   ]
  },
  {
   "cell_type": "code",
   "execution_count": 316,
   "id": "contained-cleanup",
   "metadata": {},
   "outputs": [
    {
     "name": "stdout",
     "output_type": "stream",
     "text": [
      "Database(MongoClient(host=['research.cassee.dev:27017'], document_class=dict, tz_aware=False, connect=True), 'smartshark_2_1')\n"
     ]
    }
   ],
   "source": [
    "db = connection['smartshark_2_1']\n",
    "print(db)"
   ]
  },
  {
   "cell_type": "code",
   "execution_count": 317,
   "outputs": [],
   "source": [
    "def convert_object_ids(df, keys):\n",
    "    for x in keys:\n",
    "        df[x] = (df.apply(lambda y: loads(dumps(y[x] if type(y[x]) == bson.objectid.ObjectId else {'$oid': None}))['$oid'], axis=1))\n"
   ],
   "metadata": {
    "collapsed": false,
    "pycharm": {
     "name": "#%%\n"
    }
   }
  },
  {
   "cell_type": "code",
   "execution_count": 318,
   "outputs": [],
   "source": [
    "# Get the people dataset and convert the ObjectIds to strings\n",
    "df_people = pd.DataFrame(list(db.people.find({})))\n",
    "convert_object_ids(df_people, ['_id'])"
   ],
   "metadata": {
    "collapsed": false,
    "pycharm": {
     "name": "#%%\n"
    }
   }
  },
  {
   "cell_type": "code",
   "execution_count": 319,
   "outputs": [],
   "source": [
    "# Get the project dataset and convert the ObjectIds to strings\n",
    "df_project = pd.DataFrame(list(db.project.find({})))\n",
    "convert_object_ids(df_project, ['_id'])"
   ],
   "metadata": {
    "collapsed": false,
    "pycharm": {
     "name": "#%%\n"
    }
   }
  },
  {
   "cell_type": "code",
   "execution_count": 320,
   "outputs": [],
   "source": [
    "# Get the PR dataset and convert the ObjectIds to strings\n",
    "df_pull_request = pd.DataFrame(list(db.pull_request.find({})))\n",
    "convert_object_ids(df_pull_request, [\n",
    "    '_id',\n",
    "    # 'assignee_id',\n",
    "    'creator_id',\n",
    "    # 'merge_commit_id',\n",
    "    'pull_request_system_id',\n",
    "    # 'requested_reviewer_ids',\n",
    "    # 'source_commit_id',\n",
    "    # 'target_commit_id'\n",
    "])"
   ],
   "metadata": {
    "collapsed": false,
    "pycharm": {
     "name": "#%%\n"
    }
   }
  },
  {
   "cell_type": "code",
   "execution_count": 321,
   "outputs": [],
   "source": [
    "# Get the PR_review dataset and convert the ObjectIds to strings\n",
    "df_pull_request_review = pd.DataFrame(list(db.pull_request_review.find({})))\n",
    "convert_object_ids(df_pull_request_review, [\n",
    "    '_id',\n",
    "    'creator_id',\n",
    "    # 'pull_request_commit_id',\n",
    "    'pull_request_id'\n",
    "])"
   ],
   "metadata": {
    "collapsed": false,
    "pycharm": {
     "name": "#%%\n"
    }
   }
  },
  {
   "cell_type": "code",
   "execution_count": 329,
   "outputs": [],
   "source": [
    "# Create the same identifier so that we can join\n",
    "df_pull_request['pull_request_id'] = df_pull_request['_id']"
   ],
   "metadata": {
    "collapsed": false,
    "pycharm": {
     "name": "#%%\n"
    }
   }
  },
  {
   "cell_type": "code",
   "execution_count": 388,
   "outputs": [
    {
     "data": {
      "text/plain": "                         _id           pull_request_id external_id     state  \\\n0   5ff188803fba52c925be898d  5ff1887f3fba52c925be898c   143337164  APPROVED   \n37  5ff1919ecbcaee8d21c67e79  5ff1919ccbcaee8d21c67e75   489446018  APPROVED   \n38  5ff191a0cbcaee8d21c67e82  5ff1919ecbcaee8d21c67e7f   479608653  APPROVED   \n\n                                          description  \\\n0   The code looks good, ASN.1-like encoding is a ...   \n37                                                      \n38                                                      \n\n                  creator_id        submitted_at author_association  \\\n0   5ff18872c26a57681e7b6d2b 2018-08-03 21:41:31        CONTRIBUTOR   \n37  5b4db0dc30a71b06bce03054 2020-09-16 09:32:52        CONTRIBUTOR   \n38  5b4db0dc30a71b06bce03054 2020-09-01 10:28:43        CONTRIBUTOR   \n\n                                  commit_sha    pull_request_commit_id  \n0   b506949b50d56482e5bdf1123f99a7f2b952f25c                       NaN  \n37  a309b67d74c2083d7808d1f7a6aaff22a2a75dd7  5ff1919dcbcaee8d21c67e76  \n38  c21157ad10224d78291b3433914847f9227f038d  5ff1919fcbcaee8d21c67e80  ",
      "text/html": "<div>\n<style scoped>\n    .dataframe tbody tr th:only-of-type {\n        vertical-align: middle;\n    }\n\n    .dataframe tbody tr th {\n        vertical-align: top;\n    }\n\n    .dataframe thead th {\n        text-align: right;\n    }\n</style>\n<table border=\"1\" class=\"dataframe\">\n  <thead>\n    <tr style=\"text-align: right;\">\n      <th></th>\n      <th>_id</th>\n      <th>pull_request_id</th>\n      <th>external_id</th>\n      <th>state</th>\n      <th>description</th>\n      <th>creator_id</th>\n      <th>submitted_at</th>\n      <th>author_association</th>\n      <th>commit_sha</th>\n      <th>pull_request_commit_id</th>\n    </tr>\n  </thead>\n  <tbody>\n    <tr>\n      <th>0</th>\n      <td>5ff188803fba52c925be898d</td>\n      <td>5ff1887f3fba52c925be898c</td>\n      <td>143337164</td>\n      <td>APPROVED</td>\n      <td>The code looks good, ASN.1-like encoding is a ...</td>\n      <td>5ff18872c26a57681e7b6d2b</td>\n      <td>2018-08-03 21:41:31</td>\n      <td>CONTRIBUTOR</td>\n      <td>b506949b50d56482e5bdf1123f99a7f2b952f25c</td>\n      <td>NaN</td>\n    </tr>\n    <tr>\n      <th>37</th>\n      <td>5ff1919ecbcaee8d21c67e79</td>\n      <td>5ff1919ccbcaee8d21c67e75</td>\n      <td>489446018</td>\n      <td>APPROVED</td>\n      <td></td>\n      <td>5b4db0dc30a71b06bce03054</td>\n      <td>2020-09-16 09:32:52</td>\n      <td>CONTRIBUTOR</td>\n      <td>a309b67d74c2083d7808d1f7a6aaff22a2a75dd7</td>\n      <td>5ff1919dcbcaee8d21c67e76</td>\n    </tr>\n    <tr>\n      <th>38</th>\n      <td>5ff191a0cbcaee8d21c67e82</td>\n      <td>5ff1919ecbcaee8d21c67e7f</td>\n      <td>479608653</td>\n      <td>APPROVED</td>\n      <td></td>\n      <td>5b4db0dc30a71b06bce03054</td>\n      <td>2020-09-01 10:28:43</td>\n      <td>CONTRIBUTOR</td>\n      <td>c21157ad10224d78291b3433914847f9227f038d</td>\n      <td>5ff1919fcbcaee8d21c67e80</td>\n    </tr>\n  </tbody>\n</table>\n</div>"
     },
     "execution_count": 388,
     "metadata": {},
     "output_type": "execute_result"
    }
   ],
   "source": [
    "df_approved_prs = df_pull_request_review.where(df_pull_request_review['state'] == 'APPROVED').dropna(subset=['_id'])\n",
    "df_closed_prs = df_pull_request_review.where(df_pull_request_review['state'] == 'COMMENTED').dropna(subset=['_id'])\n",
    "df_approved_prs.head(3)"
   ],
   "metadata": {
    "collapsed": false,
    "pycharm": {
     "name": "#%%\n"
    }
   }
  },
  {
   "cell_type": "code",
   "execution_count": 394,
   "outputs": [],
   "source": [
    "df_approved_prs__annotated_with_pr_creator = pd.merge(df_approved_prs, df_pull_request, on='pull_request_id')\n",
    "df_closed_prs__annotated_with_pr_creator = pd.merge(df_closed_prs, df_pull_request, on='pull_request_id')"
   ],
   "metadata": {
    "collapsed": false,
    "pycharm": {
     "name": "#%%\n"
    }
   }
  },
  {
   "cell_type": "code",
   "execution_count": 378,
   "outputs": [
    {
     "data": {
      "text/plain": "                      _id_x           pull_request_id external_id_x   state_x  \\\n0  5ff188803fba52c925be898d  5ff1887f3fba52c925be898c     143337164  APPROVED   \n1  5ff1919ecbcaee8d21c67e79  5ff1919ccbcaee8d21c67e75     489446018  APPROVED   \n2  5ff191a0cbcaee8d21c67e82  5ff1919ecbcaee8d21c67e7f     479608653  APPROVED   \n\n                                       description_x  \\\n0  The code looks good, ASN.1-like encoding is a ...   \n1                                                      \n2                                                      \n\n               creator_id_x        submitted_at author_association_x  \\\n0  5ff18872c26a57681e7b6d2b 2018-08-03 21:41:31          CONTRIBUTOR   \n1  5b4db0dc30a71b06bce03054 2020-09-16 09:32:52          CONTRIBUTOR   \n2  5b4db0dc30a71b06bce03054 2020-09-01 10:28:43          CONTRIBUTOR   \n\n                                 commit_sha    pull_request_commit_id  ...  \\\n0  b506949b50d56482e5bdf1123f99a7f2b952f25c                       NaN  ...   \n1  a309b67d74c2083d7808d1f7a6aaff22a2a75dd7  5ff1919dcbcaee8d21c67e76  ...   \n2  c21157ad10224d78291b3433914847f9227f038d  5ff1919fcbcaee8d21c67e80  ...   \n\n              source_branch                         source_commit_sha  \\\n0                    master  89583444040dc5423bb143435f23ae0814f24542   \n1                   WSS-678  a309b67d74c2083d7808d1f7a6aaff22a2a75dd7   \n2  wss4j-ws-security-common  c21157ad10224d78291b3433914847f9227f038d   \n\n                      target_repo_url target_branch  \\\n0   https://github.com/apache/ant-ivy        master   \n1  https://github.com/apache/ws-wss4j        master   \n2  https://github.com/apache/ws-wss4j        master   \n\n                          target_commit_sha  source_commit_id  \\\n0  89583444040dc5423bb143435f23ae0814f24542               NaN   \n1  1765c4149d700cac8aea5c1a3b78f2bdee8b6e71               NaN   \n2  e9c20e63dc1694dbc5e116e4c9e82190aa81320a               NaN   \n\n   target_commit_id merge_commit_id assignee_id lock_reason  \n0               NaN             NaN         NaN         NaN  \n1               NaN             NaN         NaN         NaN  \n2               NaN             NaN         NaN         NaN  \n\n[3 rows x 37 columns]",
      "text/html": "<div>\n<style scoped>\n    .dataframe tbody tr th:only-of-type {\n        vertical-align: middle;\n    }\n\n    .dataframe tbody tr th {\n        vertical-align: top;\n    }\n\n    .dataframe thead th {\n        text-align: right;\n    }\n</style>\n<table border=\"1\" class=\"dataframe\">\n  <thead>\n    <tr style=\"text-align: right;\">\n      <th></th>\n      <th>_id_x</th>\n      <th>pull_request_id</th>\n      <th>external_id_x</th>\n      <th>state_x</th>\n      <th>description_x</th>\n      <th>creator_id_x</th>\n      <th>submitted_at</th>\n      <th>author_association_x</th>\n      <th>commit_sha</th>\n      <th>pull_request_commit_id</th>\n      <th>...</th>\n      <th>source_branch</th>\n      <th>source_commit_sha</th>\n      <th>target_repo_url</th>\n      <th>target_branch</th>\n      <th>target_commit_sha</th>\n      <th>source_commit_id</th>\n      <th>target_commit_id</th>\n      <th>merge_commit_id</th>\n      <th>assignee_id</th>\n      <th>lock_reason</th>\n    </tr>\n  </thead>\n  <tbody>\n    <tr>\n      <th>0</th>\n      <td>5ff188803fba52c925be898d</td>\n      <td>5ff1887f3fba52c925be898c</td>\n      <td>143337164</td>\n      <td>APPROVED</td>\n      <td>The code looks good, ASN.1-like encoding is a ...</td>\n      <td>5ff18872c26a57681e7b6d2b</td>\n      <td>2018-08-03 21:41:31</td>\n      <td>CONTRIBUTOR</td>\n      <td>b506949b50d56482e5bdf1123f99a7f2b952f25c</td>\n      <td>NaN</td>\n      <td>...</td>\n      <td>master</td>\n      <td>89583444040dc5423bb143435f23ae0814f24542</td>\n      <td>https://github.com/apache/ant-ivy</td>\n      <td>master</td>\n      <td>89583444040dc5423bb143435f23ae0814f24542</td>\n      <td>NaN</td>\n      <td>NaN</td>\n      <td>NaN</td>\n      <td>NaN</td>\n      <td>NaN</td>\n    </tr>\n    <tr>\n      <th>1</th>\n      <td>5ff1919ecbcaee8d21c67e79</td>\n      <td>5ff1919ccbcaee8d21c67e75</td>\n      <td>489446018</td>\n      <td>APPROVED</td>\n      <td></td>\n      <td>5b4db0dc30a71b06bce03054</td>\n      <td>2020-09-16 09:32:52</td>\n      <td>CONTRIBUTOR</td>\n      <td>a309b67d74c2083d7808d1f7a6aaff22a2a75dd7</td>\n      <td>5ff1919dcbcaee8d21c67e76</td>\n      <td>...</td>\n      <td>WSS-678</td>\n      <td>a309b67d74c2083d7808d1f7a6aaff22a2a75dd7</td>\n      <td>https://github.com/apache/ws-wss4j</td>\n      <td>master</td>\n      <td>1765c4149d700cac8aea5c1a3b78f2bdee8b6e71</td>\n      <td>NaN</td>\n      <td>NaN</td>\n      <td>NaN</td>\n      <td>NaN</td>\n      <td>NaN</td>\n    </tr>\n    <tr>\n      <th>2</th>\n      <td>5ff191a0cbcaee8d21c67e82</td>\n      <td>5ff1919ecbcaee8d21c67e7f</td>\n      <td>479608653</td>\n      <td>APPROVED</td>\n      <td></td>\n      <td>5b4db0dc30a71b06bce03054</td>\n      <td>2020-09-01 10:28:43</td>\n      <td>CONTRIBUTOR</td>\n      <td>c21157ad10224d78291b3433914847f9227f038d</td>\n      <td>5ff1919fcbcaee8d21c67e80</td>\n      <td>...</td>\n      <td>wss4j-ws-security-common</td>\n      <td>c21157ad10224d78291b3433914847f9227f038d</td>\n      <td>https://github.com/apache/ws-wss4j</td>\n      <td>master</td>\n      <td>e9c20e63dc1694dbc5e116e4c9e82190aa81320a</td>\n      <td>NaN</td>\n      <td>NaN</td>\n      <td>NaN</td>\n      <td>NaN</td>\n      <td>NaN</td>\n    </tr>\n  </tbody>\n</table>\n<p>3 rows × 37 columns</p>\n</div>"
     },
     "execution_count": 378,
     "metadata": {},
     "output_type": "execute_result"
    }
   ],
   "source": [
    "df_approved_prs__annotated_with_pr_creator.head(3)"
   ],
   "metadata": {
    "collapsed": false,
    "pycharm": {
     "name": "#%%\n"
    }
   }
  },
  {
   "cell_type": "code",
   "execution_count": 386,
   "id": "chicken-strand",
   "metadata": {
    "pycharm": {
     "name": "#%%\n"
    }
   },
   "outputs": [
    {
     "data": {
      "text/plain": "                   creator_id_x              creator_id_y\n0      5ff18872c26a57681e7b6d2b  5ff1887dc26a57681e7b6ee1\n1      5b4db0dc30a71b06bce03054  5f0d6a7baf02e2d6de888cd0\n2      5b4db0dc30a71b06bce03054  5f0d6a7baf02e2d6de888cd0\n3      5b4db0dc30a71b06bce03054  5ff191a2c26a57681e7b9533\n4      5b4db0dc30a71b06bce03054  5ff191a2c26a57681e7b9533\n...                         ...                       ...\n19773  5b4db0dc30a71b06bce03054  5f0d6a7baf02e2d6de888cd0\n19774  5b4db0dc30a71b06bce03054  5f0d6a7baf02e2d6de888cd0\n19775  59bc2341f2a4565fe9cfaace  60fd84a0f73e2aa3902dad2a\n19776  59bc2341f2a4565fe9cfaace  60fd84a5f73e2aa3902dc6d2\n19777  59bc2341f2a4565fe9cfaace  5b64351f30a71b06bca37a02\n\n[19778 rows x 2 columns]",
      "text/html": "<div>\n<style scoped>\n    .dataframe tbody tr th:only-of-type {\n        vertical-align: middle;\n    }\n\n    .dataframe tbody tr th {\n        vertical-align: top;\n    }\n\n    .dataframe thead th {\n        text-align: right;\n    }\n</style>\n<table border=\"1\" class=\"dataframe\">\n  <thead>\n    <tr style=\"text-align: right;\">\n      <th></th>\n      <th>creator_id_x</th>\n      <th>creator_id_y</th>\n    </tr>\n  </thead>\n  <tbody>\n    <tr>\n      <th>0</th>\n      <td>5ff18872c26a57681e7b6d2b</td>\n      <td>5ff1887dc26a57681e7b6ee1</td>\n    </tr>\n    <tr>\n      <th>1</th>\n      <td>5b4db0dc30a71b06bce03054</td>\n      <td>5f0d6a7baf02e2d6de888cd0</td>\n    </tr>\n    <tr>\n      <th>2</th>\n      <td>5b4db0dc30a71b06bce03054</td>\n      <td>5f0d6a7baf02e2d6de888cd0</td>\n    </tr>\n    <tr>\n      <th>3</th>\n      <td>5b4db0dc30a71b06bce03054</td>\n      <td>5ff191a2c26a57681e7b9533</td>\n    </tr>\n    <tr>\n      <th>4</th>\n      <td>5b4db0dc30a71b06bce03054</td>\n      <td>5ff191a2c26a57681e7b9533</td>\n    </tr>\n    <tr>\n      <th>...</th>\n      <td>...</td>\n      <td>...</td>\n    </tr>\n    <tr>\n      <th>19773</th>\n      <td>5b4db0dc30a71b06bce03054</td>\n      <td>5f0d6a7baf02e2d6de888cd0</td>\n    </tr>\n    <tr>\n      <th>19774</th>\n      <td>5b4db0dc30a71b06bce03054</td>\n      <td>5f0d6a7baf02e2d6de888cd0</td>\n    </tr>\n    <tr>\n      <th>19775</th>\n      <td>59bc2341f2a4565fe9cfaace</td>\n      <td>60fd84a0f73e2aa3902dad2a</td>\n    </tr>\n    <tr>\n      <th>19776</th>\n      <td>59bc2341f2a4565fe9cfaace</td>\n      <td>60fd84a5f73e2aa3902dc6d2</td>\n    </tr>\n    <tr>\n      <th>19777</th>\n      <td>59bc2341f2a4565fe9cfaace</td>\n      <td>5b64351f30a71b06bca37a02</td>\n    </tr>\n  </tbody>\n</table>\n<p>19778 rows × 2 columns</p>\n</div>"
     },
     "execution_count": 386,
     "metadata": {},
     "output_type": "execute_result"
    }
   ],
   "source": [
    "# Get the approved PR's that were merged by someone that is not the same person as the one that opened the request\n",
    "approved_pull_requests_closed_by_different_person = df_approved_prs__annotated_with_pr_creator.where(df_approved_prs__annotated_with_pr_creator['creator_id_x'] != df_approved_prs__annotated_with_pr_creator['creator_id_y'])\n",
    "\n",
    "approved_pull_requests_closed_by_different_person[['creator_id_x', 'creator_id_y']]"
   ]
  },
  {
   "cell_type": "code",
   "execution_count": 395,
   "outputs": [
    {
     "data": {
      "text/plain": "                   creator_id_x              creator_id_y\n0                           NaN                       NaN\n1      5b4db0dc30a71b06bce03054  5f0d6a7baf02e2d6de888cd0\n2      5b4db0dc30a71b06bce03054  5f0d6a7baf02e2d6de888cd0\n3      5b4db0dc30a71b06bce03054  5ff191a2c26a57681e7b9533\n4      5b4db0dc30a71b06bce03054  5ff191a2c26a57681e7b9533\n...                         ...                       ...\n19773                       NaN                       NaN\n19774                       NaN                       NaN\n19775                       NaN                       NaN\n19776  59bc2341f2a4565fe9cfaace  60fd84a5f73e2aa3902dc6d2\n19777  59bc2341f2a4565fe9cfaace  5b64351f30a71b06bca37a02\n\n[19778 rows x 2 columns]",
      "text/html": "<div>\n<style scoped>\n    .dataframe tbody tr th:only-of-type {\n        vertical-align: middle;\n    }\n\n    .dataframe tbody tr th {\n        vertical-align: top;\n    }\n\n    .dataframe thead th {\n        text-align: right;\n    }\n</style>\n<table border=\"1\" class=\"dataframe\">\n  <thead>\n    <tr style=\"text-align: right;\">\n      <th></th>\n      <th>creator_id_x</th>\n      <th>creator_id_y</th>\n    </tr>\n  </thead>\n  <tbody>\n    <tr>\n      <th>0</th>\n      <td>NaN</td>\n      <td>NaN</td>\n    </tr>\n    <tr>\n      <th>1</th>\n      <td>5b4db0dc30a71b06bce03054</td>\n      <td>5f0d6a7baf02e2d6de888cd0</td>\n    </tr>\n    <tr>\n      <th>2</th>\n      <td>5b4db0dc30a71b06bce03054</td>\n      <td>5f0d6a7baf02e2d6de888cd0</td>\n    </tr>\n    <tr>\n      <th>3</th>\n      <td>5b4db0dc30a71b06bce03054</td>\n      <td>5ff191a2c26a57681e7b9533</td>\n    </tr>\n    <tr>\n      <th>4</th>\n      <td>5b4db0dc30a71b06bce03054</td>\n      <td>5ff191a2c26a57681e7b9533</td>\n    </tr>\n    <tr>\n      <th>...</th>\n      <td>...</td>\n      <td>...</td>\n    </tr>\n    <tr>\n      <th>19773</th>\n      <td>NaN</td>\n      <td>NaN</td>\n    </tr>\n    <tr>\n      <th>19774</th>\n      <td>NaN</td>\n      <td>NaN</td>\n    </tr>\n    <tr>\n      <th>19775</th>\n      <td>NaN</td>\n      <td>NaN</td>\n    </tr>\n    <tr>\n      <th>19776</th>\n      <td>59bc2341f2a4565fe9cfaace</td>\n      <td>60fd84a5f73e2aa3902dc6d2</td>\n    </tr>\n    <tr>\n      <th>19777</th>\n      <td>59bc2341f2a4565fe9cfaace</td>\n      <td>5b64351f30a71b06bca37a02</td>\n    </tr>\n  </tbody>\n</table>\n<p>19778 rows × 2 columns</p>\n</div>"
     },
     "execution_count": 395,
     "metadata": {},
     "output_type": "execute_result"
    }
   ],
   "source": [
    "# Get the PR's that were merged by someone that is not the same person as the one that opened the request\n",
    "closed_pull_requests_closed_by_different_person = df_approved_prs__annotated_with_pr_creator.where(df_closed_prs__annotated_with_pr_creator['creator_id_x'] != df_closed_prs__annotated_with_pr_creator['creator_id_y'])\n",
    "\n",
    "closed_pull_requests_closed_by_different_person[['creator_id_x', 'creator_id_y']]"
   ],
   "metadata": {
    "collapsed": false,
    "pycharm": {
     "name": "#%%\n"
    }
   }
  },
  {
   "cell_type": "code",
   "execution_count": 391,
   "outputs": [
    {
     "data": {
      "text/plain": "                      _id_x           pull_request_id external_id_x   state_x  \\\n0  5ff188803fba52c925be898d  5ff1887f3fba52c925be898c     143337164  APPROVED   \n1  5ff1919ecbcaee8d21c67e79  5ff1919ccbcaee8d21c67e75     489446018  APPROVED   \n2  5ff191a0cbcaee8d21c67e82  5ff1919ecbcaee8d21c67e7f     479608653  APPROVED   \n\n                                       description_x  \\\n0  The code looks good, ASN.1-like encoding is a ...   \n1                                                      \n2                                                      \n\n               creator_id_x        submitted_at author_association_x  \\\n0  5ff18872c26a57681e7b6d2b 2018-08-03 21:41:31          CONTRIBUTOR   \n1  5b4db0dc30a71b06bce03054 2020-09-16 09:32:52          CONTRIBUTOR   \n2  5b4db0dc30a71b06bce03054 2020-09-01 10:28:43          CONTRIBUTOR   \n\n                                 commit_sha    pull_request_commit_id  ...  \\\n0  b506949b50d56482e5bdf1123f99a7f2b952f25c                       NaN  ...   \n1  a309b67d74c2083d7808d1f7a6aaff22a2a75dd7  5ff1919dcbcaee8d21c67e76  ...   \n2  c21157ad10224d78291b3433914847f9227f038d  5ff1919fcbcaee8d21c67e80  ...   \n\n              source_branch                         source_commit_sha  \\\n0                    master  89583444040dc5423bb143435f23ae0814f24542   \n1                   WSS-678  a309b67d74c2083d7808d1f7a6aaff22a2a75dd7   \n2  wss4j-ws-security-common  c21157ad10224d78291b3433914847f9227f038d   \n\n                      target_repo_url target_branch  \\\n0   https://github.com/apache/ant-ivy        master   \n1  https://github.com/apache/ws-wss4j        master   \n2  https://github.com/apache/ws-wss4j        master   \n\n                          target_commit_sha  source_commit_id  \\\n0  89583444040dc5423bb143435f23ae0814f24542               NaN   \n1  1765c4149d700cac8aea5c1a3b78f2bdee8b6e71               NaN   \n2  e9c20e63dc1694dbc5e116e4c9e82190aa81320a               NaN   \n\n   target_commit_id merge_commit_id assignee_id lock_reason  \n0               NaN             NaN         NaN         NaN  \n1               NaN             NaN         NaN         NaN  \n2               NaN             NaN         NaN         NaN  \n\n[3 rows x 37 columns]",
      "text/html": "<div>\n<style scoped>\n    .dataframe tbody tr th:only-of-type {\n        vertical-align: middle;\n    }\n\n    .dataframe tbody tr th {\n        vertical-align: top;\n    }\n\n    .dataframe thead th {\n        text-align: right;\n    }\n</style>\n<table border=\"1\" class=\"dataframe\">\n  <thead>\n    <tr style=\"text-align: right;\">\n      <th></th>\n      <th>_id_x</th>\n      <th>pull_request_id</th>\n      <th>external_id_x</th>\n      <th>state_x</th>\n      <th>description_x</th>\n      <th>creator_id_x</th>\n      <th>submitted_at</th>\n      <th>author_association_x</th>\n      <th>commit_sha</th>\n      <th>pull_request_commit_id</th>\n      <th>...</th>\n      <th>source_branch</th>\n      <th>source_commit_sha</th>\n      <th>target_repo_url</th>\n      <th>target_branch</th>\n      <th>target_commit_sha</th>\n      <th>source_commit_id</th>\n      <th>target_commit_id</th>\n      <th>merge_commit_id</th>\n      <th>assignee_id</th>\n      <th>lock_reason</th>\n    </tr>\n  </thead>\n  <tbody>\n    <tr>\n      <th>0</th>\n      <td>5ff188803fba52c925be898d</td>\n      <td>5ff1887f3fba52c925be898c</td>\n      <td>143337164</td>\n      <td>APPROVED</td>\n      <td>The code looks good, ASN.1-like encoding is a ...</td>\n      <td>5ff18872c26a57681e7b6d2b</td>\n      <td>2018-08-03 21:41:31</td>\n      <td>CONTRIBUTOR</td>\n      <td>b506949b50d56482e5bdf1123f99a7f2b952f25c</td>\n      <td>NaN</td>\n      <td>...</td>\n      <td>master</td>\n      <td>89583444040dc5423bb143435f23ae0814f24542</td>\n      <td>https://github.com/apache/ant-ivy</td>\n      <td>master</td>\n      <td>89583444040dc5423bb143435f23ae0814f24542</td>\n      <td>NaN</td>\n      <td>NaN</td>\n      <td>NaN</td>\n      <td>NaN</td>\n      <td>NaN</td>\n    </tr>\n    <tr>\n      <th>1</th>\n      <td>5ff1919ecbcaee8d21c67e79</td>\n      <td>5ff1919ccbcaee8d21c67e75</td>\n      <td>489446018</td>\n      <td>APPROVED</td>\n      <td></td>\n      <td>5b4db0dc30a71b06bce03054</td>\n      <td>2020-09-16 09:32:52</td>\n      <td>CONTRIBUTOR</td>\n      <td>a309b67d74c2083d7808d1f7a6aaff22a2a75dd7</td>\n      <td>5ff1919dcbcaee8d21c67e76</td>\n      <td>...</td>\n      <td>WSS-678</td>\n      <td>a309b67d74c2083d7808d1f7a6aaff22a2a75dd7</td>\n      <td>https://github.com/apache/ws-wss4j</td>\n      <td>master</td>\n      <td>1765c4149d700cac8aea5c1a3b78f2bdee8b6e71</td>\n      <td>NaN</td>\n      <td>NaN</td>\n      <td>NaN</td>\n      <td>NaN</td>\n      <td>NaN</td>\n    </tr>\n    <tr>\n      <th>2</th>\n      <td>5ff191a0cbcaee8d21c67e82</td>\n      <td>5ff1919ecbcaee8d21c67e7f</td>\n      <td>479608653</td>\n      <td>APPROVED</td>\n      <td></td>\n      <td>5b4db0dc30a71b06bce03054</td>\n      <td>2020-09-01 10:28:43</td>\n      <td>CONTRIBUTOR</td>\n      <td>c21157ad10224d78291b3433914847f9227f038d</td>\n      <td>5ff1919fcbcaee8d21c67e80</td>\n      <td>...</td>\n      <td>wss4j-ws-security-common</td>\n      <td>c21157ad10224d78291b3433914847f9227f038d</td>\n      <td>https://github.com/apache/ws-wss4j</td>\n      <td>master</td>\n      <td>e9c20e63dc1694dbc5e116e4c9e82190aa81320a</td>\n      <td>NaN</td>\n      <td>NaN</td>\n      <td>NaN</td>\n      <td>NaN</td>\n      <td>NaN</td>\n    </tr>\n  </tbody>\n</table>\n<p>3 rows × 37 columns</p>\n</div>"
     },
     "execution_count": 391,
     "metadata": {},
     "output_type": "execute_result"
    }
   ],
   "source": [
    "approved_pull_requests_closed_by_different_person.head(3)"
   ],
   "metadata": {
    "collapsed": false,
    "pycharm": {
     "name": "#%%\n"
    }
   }
  },
  {
   "cell_type": "code",
   "execution_count": 410,
   "outputs": [
    {
     "data": {
      "text/plain": "<Figure size 432x288 with 1 Axes>",
      "image/png": "[encoded data removed]"
     },
     "metadata": {
      "needs_background": "light"
     },
     "output_type": "display_data"
    }
   ],
   "source": [
    "\n",
    "approved_pull_requests_closed_by_different_person['review_time'] = (approved_pull_requests_closed_by_different_person.apply(lambda x: (x['submitted_at'] - x['created_at']).days if x['created_at'] and x['submitted_at'] else None, axis=1))\n",
    "approved_review_times = approved_pull_requests_closed_by_different_person.where(approved_pull_requests_closed_by_different_person['review_time'] > 0).dropna(subset=['review_time'])[['review_time']]\n",
    "plot = plt.boxplot(x=approved_review_times)\n"
   ],
   "metadata": {
    "collapsed": false,
    "pycharm": {
     "name": "#%%\n"
    }
   }
  },
  {
   "cell_type": "code",
   "execution_count": 411,
   "outputs": [
    {
     "data": {
      "text/plain": "review_time    26.747218\ndtype: float64"
     },
     "execution_count": 411,
     "metadata": {},
     "output_type": "execute_result"
    }
   ],
   "source": [
    "mean_number_of_days_for_approved_prs = approved_review_times.mean()\n",
    "mean_number_of_days_for_approved_prs"
   ],
   "metadata": {
    "collapsed": false,
    "pycharm": {
     "name": "#%%\n"
    }
   }
  },
  {
   "cell_type": "code",
   "execution_count": 407,
   "outputs": [
    {
     "data": {
      "text/plain": "<Figure size 432x288 with 1 Axes>",
      "image/png": "[encoded data removed]"
     },
     "metadata": {
      "needs_background": "light"
     },
     "output_type": "display_data"
    }
   ],
   "source": [
    "closed_pull_requests_closed_by_different_person['review_time'] = (closed_pull_requests_closed_by_different_person.apply(lambda x: (x['submitted_at'] - x['created_at']).days if x['created_at'] and x['submitted_at'] else None, axis=1))\n",
    "closed_review_times = closed_pull_requests_closed_by_different_person.where(closed_pull_requests_closed_by_different_person['review_time'] > 0).dropna(subset=['review_time'])[['review_time']]\n",
    "plot = plt.boxplot(x=closed_review_times)"
   ],
   "metadata": {
    "collapsed": false,
    "pycharm": {
     "name": "#%%\n"
    }
   }
  },
  {
   "cell_type": "code",
   "execution_count": 408,
   "outputs": [
    {
     "data": {
      "text/plain": "review_time    27.026969\ndtype: float64"
     },
     "execution_count": 408,
     "metadata": {},
     "output_type": "execute_result"
    }
   ],
   "source": [
    "mean_number_of_days_for_closed_prs = closed_review_times.mean()\n",
    "mean_number_of_days_for_closed_prs"
   ],
   "metadata": {
    "collapsed": false,
    "pycharm": {
     "name": "#%%\n"
    }
   }
  },
  {
   "cell_type": "code",
   "execution_count": 404,
   "outputs": [
    {
     "data": {
      "text/plain": "       review_time\n4              7.0\n5             76.0\n7              5.0\n12             2.0\n14            20.0\n...            ...\n19766          4.0\n19767         67.0\n19768         73.0\n19769         98.0\n19770          8.0\n\n[5562 rows x 1 columns]",
      "text/html": "<div>\n<style scoped>\n    .dataframe tbody tr th:only-of-type {\n        vertical-align: middle;\n    }\n\n    .dataframe tbody tr th {\n        vertical-align: top;\n    }\n\n    .dataframe thead th {\n        text-align: right;\n    }\n</style>\n<table border=\"1\" class=\"dataframe\">\n  <thead>\n    <tr style=\"text-align: right;\">\n      <th></th>\n      <th>review_time</th>\n    </tr>\n  </thead>\n  <tbody>\n    <tr>\n      <th>4</th>\n      <td>7.0</td>\n    </tr>\n    <tr>\n      <th>5</th>\n      <td>76.0</td>\n    </tr>\n    <tr>\n      <th>7</th>\n      <td>5.0</td>\n    </tr>\n    <tr>\n      <th>12</th>\n      <td>2.0</td>\n    </tr>\n    <tr>\n      <th>14</th>\n      <td>20.0</td>\n    </tr>\n    <tr>\n      <th>...</th>\n      <td>...</td>\n    </tr>\n    <tr>\n      <th>19766</th>\n      <td>4.0</td>\n    </tr>\n    <tr>\n      <th>19767</th>\n      <td>67.0</td>\n    </tr>\n    <tr>\n      <th>19768</th>\n      <td>73.0</td>\n    </tr>\n    <tr>\n      <th>19769</th>\n      <td>98.0</td>\n    </tr>\n    <tr>\n      <th>19770</th>\n      <td>8.0</td>\n    </tr>\n  </tbody>\n</table>\n<p>5562 rows × 1 columns</p>\n</div>"
     },
     "execution_count": 404,
     "metadata": {},
     "output_type": "execute_result"
    }
   ],
   "source": [
    "closed_pull_requests_closed_by_different_person.where(closed_pull_requests_closed_by_different_person['review_time'] > 0).dropna(subset=['review_time'])[['review_time']]"
   ],
   "metadata": {
    "collapsed": false,
    "pycharm": {
     "name": "#%%\n"
    }
   }
  }
 ],
 "metadata": {
  "kernelspec": {
   "display_name": "Python 3",
   "language": "python",
   "name": "python3"
  },
  "toc": {
   "base_numbering": 1,
   "nav_menu": {},
   "number_sections": true,
   "sideBar": true,
   "skip_h1_title": false,
   "title_cell": "Table of Contents",
   "title_sidebar": "Contents",
   "toc_cell": true,
   "toc_position": {},
   "toc_section_display": true,
   "toc_window_display": false
  },
  "varInspector": {
   "cols": {
    "lenName": 16,
    "lenType": 16,
    "lenVar": 40
   },
   "kernels_config": {
    "python": {
     "delete_cmd_postfix": "",
     "delete_cmd_prefix": "del ",
     "library": "var_list.py",
     "varRefreshCmd": "print(var_dic_list())"
    },
    "r": {
     "delete_cmd_postfix": ") ",
     "delete_cmd_prefix": "rm(",
     "library": "var_list.r",
     "varRefreshCmd": "cat(var_dic_list()) "
    }
   },
   "types_to_exclude": [
    "module",
    "function",
    "builtin_function_or_method",
    "instance",
    "_Feature"
   ],
   "window_display": false
  }
 },
 "nbformat": 4,
 "nbformat_minor": 5
}