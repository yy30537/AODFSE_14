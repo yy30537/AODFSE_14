{
 "cells": [
  {
   "cell_type": "markdown",
   "id": "standing-honey",
   "metadata": {
    "toc": true,
    "pycharm": {
     "name": "#%% md\n"
    }
   },
   "source": [
    "<h1>Table of Contents<span class=\"tocSkip\"></span></h1>\n",
    "<div class=\"toc\"><ul class=\"toc-item\"></ul></div>"
   ]
  },
  {
   "cell_type": "code",
   "execution_count": 103,
   "id": "cf81835b-2b84-4901-b40e-0ce18e53cc50",
   "metadata": {},
   "outputs": [
    {
     "name": "stdout",
     "output_type": "stream",
     "text": [
      "Databases present are ['smartshark_2_1']\n",
      "Found 1 repos\n",
      "There are 7222 commits for commons-math\n"
     ]
    }
   ],
   "source": [
    "from pymongo import MongoClient\n",
    "connection = MongoClient(\n",
    "    host=\"research.cassee.dev:27017\",\n",
    "    username=\"read-shark\",\n",
    "    password=\"msr2021shark\")\n",
    "\n",
    "print(f\"Databases present are {connection.list_database_names()}\")\n",
    "\n",
    "db = connection.smartshark_2_1\n",
    "\n",
    "project = db.project.find_one({})\n",
    "\n",
    "repos = list(db.vcs_system.find({'project_id':project['_id']}))\n",
    "\n",
    "print(f\"Found {len(repos)} repos\")\n",
    "\n",
    "commits = db.commit.count_documents({'vcs_system_id': {'$in': [x[\"_id\"] for x in repos]}})\n",
    "\n",
    "print(f\"There are {commits} commits for {project['name']}\")"
   ]
  },
  {
   "cell_type": "code",
   "execution_count": 222,
   "id": "military-windsor",
   "metadata": {},
   "outputs": [],
   "source": [
    "import pandas as pd\n",
    "from bson.json_util import dumps\n",
    "from json import loads"
   ]
  },
  {
   "cell_type": "code",
   "execution_count": 209,
   "outputs": [
    {
     "ename": "ValueError",
     "evalue": "Array conditional must be same shape as self",
     "output_type": "error",
     "traceback": [
      "\u001B[0;31m---------------------------------------------------------------------------\u001B[0m",
      "\u001B[0;31mValueError\u001B[0m                                Traceback (most recent call last)",
      "\u001B[0;32m<ipython-input-209-49df859e0bf7>\u001B[0m in \u001B[0;36m<module>\u001B[0;34m\u001B[0m\n\u001B[1;32m      6\u001B[0m }}])\n\u001B[1;32m      7\u001B[0m \u001B[0mdf\u001B[0m \u001B[0;34m=\u001B[0m \u001B[0mpd\u001B[0m\u001B[0;34m.\u001B[0m\u001B[0mDataFrame\u001B[0m\u001B[0;34m(\u001B[0m\u001B[0mlist\u001B[0m\u001B[0;34m(\u001B[0m\u001B[0mquery\u001B[0m\u001B[0;34m)\u001B[0m\u001B[0;34m)\u001B[0m\u001B[0;34m\u001B[0m\u001B[0;34m\u001B[0m\u001B[0m\n\u001B[0;32m----> 8\u001B[0;31m \u001B[0mdf\u001B[0m\u001B[0;34m.\u001B[0m\u001B[0mwhere\u001B[0m\u001B[0;34m(\u001B[0m\u001B[0mdf\u001B[0m\u001B[0;34m[\u001B[0m\u001B[0;34m'pull_request'\u001B[0m\u001B[0;34m]\u001B[0m\u001B[0;34m.\u001B[0m\u001B[0msize\u001B[0m \u001B[0;34m>\u001B[0m \u001B[0;36m0\u001B[0m\u001B[0;34m)\u001B[0m\u001B[0;34m.\u001B[0m\u001B[0mhead\u001B[0m\u001B[0;34m(\u001B[0m\u001B[0;36m10\u001B[0m\u001B[0;34m)\u001B[0m\u001B[0;34m\u001B[0m\u001B[0;34m\u001B[0m\u001B[0m\n\u001B[0m",
      "\u001B[0;32m~/.local/lib/python3.9/site-packages/pandas/util/_decorators.py\u001B[0m in \u001B[0;36mwrapper\u001B[0;34m(*args, **kwargs)\u001B[0m\n\u001B[1;32m    309\u001B[0m                     \u001B[0mstacklevel\u001B[0m\u001B[0;34m=\u001B[0m\u001B[0mstacklevel\u001B[0m\u001B[0;34m,\u001B[0m\u001B[0;34m\u001B[0m\u001B[0;34m\u001B[0m\u001B[0m\n\u001B[1;32m    310\u001B[0m                 )\n\u001B[0;32m--> 311\u001B[0;31m             \u001B[0;32mreturn\u001B[0m \u001B[0mfunc\u001B[0m\u001B[0;34m(\u001B[0m\u001B[0;34m*\u001B[0m\u001B[0margs\u001B[0m\u001B[0;34m,\u001B[0m \u001B[0;34m**\u001B[0m\u001B[0mkwargs\u001B[0m\u001B[0;34m)\u001B[0m\u001B[0;34m\u001B[0m\u001B[0;34m\u001B[0m\u001B[0m\n\u001B[0m\u001B[1;32m    312\u001B[0m \u001B[0;34m\u001B[0m\u001B[0m\n\u001B[1;32m    313\u001B[0m         \u001B[0;32mreturn\u001B[0m \u001B[0mwrapper\u001B[0m\u001B[0;34m\u001B[0m\u001B[0;34m\u001B[0m\u001B[0m\n",
      "\u001B[0;32m~/.local/lib/python3.9/site-packages/pandas/core/frame.py\u001B[0m in \u001B[0;36mwhere\u001B[0;34m(self, cond, other, inplace, axis, level, errors, try_cast)\u001B[0m\n\u001B[1;32m  10734\u001B[0m         \u001B[0mtry_cast\u001B[0m\u001B[0;34m=\u001B[0m\u001B[0mlib\u001B[0m\u001B[0;34m.\u001B[0m\u001B[0mno_default\u001B[0m\u001B[0;34m,\u001B[0m\u001B[0;34m\u001B[0m\u001B[0;34m\u001B[0m\u001B[0m\n\u001B[1;32m  10735\u001B[0m     ):\n\u001B[0;32m> 10736\u001B[0;31m         \u001B[0;32mreturn\u001B[0m \u001B[0msuper\u001B[0m\u001B[0;34m(\u001B[0m\u001B[0;34m)\u001B[0m\u001B[0;34m.\u001B[0m\u001B[0mwhere\u001B[0m\u001B[0;34m(\u001B[0m\u001B[0mcond\u001B[0m\u001B[0;34m,\u001B[0m \u001B[0mother\u001B[0m\u001B[0;34m,\u001B[0m \u001B[0minplace\u001B[0m\u001B[0;34m,\u001B[0m \u001B[0maxis\u001B[0m\u001B[0;34m,\u001B[0m \u001B[0mlevel\u001B[0m\u001B[0;34m,\u001B[0m \u001B[0merrors\u001B[0m\u001B[0;34m,\u001B[0m \u001B[0mtry_cast\u001B[0m\u001B[0;34m)\u001B[0m\u001B[0;34m\u001B[0m\u001B[0;34m\u001B[0m\u001B[0m\n\u001B[0m\u001B[1;32m  10737\u001B[0m \u001B[0;34m\u001B[0m\u001B[0m\n\u001B[1;32m  10738\u001B[0m     @deprecate_nonkeyword_arguments(\n",
      "\u001B[0;32m~/.local/lib/python3.9/site-packages/pandas/core/generic.py\u001B[0m in \u001B[0;36mwhere\u001B[0;34m(self, cond, other, inplace, axis, level, errors, try_cast)\u001B[0m\n\u001B[1;32m   9030\u001B[0m             )\n\u001B[1;32m   9031\u001B[0m \u001B[0;34m\u001B[0m\u001B[0m\n\u001B[0;32m-> 9032\u001B[0;31m         \u001B[0;32mreturn\u001B[0m \u001B[0mself\u001B[0m\u001B[0;34m.\u001B[0m\u001B[0m_where\u001B[0m\u001B[0;34m(\u001B[0m\u001B[0mcond\u001B[0m\u001B[0;34m,\u001B[0m \u001B[0mother\u001B[0m\u001B[0;34m,\u001B[0m \u001B[0minplace\u001B[0m\u001B[0;34m,\u001B[0m \u001B[0maxis\u001B[0m\u001B[0;34m,\u001B[0m \u001B[0mlevel\u001B[0m\u001B[0;34m,\u001B[0m \u001B[0merrors\u001B[0m\u001B[0;34m=\u001B[0m\u001B[0merrors\u001B[0m\u001B[0;34m)\u001B[0m\u001B[0;34m\u001B[0m\u001B[0;34m\u001B[0m\u001B[0m\n\u001B[0m\u001B[1;32m   9033\u001B[0m \u001B[0;34m\u001B[0m\u001B[0m\n\u001B[1;32m   9034\u001B[0m     \u001B[0;34m@\u001B[0m\u001B[0mfinal\u001B[0m\u001B[0;34m\u001B[0m\u001B[0;34m\u001B[0m\u001B[0m\n",
      "\u001B[0;32m~/.local/lib/python3.9/site-packages/pandas/core/generic.py\u001B[0m in \u001B[0;36m_where\u001B[0;34m(self, cond, other, inplace, axis, level, errors)\u001B[0m\n\u001B[1;32m   8769\u001B[0m                 \u001B[0mcond\u001B[0m \u001B[0;34m=\u001B[0m \u001B[0mnp\u001B[0m\u001B[0;34m.\u001B[0m\u001B[0masanyarray\u001B[0m\u001B[0;34m(\u001B[0m\u001B[0mcond\u001B[0m\u001B[0;34m)\u001B[0m\u001B[0;34m\u001B[0m\u001B[0;34m\u001B[0m\u001B[0m\n\u001B[1;32m   8770\u001B[0m             \u001B[0;32mif\u001B[0m \u001B[0mcond\u001B[0m\u001B[0;34m.\u001B[0m\u001B[0mshape\u001B[0m \u001B[0;34m!=\u001B[0m \u001B[0mself\u001B[0m\u001B[0;34m.\u001B[0m\u001B[0mshape\u001B[0m\u001B[0;34m:\u001B[0m\u001B[0;34m\u001B[0m\u001B[0;34m\u001B[0m\u001B[0m\n\u001B[0;32m-> 8771\u001B[0;31m                 \u001B[0;32mraise\u001B[0m \u001B[0mValueError\u001B[0m\u001B[0;34m(\u001B[0m\u001B[0;34m\"Array conditional must be same shape as self\"\u001B[0m\u001B[0;34m)\u001B[0m\u001B[0;34m\u001B[0m\u001B[0;34m\u001B[0m\u001B[0m\n\u001B[0m\u001B[1;32m   8772\u001B[0m             \u001B[0mcond\u001B[0m \u001B[0;34m=\u001B[0m \u001B[0mself\u001B[0m\u001B[0;34m.\u001B[0m\u001B[0m_constructor\u001B[0m\u001B[0;34m(\u001B[0m\u001B[0mcond\u001B[0m\u001B[0;34m,\u001B[0m \u001B[0;34m**\u001B[0m\u001B[0mself\u001B[0m\u001B[0;34m.\u001B[0m\u001B[0m_construct_axes_dict\u001B[0m\u001B[0;34m(\u001B[0m\u001B[0;34m)\u001B[0m\u001B[0;34m)\u001B[0m\u001B[0;34m\u001B[0m\u001B[0;34m\u001B[0m\u001B[0m\n\u001B[1;32m   8773\u001B[0m \u001B[0;34m\u001B[0m\u001B[0m\n",
      "\u001B[0;31mValueError\u001B[0m: Array conditional must be same shape as self"
     ]
    }
   ],
   "source": [
    "query = db.pull_request_review.aggregate([{\"$lookup\": {\n",
    "    \"from\": 'pull_request_review',\n",
    "    \"localField\": \"pull_request_id\",\n",
    "    \"foreignField\": \"_id\",\n",
    "    \"as\": \"pull_request\"\n",
    "}}])\n",
    "df = pd.DataFrame(list(query))\n",
    "df.where(df['pull_request'].size > 0).head(10)"
   ],
   "metadata": {
    "collapsed": false,
    "pycharm": {
     "name": "#%%\n"
    }
   }
  },
  {
   "cell_type": "code",
   "execution_count": 246,
   "id": "contained-cleanup",
   "metadata": {},
   "outputs": [
    {
     "name": "stdout",
     "output_type": "stream",
     "text": [
      "Database(MongoClient(host=['research.cassee.dev:27017'], document_class=dict, tz_aware=False, connect=True), 'smartshark_2_1')\n"
     ]
    }
   ],
   "source": [
    "db = connection['smartshark_2_1']\n",
    "print(db)"
   ]
  },
  {
   "cell_type": "code",
   "execution_count": 256,
   "id": "devoted-wisdom",
   "metadata": {},
   "outputs": [],
   "source": [
    "df_people = pd.DataFrame(list(db.people.find({})))\n",
    "df_project = pd.DataFrame(list(db.project.find({})))\n",
    "df_pull_request = pd.DataFrame(list(db.pull_request.find({})))\n",
    "df_pull_request_review = pd.DataFrame(list(db.pull_request_review.find({})))"
   ]
  },
  {
   "cell_type": "code",
   "execution_count": 257,
   "outputs": [
    {
     "data": {
      "text/plain": "170830"
     },
     "execution_count": 257,
     "metadata": {},
     "output_type": "execute_result"
    }
   ],
   "source": [
    "df_approved_prs = df_pull_request_review.where(df_pull_request_review['state'] == 'APPROVED').dropna()\n",
    "df_approved_prs['pull_request_id'] = (df_approved_prs.apply(lambda x: loads(dumps(x['pull_request_id']))['$oid'], axis=1))\n",
    "df_approved_prs['creator_id'] = (df_approved_prs.apply(lambda x: loads(dumps(x['creator_id']))['$oid'], axis=1))\n",
    "df_approved_prs.size"
   ],
   "metadata": {
    "collapsed": false,
    "pycharm": {
     "name": "#%%\n"
    }
   }
  },
  {
   "cell_type": "code",
   "execution_count": 249,
   "outputs": [
    {
     "data": {
      "text/plain": "'5ff1919ccbcaee8d21c67e75'"
     },
     "execution_count": 249,
     "metadata": {},
     "output_type": "execute_result"
    }
   ],
   "source": [
    "df_approved_prs['binary_pr_id'][37]"
   ],
   "metadata": {
    "collapsed": false,
    "pycharm": {
     "name": "#%%\n"
    }
   }
  },
  {
   "cell_type": "code",
   "execution_count": 258,
   "outputs": [
    {
     "data": {
      "text/plain": "'5ff1886f3fba52c925be8927'"
     },
     "execution_count": 258,
     "metadata": {},
     "output_type": "execute_result"
    }
   ],
   "source": [
    "df_pull_request['pull_request_id'] = (df_pull_request.apply(lambda x: loads(dumps(x['_id']))['$oid'], axis=1))\n",
    "df_pull_request['creator_id'] = (df_pull_request.apply(lambda x: loads(dumps(x['creator_id']))['$oid'], axis=1))\n",
    "df_pull_request[['_id', 'pull_request_id']]['pull_request_id'][0]"
   ],
   "metadata": {
    "collapsed": false,
    "pycharm": {
     "name": "#%%\n"
    }
   }
  },
  {
   "cell_type": "code",
   "execution_count": 254,
   "outputs": [
    {
     "data": {
      "text/plain": "666237"
     },
     "execution_count": 254,
     "metadata": {},
     "output_type": "execute_result"
    }
   ],
   "source": [
    "df_approved_prs__annotated_with_pr_creator = df_approved_prs.join(df_pull_request, lsuffix='_prr', rsuffix='_pr')\n",
    "df_approved_prs__annotated_with_pr_creator.size"
   ],
   "metadata": {
    "collapsed": false,
    "pycharm": {
     "name": "#%%\n"
    }
   }
  },
  {
   "cell_type": "code",
   "execution_count": 259,
   "outputs": [],
   "source": [
    "df_approved_prs__annotated_with_pr_creator = pd.merge(df_approved_prs, df_pull_request, on='pull_request_id')"
   ],
   "metadata": {
    "collapsed": false,
    "pycharm": {
     "name": "#%%\n"
    }
   }
  },
  {
   "cell_type": "code",
   "execution_count": 260,
   "outputs": [
    {
     "data": {
      "text/plain": "                      _id_x           pull_request_id external_id_x   state_x  \\\n0  5ff1919ecbcaee8d21c67e79  5ff1919ccbcaee8d21c67e75     489446018  APPROVED   \n1  5ff191a0cbcaee8d21c67e82  5ff1919ecbcaee8d21c67e7f     479608653  APPROVED   \n2  5ff191a3cbcaee8d21c67e97  5ff191a2cbcaee8d21c67e93     396451248  APPROVED   \n\n  description_x              creator_id_x        submitted_at  \\\n0                5b4db0dc30a71b06bce03054 2020-09-16 09:32:52   \n1                5b4db0dc30a71b06bce03054 2020-09-01 10:28:43   \n2                5b4db0dc30a71b06bce03054 2020-04-20 13:27:33   \n\n  author_association_x                                commit_sha  \\\n0          CONTRIBUTOR  a309b67d74c2083d7808d1f7a6aaff22a2a75dd7   \n1          CONTRIBUTOR  c21157ad10224d78291b3433914847f9227f038d   \n2          CONTRIBUTOR  fd69b86d8ebdf589fc3c7eabd9e738a019d30653   \n\n     pull_request_commit_id  ...             source_branch  \\\n0  5ff1919dcbcaee8d21c67e76  ...                   WSS-678   \n1  5ff1919fcbcaee8d21c67e80  ...  wss4j-ws-security-common   \n2  5ff191a3cbcaee8d21c67e94  ...                    master   \n\n                          source_commit_sha  \\\n0  a309b67d74c2083d7808d1f7a6aaff22a2a75dd7   \n1  c21157ad10224d78291b3433914847f9227f038d   \n2  fd69b86d8ebdf589fc3c7eabd9e738a019d30653   \n\n                      target_repo_url target_branch  \\\n0  https://github.com/apache/ws-wss4j        master   \n1  https://github.com/apache/ws-wss4j        master   \n2  https://github.com/apache/ws-wss4j        master   \n\n                          target_commit_sha  source_commit_id  \\\n0  1765c4149d700cac8aea5c1a3b78f2bdee8b6e71               NaN   \n1  e9c20e63dc1694dbc5e116e4c9e82190aa81320a               NaN   \n2  507c7a00dd31cca286d0d3d7451cb7da068f926a               NaN   \n\n   target_commit_id merge_commit_id assignee_id lock_reason  \n0               NaN             NaN         NaN         NaN  \n1               NaN             NaN         NaN         NaN  \n2               NaN             NaN         NaN         NaN  \n\n[3 rows x 37 columns]",
      "text/html": "<div>\n<style scoped>\n    .dataframe tbody tr th:only-of-type {\n        vertical-align: middle;\n    }\n\n    .dataframe tbody tr th {\n        vertical-align: top;\n    }\n\n    .dataframe thead th {\n        text-align: right;\n    }\n</style>\n<table border=\"1\" class=\"dataframe\">\n  <thead>\n    <tr style=\"text-align: right;\">\n      <th></th>\n      <th>_id_x</th>\n      <th>pull_request_id</th>\n      <th>external_id_x</th>\n      <th>state_x</th>\n      <th>description_x</th>\n      <th>creator_id_x</th>\n      <th>submitted_at</th>\n      <th>author_association_x</th>\n      <th>commit_sha</th>\n      <th>pull_request_commit_id</th>\n      <th>...</th>\n      <th>source_branch</th>\n      <th>source_commit_sha</th>\n      <th>target_repo_url</th>\n      <th>target_branch</th>\n      <th>target_commit_sha</th>\n      <th>source_commit_id</th>\n      <th>target_commit_id</th>\n      <th>merge_commit_id</th>\n      <th>assignee_id</th>\n      <th>lock_reason</th>\n    </tr>\n  </thead>\n  <tbody>\n    <tr>\n      <th>0</th>\n      <td>5ff1919ecbcaee8d21c67e79</td>\n      <td>5ff1919ccbcaee8d21c67e75</td>\n      <td>489446018</td>\n      <td>APPROVED</td>\n      <td></td>\n      <td>5b4db0dc30a71b06bce03054</td>\n      <td>2020-09-16 09:32:52</td>\n      <td>CONTRIBUTOR</td>\n      <td>a309b67d74c2083d7808d1f7a6aaff22a2a75dd7</td>\n      <td>5ff1919dcbcaee8d21c67e76</td>\n      <td>...</td>\n      <td>WSS-678</td>\n      <td>a309b67d74c2083d7808d1f7a6aaff22a2a75dd7</td>\n      <td>https://github.com/apache/ws-wss4j</td>\n      <td>master</td>\n      <td>1765c4149d700cac8aea5c1a3b78f2bdee8b6e71</td>\n      <td>NaN</td>\n      <td>NaN</td>\n      <td>NaN</td>\n      <td>NaN</td>\n      <td>NaN</td>\n    </tr>\n    <tr>\n      <th>1</th>\n      <td>5ff191a0cbcaee8d21c67e82</td>\n      <td>5ff1919ecbcaee8d21c67e7f</td>\n      <td>479608653</td>\n      <td>APPROVED</td>\n      <td></td>\n      <td>5b4db0dc30a71b06bce03054</td>\n      <td>2020-09-01 10:28:43</td>\n      <td>CONTRIBUTOR</td>\n      <td>c21157ad10224d78291b3433914847f9227f038d</td>\n      <td>5ff1919fcbcaee8d21c67e80</td>\n      <td>...</td>\n      <td>wss4j-ws-security-common</td>\n      <td>c21157ad10224d78291b3433914847f9227f038d</td>\n      <td>https://github.com/apache/ws-wss4j</td>\n      <td>master</td>\n      <td>e9c20e63dc1694dbc5e116e4c9e82190aa81320a</td>\n      <td>NaN</td>\n      <td>NaN</td>\n      <td>NaN</td>\n      <td>NaN</td>\n      <td>NaN</td>\n    </tr>\n    <tr>\n      <th>2</th>\n      <td>5ff191a3cbcaee8d21c67e97</td>\n      <td>5ff191a2cbcaee8d21c67e93</td>\n      <td>396451248</td>\n      <td>APPROVED</td>\n      <td></td>\n      <td>5b4db0dc30a71b06bce03054</td>\n      <td>2020-04-20 13:27:33</td>\n      <td>CONTRIBUTOR</td>\n      <td>fd69b86d8ebdf589fc3c7eabd9e738a019d30653</td>\n      <td>5ff191a3cbcaee8d21c67e94</td>\n      <td>...</td>\n      <td>master</td>\n      <td>fd69b86d8ebdf589fc3c7eabd9e738a019d30653</td>\n      <td>https://github.com/apache/ws-wss4j</td>\n      <td>master</td>\n      <td>507c7a00dd31cca286d0d3d7451cb7da068f926a</td>\n      <td>NaN</td>\n      <td>NaN</td>\n      <td>NaN</td>\n      <td>NaN</td>\n      <td>NaN</td>\n    </tr>\n  </tbody>\n</table>\n<p>3 rows × 37 columns</p>\n</div>"
     },
     "execution_count": 260,
     "metadata": {},
     "output_type": "execute_result"
    }
   ],
   "source": [
    "df_approved_prs__annotated_with_pr_creator.head(3)"
   ],
   "metadata": {
    "collapsed": false,
    "pycharm": {
     "name": "#%%\n"
    }
   }
  },
  {
   "cell_type": "code",
   "execution_count": 265,
   "id": "chicken-strand",
   "metadata": {
    "pycharm": {
     "name": "#%%\n"
    }
   },
   "outputs": [
    {
     "data": {
      "text/plain": "                   creator_id_x              creator_id_y\n0      5b4db0dc30a71b06bce03054  5f0d6a7baf02e2d6de888cd0\n1      5b4db0dc30a71b06bce03054  5f0d6a7baf02e2d6de888cd0\n2      5b4db0dc30a71b06bce03054  5ff191a2c26a57681e7b9533\n3      5b4db0dc30a71b06bce03054  5ff191a2c26a57681e7b9533\n4      5b4db0dc30a71b06bce03054  5f0d6a7baf02e2d6de888cd0\n...                         ...                       ...\n17078  5b4db0dc30a71b06bce03054  5f0d6a7baf02e2d6de888cd0\n17079  5b4db0dc30a71b06bce03054  5f0d6a7baf02e2d6de888cd0\n17080  59bc2341f2a4565fe9cfaace  60fd84a0f73e2aa3902dad2a\n17081  59bc2341f2a4565fe9cfaace  60fd84a5f73e2aa3902dc6d2\n17082  59bc2341f2a4565fe9cfaace  5b64351f30a71b06bca37a02\n\n[17083 rows x 2 columns]",
      "text/html": "<div>\n<style scoped>\n    .dataframe tbody tr th:only-of-type {\n        vertical-align: middle;\n    }\n\n    .dataframe tbody tr th {\n        vertical-align: top;\n    }\n\n    .dataframe thead th {\n        text-align: right;\n    }\n</style>\n<table border=\"1\" class=\"dataframe\">\n  <thead>\n    <tr style=\"text-align: right;\">\n      <th></th>\n      <th>creator_id_x</th>\n      <th>creator_id_y</th>\n    </tr>\n  </thead>\n  <tbody>\n    <tr>\n      <th>0</th>\n      <td>5b4db0dc30a71b06bce03054</td>\n      <td>5f0d6a7baf02e2d6de888cd0</td>\n    </tr>\n    <tr>\n      <th>1</th>\n      <td>5b4db0dc30a71b06bce03054</td>\n      <td>5f0d6a7baf02e2d6de888cd0</td>\n    </tr>\n    <tr>\n      <th>2</th>\n      <td>5b4db0dc30a71b06bce03054</td>\n      <td>5ff191a2c26a57681e7b9533</td>\n    </tr>\n    <tr>\n      <th>3</th>\n      <td>5b4db0dc30a71b06bce03054</td>\n      <td>5ff191a2c26a57681e7b9533</td>\n    </tr>\n    <tr>\n      <th>4</th>\n      <td>5b4db0dc30a71b06bce03054</td>\n      <td>5f0d6a7baf02e2d6de888cd0</td>\n    </tr>\n    <tr>\n      <th>...</th>\n      <td>...</td>\n      <td>...</td>\n    </tr>\n    <tr>\n      <th>17078</th>\n      <td>5b4db0dc30a71b06bce03054</td>\n      <td>5f0d6a7baf02e2d6de888cd0</td>\n    </tr>\n    <tr>\n      <th>17079</th>\n      <td>5b4db0dc30a71b06bce03054</td>\n      <td>5f0d6a7baf02e2d6de888cd0</td>\n    </tr>\n    <tr>\n      <th>17080</th>\n      <td>59bc2341f2a4565fe9cfaace</td>\n      <td>60fd84a0f73e2aa3902dad2a</td>\n    </tr>\n    <tr>\n      <th>17081</th>\n      <td>59bc2341f2a4565fe9cfaace</td>\n      <td>60fd84a5f73e2aa3902dc6d2</td>\n    </tr>\n    <tr>\n      <th>17082</th>\n      <td>59bc2341f2a4565fe9cfaace</td>\n      <td>5b64351f30a71b06bca37a02</td>\n    </tr>\n  </tbody>\n</table>\n<p>17083 rows × 2 columns</p>\n</div>"
     },
     "execution_count": 265,
     "metadata": {},
     "output_type": "execute_result"
    }
   ],
   "source": [
    "# Get the PR's that were merged by someone that is not the same person as the one that opened the request\n",
    "df_approved_prs__annotated_with_pr_creator.where(df_approved_prs__annotated_with_pr_creator['creator_id_x'] != df_approved_prs__annotated_with_pr_creator['creator_id_y'])[['creator_id_x', 'creator_id_y']]"
   ]
  },
  {
   "cell_type": "code",
   "execution_count": 207,
   "outputs": [
    {
     "data": {
      "text/plain": "bson.objectid.ObjectId"
     },
     "execution_count": 207,
     "metadata": {},
     "output_type": "execute_result"
    }
   ],
   "source": [],
   "metadata": {
    "collapsed": false,
    "pycharm": {
     "name": "#%%\n"
    }
   }
  },
  {
   "cell_type": "code",
   "execution_count": null,
   "outputs": [],
   "source": [],
   "metadata": {
    "collapsed": false,
    "pycharm": {
     "name": "#%%\n"
    }
   }
  }
 ],
 "metadata": {
  "kernelspec": {
   "display_name": "Python 3",
   "language": "python",
   "name": "python3"
  },
  "toc": {
   "base_numbering": 1,
   "nav_menu": {},
   "number_sections": true,
   "sideBar": true,
   "skip_h1_title": false,
   "title_cell": "Table of Contents",
   "title_sidebar": "Contents",
   "toc_cell": true,
   "toc_position": {},
   "toc_section_display": true,
   "toc_window_display": false
  },
  "varInspector": {
   "cols": {
    "lenName": 16,
    "lenType": 16,
    "lenVar": 40
   },
   "kernels_config": {
    "python": {
     "delete_cmd_postfix": "",
     "delete_cmd_prefix": "del ",
     "library": "var_list.py",
     "varRefreshCmd": "print(var_dic_list())"
    },
    "r": {
     "delete_cmd_postfix": ") ",
     "delete_cmd_prefix": "rm(",
     "library": "var_list.r",
     "varRefreshCmd": "cat(var_dic_list()) "
    }
   },
   "types_to_exclude": [
    "module",
    "function",
    "builtin_function_or_method",
    "instance",
    "_Feature"
   ],
   "window_display": false
  }
 },
 "nbformat": 4,
 "nbformat_minor": 5
}