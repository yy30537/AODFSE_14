{
 "cells": [
  {
   "cell_type": "markdown",
   "id": "standing-honey",
   "metadata": {
    "toc": true,
    "pycharm": {
     "name": "#%% md\n"
    }
   },
   "source": [
    "<h1>Table of Contents<span class=\"tocSkip\"></span></h1>\n",
    "<div class=\"toc\"><ul class=\"toc-item\"></ul></div>"
   ]
  },
  {
   "cell_type": "code",
   "execution_count": 203,
   "id": "cf81835b-2b84-4901-b40e-0ce18e53cc50",
   "metadata": {},
   "outputs": [
    {
     "name": "stdout",
     "output_type": "stream",
     "text": [
      "Databases present are ['smartshark_2_1']\n",
      "Found 1 repos\n",
      "There are 7222 commits for commons-math\n"
     ]
    }
   ],
   "source": [
    "from pymongo import MongoClient\n",
    "connection = MongoClient(\n",
    "    host=\"research.cassee.dev:27017\",\n",
    "    username=\"read-shark\",\n",
    "    password=\"msr2021shark\")\n",
    "\n",
    "print(f\"Databases present are {connection.list_database_names()}\")\n",
    "\n",
    "db = connection.smartshark_2_1\n",
    "\n",
    "project = db.project.find_one({})\n",
    "\n",
    "repos = list(db.vcs_system.find({'project_id':project['_id']}))\n",
    "\n",
    "print(f\"Found {len(repos)} repos\")\n",
    "\n",
    "commits = db.commit.count_documents({'vcs_system_id': {'$in': [x[\"_id\"] for x in repos]}})\n",
    "\n",
    "print(f\"There are {commits} commits for {project['name']}\")"
   ]
  },
  {
   "cell_type": "code",
   "execution_count": 204,
   "id": "military-windsor",
   "metadata": {},
   "outputs": [],
   "source": [
    "import pandas as pd\n",
    "from bson.json_util import dumps\n",
    "from json import loads\n",
    "import bson\n",
    "from matplotlib import pyplot as plt"
   ]
  },
  {
   "cell_type": "code",
   "execution_count": 206,
   "id": "contained-cleanup",
   "metadata": {},
   "outputs": [
    {
     "name": "stdout",
     "output_type": "stream",
     "text": [
      "Database(MongoClient(host=['research.cassee.dev:27017'], document_class=dict, tz_aware=False, connect=True), 'smartshark_2_1')\n"
     ]
    }
   ],
   "source": [
    "db = connection['smartshark_2_1']\n",
    "print(db)"
   ]
  },
  {
   "cell_type": "code",
   "execution_count": 172,
   "outputs": [],
   "source": [
    "def convert_object_ids(df, keys):\n",
    "    for x in keys:\n",
    "        df[x] = (df.apply(lambda y: loads(dumps(y[x] if type(y[x]) == bson.objectid.ObjectId else {'$oid': None}))['$oid'], axis=1))\n"
   ],
   "metadata": {
    "collapsed": false,
    "pycharm": {
     "name": "#%%\n"
    }
   }
  },
  {
   "cell_type": "code",
   "execution_count": 173,
   "outputs": [],
   "source": [
    "# Get the people dataset and convert the ObjectIds to strings\n",
    "df_people = pd.DataFrame(list(db.people.find({})))\n",
    "convert_object_ids(df_people, ['_id'])"
   ],
   "metadata": {
    "collapsed": false,
    "pycharm": {
     "name": "#%%\n"
    }
   }
  },
  {
   "cell_type": "code",
   "execution_count": 174,
   "outputs": [],
   "source": [
    "# Get the project dataset and convert the ObjectIds to strings\n",
    "df_project = pd.DataFrame(list(db.project.find({})))\n",
    "convert_object_ids(df_project, ['_id'])"
   ],
   "metadata": {
    "collapsed": false,
    "pycharm": {
     "name": "#%%\n"
    }
   }
  },
  {
   "cell_type": "code",
   "execution_count": 175,
   "outputs": [],
   "source": [
    "# Get the PR dataset and convert the ObjectIds to strings\n",
    "df_pull_request = pd.DataFrame(list(db.pull_request.find({})))\n",
    "convert_object_ids(df_pull_request, [\n",
    "    '_id',\n",
    "    # 'assignee_id',\n",
    "    'creator_id',\n",
    "    # 'merge_commit_id',\n",
    "    'pull_request_system_id',\n",
    "    # 'requested_reviewer_ids',\n",
    "    # 'source_commit_id',\n",
    "    # 'target_commit_id'\n",
    "])"
   ],
   "metadata": {
    "collapsed": false,
    "pycharm": {
     "name": "#%%\n"
    }
   }
  },
  {
   "cell_type": "code",
   "execution_count": 176,
   "outputs": [],
   "source": [
    "# Get the PR_review dataset and convert the ObjectIds to strings\n",
    "df_pull_request_review = pd.DataFrame(list(db.pull_request_review.find({})))\n",
    "convert_object_ids(df_pull_request_review, [\n",
    "    '_id',\n",
    "    'creator_id',\n",
    "    # 'pull_request_commit_id',\n",
    "    'pull_request_id'\n",
    "])"
   ],
   "metadata": {
    "collapsed": false,
    "pycharm": {
     "name": "#%%\n"
    }
   }
  },
  {
   "cell_type": "code",
   "execution_count": 177,
   "outputs": [],
   "source": [
    "# Get the PR_review dataset and convert the ObjectIds to strings\n",
    "df_pull_request_event = pd.DataFrame(list(db.pull_request_event.find({})))\n",
    "convert_object_ids(df_pull_request_event, [\n",
    "    '_id',\n",
    "    'author_id',\n",
    "    # 'commit_id',\n",
    "    # 'pull_request_commit_id',\n",
    "    'pull_request_id'\n",
    "])"
   ],
   "metadata": {
    "collapsed": false,
    "pycharm": {
     "name": "#%%\n"
    }
   }
  },
  {
   "cell_type": "code",
   "execution_count": 178,
   "outputs": [],
   "source": [
    "# Create the same identifier so that we can join\n",
    "df_pull_request['pull_request_id'] = df_pull_request['_id']"
   ],
   "metadata": {
    "collapsed": false,
    "pycharm": {
     "name": "#%%\n"
    }
   }
  },
  {
   "cell_type": "markdown",
   "source": [
    "### Approved Pull Requests"
   ],
   "metadata": {
    "collapsed": false,
    "pycharm": {
     "name": "#%% md\n"
    }
   }
  },
  {
   "cell_type": "code",
   "execution_count": 207,
   "outputs": [
    {
     "data": {
      "text/plain": "                         _id           pull_request_id external_id     state  \\\n0   5ff188803fba52c925be898d  5ff1887f3fba52c925be898c   143337164  APPROVED   \n37  5ff1919ecbcaee8d21c67e79  5ff1919ccbcaee8d21c67e75   489446018  APPROVED   \n38  5ff191a0cbcaee8d21c67e82  5ff1919ecbcaee8d21c67e7f   479608653  APPROVED   \n\n                                          description  \\\n0   The code looks good, ASN.1-like encoding is a ...   \n37                                                      \n38                                                      \n\n                  creator_id        submitted_at author_association  \\\n0   5ff18872c26a57681e7b6d2b 2018-08-03 21:41:31        CONTRIBUTOR   \n37  5b4db0dc30a71b06bce03054 2020-09-16 09:32:52        CONTRIBUTOR   \n38  5b4db0dc30a71b06bce03054 2020-09-01 10:28:43        CONTRIBUTOR   \n\n                                  commit_sha    pull_request_commit_id  \n0   b506949b50d56482e5bdf1123f99a7f2b952f25c                       NaN  \n37  a309b67d74c2083d7808d1f7a6aaff22a2a75dd7  5ff1919dcbcaee8d21c67e76  \n38  c21157ad10224d78291b3433914847f9227f038d  5ff1919fcbcaee8d21c67e80  ",
      "text/html": "<div>\n<style scoped>\n    .dataframe tbody tr th:only-of-type {\n        vertical-align: middle;\n    }\n\n    .dataframe tbody tr th {\n        vertical-align: top;\n    }\n\n    .dataframe thead th {\n        text-align: right;\n    }\n</style>\n<table border=\"1\" class=\"dataframe\">\n  <thead>\n    <tr style=\"text-align: right;\">\n      <th></th>\n      <th>_id</th>\n      <th>pull_request_id</th>\n      <th>external_id</th>\n      <th>state</th>\n      <th>description</th>\n      <th>creator_id</th>\n      <th>submitted_at</th>\n      <th>author_association</th>\n      <th>commit_sha</th>\n      <th>pull_request_commit_id</th>\n    </tr>\n  </thead>\n  <tbody>\n    <tr>\n      <th>0</th>\n      <td>5ff188803fba52c925be898d</td>\n      <td>5ff1887f3fba52c925be898c</td>\n      <td>143337164</td>\n      <td>APPROVED</td>\n      <td>The code looks good, ASN.1-like encoding is a ...</td>\n      <td>5ff18872c26a57681e7b6d2b</td>\n      <td>2018-08-03 21:41:31</td>\n      <td>CONTRIBUTOR</td>\n      <td>b506949b50d56482e5bdf1123f99a7f2b952f25c</td>\n      <td>NaN</td>\n    </tr>\n    <tr>\n      <th>37</th>\n      <td>5ff1919ecbcaee8d21c67e79</td>\n      <td>5ff1919ccbcaee8d21c67e75</td>\n      <td>489446018</td>\n      <td>APPROVED</td>\n      <td></td>\n      <td>5b4db0dc30a71b06bce03054</td>\n      <td>2020-09-16 09:32:52</td>\n      <td>CONTRIBUTOR</td>\n      <td>a309b67d74c2083d7808d1f7a6aaff22a2a75dd7</td>\n      <td>5ff1919dcbcaee8d21c67e76</td>\n    </tr>\n    <tr>\n      <th>38</th>\n      <td>5ff191a0cbcaee8d21c67e82</td>\n      <td>5ff1919ecbcaee8d21c67e7f</td>\n      <td>479608653</td>\n      <td>APPROVED</td>\n      <td></td>\n      <td>5b4db0dc30a71b06bce03054</td>\n      <td>2020-09-01 10:28:43</td>\n      <td>CONTRIBUTOR</td>\n      <td>c21157ad10224d78291b3433914847f9227f038d</td>\n      <td>5ff1919fcbcaee8d21c67e80</td>\n    </tr>\n  </tbody>\n</table>\n</div>"
     },
     "execution_count": 207,
     "metadata": {},
     "output_type": "execute_result"
    }
   ],
   "source": [
    "df_approved_prs = df_pull_request_review.where(df_pull_request_review['state'] == 'APPROVED').dropna(subset=['_id'])\n",
    "df_approved_prs.head(3)"
   ],
   "metadata": {
    "collapsed": false,
    "pycharm": {
     "name": "#%%\n"
    }
   }
  },
  {
   "cell_type": "code",
   "execution_count": 180,
   "outputs": [],
   "source": [
    "df_approved_prs__annotated_with_pr_creator = pd.merge(df_approved_prs, df_pull_request, on='pull_request_id')"
   ],
   "metadata": {
    "collapsed": false,
    "pycharm": {
     "name": "#%%\n"
    }
   }
  },
  {
   "cell_type": "code",
   "execution_count": 181,
   "outputs": [
    {
     "data": {
      "text/plain": "                      _id_x           pull_request_id external_id_x   state_x  \\\n0  5ff188803fba52c925be898d  5ff1887f3fba52c925be898c     143337164  APPROVED   \n1  5ff1919ecbcaee8d21c67e79  5ff1919ccbcaee8d21c67e75     489446018  APPROVED   \n2  5ff191a0cbcaee8d21c67e82  5ff1919ecbcaee8d21c67e7f     479608653  APPROVED   \n\n                                       description_x  \\\n0  The code looks good, ASN.1-like encoding is a ...   \n1                                                      \n2                                                      \n\n               creator_id_x        submitted_at author_association_x  \\\n0  5ff18872c26a57681e7b6d2b 2018-08-03 21:41:31          CONTRIBUTOR   \n1  5b4db0dc30a71b06bce03054 2020-09-16 09:32:52          CONTRIBUTOR   \n2  5b4db0dc30a71b06bce03054 2020-09-01 10:28:43          CONTRIBUTOR   \n\n                                 commit_sha    pull_request_commit_id  ...  \\\n0  b506949b50d56482e5bdf1123f99a7f2b952f25c                       NaN  ...   \n1  a309b67d74c2083d7808d1f7a6aaff22a2a75dd7  5ff1919dcbcaee8d21c67e76  ...   \n2  c21157ad10224d78291b3433914847f9227f038d  5ff1919fcbcaee8d21c67e80  ...   \n\n              source_branch                         source_commit_sha  \\\n0                    master  89583444040dc5423bb143435f23ae0814f24542   \n1                   WSS-678  a309b67d74c2083d7808d1f7a6aaff22a2a75dd7   \n2  wss4j-ws-security-common  c21157ad10224d78291b3433914847f9227f038d   \n\n                      target_repo_url target_branch  \\\n0   https://github.com/apache/ant-ivy        master   \n1  https://github.com/apache/ws-wss4j        master   \n2  https://github.com/apache/ws-wss4j        master   \n\n                          target_commit_sha  source_commit_id  \\\n0  89583444040dc5423bb143435f23ae0814f24542               NaN   \n1  1765c4149d700cac8aea5c1a3b78f2bdee8b6e71               NaN   \n2  e9c20e63dc1694dbc5e116e4c9e82190aa81320a               NaN   \n\n   target_commit_id merge_commit_id assignee_id lock_reason  \n0               NaN             NaN         NaN         NaN  \n1               NaN             NaN         NaN         NaN  \n2               NaN             NaN         NaN         NaN  \n\n[3 rows x 37 columns]",
      "text/html": "<div>\n<style scoped>\n    .dataframe tbody tr th:only-of-type {\n        vertical-align: middle;\n    }\n\n    .dataframe tbody tr th {\n        vertical-align: top;\n    }\n\n    .dataframe thead th {\n        text-align: right;\n    }\n</style>\n<table border=\"1\" class=\"dataframe\">\n  <thead>\n    <tr style=\"text-align: right;\">\n      <th></th>\n      <th>_id_x</th>\n      <th>pull_request_id</th>\n      <th>external_id_x</th>\n      <th>state_x</th>\n      <th>description_x</th>\n      <th>creator_id_x</th>\n      <th>submitted_at</th>\n      <th>author_association_x</th>\n      <th>commit_sha</th>\n      <th>pull_request_commit_id</th>\n      <th>...</th>\n      <th>source_branch</th>\n      <th>source_commit_sha</th>\n      <th>target_repo_url</th>\n      <th>target_branch</th>\n      <th>target_commit_sha</th>\n      <th>source_commit_id</th>\n      <th>target_commit_id</th>\n      <th>merge_commit_id</th>\n      <th>assignee_id</th>\n      <th>lock_reason</th>\n    </tr>\n  </thead>\n  <tbody>\n    <tr>\n      <th>0</th>\n      <td>5ff188803fba52c925be898d</td>\n      <td>5ff1887f3fba52c925be898c</td>\n      <td>143337164</td>\n      <td>APPROVED</td>\n      <td>The code looks good, ASN.1-like encoding is a ...</td>\n      <td>5ff18872c26a57681e7b6d2b</td>\n      <td>2018-08-03 21:41:31</td>\n      <td>CONTRIBUTOR</td>\n      <td>b506949b50d56482e5bdf1123f99a7f2b952f25c</td>\n      <td>NaN</td>\n      <td>...</td>\n      <td>master</td>\n      <td>89583444040dc5423bb143435f23ae0814f24542</td>\n      <td>https://github.com/apache/ant-ivy</td>\n      <td>master</td>\n      <td>89583444040dc5423bb143435f23ae0814f24542</td>\n      <td>NaN</td>\n      <td>NaN</td>\n      <td>NaN</td>\n      <td>NaN</td>\n      <td>NaN</td>\n    </tr>\n    <tr>\n      <th>1</th>\n      <td>5ff1919ecbcaee8d21c67e79</td>\n      <td>5ff1919ccbcaee8d21c67e75</td>\n      <td>489446018</td>\n      <td>APPROVED</td>\n      <td></td>\n      <td>5b4db0dc30a71b06bce03054</td>\n      <td>2020-09-16 09:32:52</td>\n      <td>CONTRIBUTOR</td>\n      <td>a309b67d74c2083d7808d1f7a6aaff22a2a75dd7</td>\n      <td>5ff1919dcbcaee8d21c67e76</td>\n      <td>...</td>\n      <td>WSS-678</td>\n      <td>a309b67d74c2083d7808d1f7a6aaff22a2a75dd7</td>\n      <td>https://github.com/apache/ws-wss4j</td>\n      <td>master</td>\n      <td>1765c4149d700cac8aea5c1a3b78f2bdee8b6e71</td>\n      <td>NaN</td>\n      <td>NaN</td>\n      <td>NaN</td>\n      <td>NaN</td>\n      <td>NaN</td>\n    </tr>\n    <tr>\n      <th>2</th>\n      <td>5ff191a0cbcaee8d21c67e82</td>\n      <td>5ff1919ecbcaee8d21c67e7f</td>\n      <td>479608653</td>\n      <td>APPROVED</td>\n      <td></td>\n      <td>5b4db0dc30a71b06bce03054</td>\n      <td>2020-09-01 10:28:43</td>\n      <td>CONTRIBUTOR</td>\n      <td>c21157ad10224d78291b3433914847f9227f038d</td>\n      <td>5ff1919fcbcaee8d21c67e80</td>\n      <td>...</td>\n      <td>wss4j-ws-security-common</td>\n      <td>c21157ad10224d78291b3433914847f9227f038d</td>\n      <td>https://github.com/apache/ws-wss4j</td>\n      <td>master</td>\n      <td>e9c20e63dc1694dbc5e116e4c9e82190aa81320a</td>\n      <td>NaN</td>\n      <td>NaN</td>\n      <td>NaN</td>\n      <td>NaN</td>\n      <td>NaN</td>\n    </tr>\n  </tbody>\n</table>\n<p>3 rows × 37 columns</p>\n</div>"
     },
     "execution_count": 181,
     "metadata": {},
     "output_type": "execute_result"
    }
   ],
   "source": [
    "df_approved_prs__annotated_with_pr_creator.head(3)"
   ],
   "metadata": {
    "collapsed": false,
    "pycharm": {
     "name": "#%%\n"
    }
   }
  },
  {
   "cell_type": "code",
   "execution_count": 208,
   "outputs": [
    {
     "data": {
      "text/plain": "Index(['_id_x', 'pull_request_id', 'external_id_x', 'state_x', 'description_x',\n       'creator_id_x', 'submitted_at', 'author_association_x', 'commit_sha',\n       'pull_request_commit_id', '_id_y', 'pull_request_system_id',\n       'external_id_y', 'title', 'description_y', 'is_draft', 'is_locked',\n       'author_association_y', 'created_at', 'updated_at', 'merged_at',\n       'creator_id_y', 'linked_user_ids', 'requested_reviewer_ids', 'state_y',\n       'labels', 'source_repo_url', 'source_branch', 'source_commit_sha',\n       'target_repo_url', 'target_branch', 'target_commit_sha',\n       'source_commit_id', 'target_commit_id', 'merge_commit_id',\n       'assignee_id', 'lock_reason'],\n      dtype='object')"
     },
     "execution_count": 208,
     "metadata": {},
     "output_type": "execute_result"
    }
   ],
   "source": [
    "df_approved_prs__annotated_with_pr_creator.columns"
   ],
   "metadata": {
    "collapsed": false,
    "pycharm": {
     "name": "#%%\n"
    }
   }
  },
  {
   "cell_type": "code",
   "execution_count": 182,
   "id": "chicken-strand",
   "metadata": {
    "pycharm": {
     "name": "#%%\n"
    }
   },
   "outputs": [
    {
     "data": {
      "text/plain": "                   creator_id_x              creator_id_y\n0      5ff18872c26a57681e7b6d2b  5ff1887dc26a57681e7b6ee1\n1      5b4db0dc30a71b06bce03054  5f0d6a7baf02e2d6de888cd0\n2      5b4db0dc30a71b06bce03054  5f0d6a7baf02e2d6de888cd0\n3      5b4db0dc30a71b06bce03054  5ff191a2c26a57681e7b9533\n4      5b4db0dc30a71b06bce03054  5ff191a2c26a57681e7b9533\n...                         ...                       ...\n19773  5b4db0dc30a71b06bce03054  5f0d6a7baf02e2d6de888cd0\n19774  5b4db0dc30a71b06bce03054  5f0d6a7baf02e2d6de888cd0\n19775  59bc2341f2a4565fe9cfaace  60fd84a0f73e2aa3902dad2a\n19776  59bc2341f2a4565fe9cfaace  60fd84a5f73e2aa3902dc6d2\n19777  59bc2341f2a4565fe9cfaace  5b64351f30a71b06bca37a02\n\n[19771 rows x 2 columns]",
      "text/html": "<div>\n<style scoped>\n    .dataframe tbody tr th:only-of-type {\n        vertical-align: middle;\n    }\n\n    .dataframe tbody tr th {\n        vertical-align: top;\n    }\n\n    .dataframe thead th {\n        text-align: right;\n    }\n</style>\n<table border=\"1\" class=\"dataframe\">\n  <thead>\n    <tr style=\"text-align: right;\">\n      <th></th>\n      <th>creator_id_x</th>\n      <th>creator_id_y</th>\n    </tr>\n  </thead>\n  <tbody>\n    <tr>\n      <th>0</th>\n      <td>5ff18872c26a57681e7b6d2b</td>\n      <td>5ff1887dc26a57681e7b6ee1</td>\n    </tr>\n    <tr>\n      <th>1</th>\n      <td>5b4db0dc30a71b06bce03054</td>\n      <td>5f0d6a7baf02e2d6de888cd0</td>\n    </tr>\n    <tr>\n      <th>2</th>\n      <td>5b4db0dc30a71b06bce03054</td>\n      <td>5f0d6a7baf02e2d6de888cd0</td>\n    </tr>\n    <tr>\n      <th>3</th>\n      <td>5b4db0dc30a71b06bce03054</td>\n      <td>5ff191a2c26a57681e7b9533</td>\n    </tr>\n    <tr>\n      <th>4</th>\n      <td>5b4db0dc30a71b06bce03054</td>\n      <td>5ff191a2c26a57681e7b9533</td>\n    </tr>\n    <tr>\n      <th>...</th>\n      <td>...</td>\n      <td>...</td>\n    </tr>\n    <tr>\n      <th>19773</th>\n      <td>5b4db0dc30a71b06bce03054</td>\n      <td>5f0d6a7baf02e2d6de888cd0</td>\n    </tr>\n    <tr>\n      <th>19774</th>\n      <td>5b4db0dc30a71b06bce03054</td>\n      <td>5f0d6a7baf02e2d6de888cd0</td>\n    </tr>\n    <tr>\n      <th>19775</th>\n      <td>59bc2341f2a4565fe9cfaace</td>\n      <td>60fd84a0f73e2aa3902dad2a</td>\n    </tr>\n    <tr>\n      <th>19776</th>\n      <td>59bc2341f2a4565fe9cfaace</td>\n      <td>60fd84a5f73e2aa3902dc6d2</td>\n    </tr>\n    <tr>\n      <th>19777</th>\n      <td>59bc2341f2a4565fe9cfaace</td>\n      <td>5b64351f30a71b06bca37a02</td>\n    </tr>\n  </tbody>\n</table>\n<p>19771 rows × 2 columns</p>\n</div>"
     },
     "execution_count": 182,
     "metadata": {},
     "output_type": "execute_result"
    }
   ],
   "source": [
    "# Get the approved PR's that were merged by someone that is not the same person as the one that opened the request\n",
    "approved_pull_requests_closed_by_different_person = df_approved_prs__annotated_with_pr_creator.where(df_approved_prs__annotated_with_pr_creator['creator_id_x'] != df_approved_prs__annotated_with_pr_creator['creator_id_y']).dropna(subset=['creator_id_x', 'creator_id_y'])\n",
    "\n",
    "approved_pull_requests_closed_by_different_person[['creator_id_x', 'creator_id_y']]"
   ]
  },
  {
   "cell_type": "code",
   "execution_count": 183,
   "outputs": [
    {
     "data": {
      "text/plain": "                      _id_x           pull_request_id external_id_x   state_x  \\\n0  5ff188803fba52c925be898d  5ff1887f3fba52c925be898c     143337164  APPROVED   \n1  5ff1919ecbcaee8d21c67e79  5ff1919ccbcaee8d21c67e75     489446018  APPROVED   \n2  5ff191a0cbcaee8d21c67e82  5ff1919ecbcaee8d21c67e7f     479608653  APPROVED   \n\n                                       description_x  \\\n0  The code looks good, ASN.1-like encoding is a ...   \n1                                                      \n2                                                      \n\n               creator_id_x        submitted_at author_association_x  \\\n0  5ff18872c26a57681e7b6d2b 2018-08-03 21:41:31          CONTRIBUTOR   \n1  5b4db0dc30a71b06bce03054 2020-09-16 09:32:52          CONTRIBUTOR   \n2  5b4db0dc30a71b06bce03054 2020-09-01 10:28:43          CONTRIBUTOR   \n\n                                 commit_sha    pull_request_commit_id  ...  \\\n0  b506949b50d56482e5bdf1123f99a7f2b952f25c                       NaN  ...   \n1  a309b67d74c2083d7808d1f7a6aaff22a2a75dd7  5ff1919dcbcaee8d21c67e76  ...   \n2  c21157ad10224d78291b3433914847f9227f038d  5ff1919fcbcaee8d21c67e80  ...   \n\n              source_branch                         source_commit_sha  \\\n0                    master  89583444040dc5423bb143435f23ae0814f24542   \n1                   WSS-678  a309b67d74c2083d7808d1f7a6aaff22a2a75dd7   \n2  wss4j-ws-security-common  c21157ad10224d78291b3433914847f9227f038d   \n\n                      target_repo_url target_branch  \\\n0   https://github.com/apache/ant-ivy        master   \n1  https://github.com/apache/ws-wss4j        master   \n2  https://github.com/apache/ws-wss4j        master   \n\n                          target_commit_sha  source_commit_id  \\\n0  89583444040dc5423bb143435f23ae0814f24542               NaN   \n1  1765c4149d700cac8aea5c1a3b78f2bdee8b6e71               NaN   \n2  e9c20e63dc1694dbc5e116e4c9e82190aa81320a               NaN   \n\n   target_commit_id merge_commit_id assignee_id lock_reason  \n0               NaN             NaN         NaN         NaN  \n1               NaN             NaN         NaN         NaN  \n2               NaN             NaN         NaN         NaN  \n\n[3 rows x 37 columns]",
      "text/html": "<div>\n<style scoped>\n    .dataframe tbody tr th:only-of-type {\n        vertical-align: middle;\n    }\n\n    .dataframe tbody tr th {\n        vertical-align: top;\n    }\n\n    .dataframe thead th {\n        text-align: right;\n    }\n</style>\n<table border=\"1\" class=\"dataframe\">\n  <thead>\n    <tr style=\"text-align: right;\">\n      <th></th>\n      <th>_id_x</th>\n      <th>pull_request_id</th>\n      <th>external_id_x</th>\n      <th>state_x</th>\n      <th>description_x</th>\n      <th>creator_id_x</th>\n      <th>submitted_at</th>\n      <th>author_association_x</th>\n      <th>commit_sha</th>\n      <th>pull_request_commit_id</th>\n      <th>...</th>\n      <th>source_branch</th>\n      <th>source_commit_sha</th>\n      <th>target_repo_url</th>\n      <th>target_branch</th>\n      <th>target_commit_sha</th>\n      <th>source_commit_id</th>\n      <th>target_commit_id</th>\n      <th>merge_commit_id</th>\n      <th>assignee_id</th>\n      <th>lock_reason</th>\n    </tr>\n  </thead>\n  <tbody>\n    <tr>\n      <th>0</th>\n      <td>5ff188803fba52c925be898d</td>\n      <td>5ff1887f3fba52c925be898c</td>\n      <td>143337164</td>\n      <td>APPROVED</td>\n      <td>The code looks good, ASN.1-like encoding is a ...</td>\n      <td>5ff18872c26a57681e7b6d2b</td>\n      <td>2018-08-03 21:41:31</td>\n      <td>CONTRIBUTOR</td>\n      <td>b506949b50d56482e5bdf1123f99a7f2b952f25c</td>\n      <td>NaN</td>\n      <td>...</td>\n      <td>master</td>\n      <td>89583444040dc5423bb143435f23ae0814f24542</td>\n      <td>https://github.com/apache/ant-ivy</td>\n      <td>master</td>\n      <td>89583444040dc5423bb143435f23ae0814f24542</td>\n      <td>NaN</td>\n      <td>NaN</td>\n      <td>NaN</td>\n      <td>NaN</td>\n      <td>NaN</td>\n    </tr>\n    <tr>\n      <th>1</th>\n      <td>5ff1919ecbcaee8d21c67e79</td>\n      <td>5ff1919ccbcaee8d21c67e75</td>\n      <td>489446018</td>\n      <td>APPROVED</td>\n      <td></td>\n      <td>5b4db0dc30a71b06bce03054</td>\n      <td>2020-09-16 09:32:52</td>\n      <td>CONTRIBUTOR</td>\n      <td>a309b67d74c2083d7808d1f7a6aaff22a2a75dd7</td>\n      <td>5ff1919dcbcaee8d21c67e76</td>\n      <td>...</td>\n      <td>WSS-678</td>\n      <td>a309b67d74c2083d7808d1f7a6aaff22a2a75dd7</td>\n      <td>https://github.com/apache/ws-wss4j</td>\n      <td>master</td>\n      <td>1765c4149d700cac8aea5c1a3b78f2bdee8b6e71</td>\n      <td>NaN</td>\n      <td>NaN</td>\n      <td>NaN</td>\n      <td>NaN</td>\n      <td>NaN</td>\n    </tr>\n    <tr>\n      <th>2</th>\n      <td>5ff191a0cbcaee8d21c67e82</td>\n      <td>5ff1919ecbcaee8d21c67e7f</td>\n      <td>479608653</td>\n      <td>APPROVED</td>\n      <td></td>\n      <td>5b4db0dc30a71b06bce03054</td>\n      <td>2020-09-01 10:28:43</td>\n      <td>CONTRIBUTOR</td>\n      <td>c21157ad10224d78291b3433914847f9227f038d</td>\n      <td>5ff1919fcbcaee8d21c67e80</td>\n      <td>...</td>\n      <td>wss4j-ws-security-common</td>\n      <td>c21157ad10224d78291b3433914847f9227f038d</td>\n      <td>https://github.com/apache/ws-wss4j</td>\n      <td>master</td>\n      <td>e9c20e63dc1694dbc5e116e4c9e82190aa81320a</td>\n      <td>NaN</td>\n      <td>NaN</td>\n      <td>NaN</td>\n      <td>NaN</td>\n      <td>NaN</td>\n    </tr>\n  </tbody>\n</table>\n<p>3 rows × 37 columns</p>\n</div>"
     },
     "execution_count": 183,
     "metadata": {},
     "output_type": "execute_result"
    }
   ],
   "source": [
    "approved_pull_requests_closed_by_different_person.head(3)"
   ],
   "metadata": {
    "collapsed": false,
    "pycharm": {
     "name": "#%%\n"
    }
   }
  },
  {
   "cell_type": "code",
   "execution_count": 184,
   "outputs": [],
   "source": [
    "# Calculate the total review_time in hours\n",
    "approved_pull_requests_closed_by_different_person['review_time_in_hours'] = (approved_pull_requests_closed_by_different_person.apply(lambda x: (x['submitted_at'] - x['created_at']).total_seconds() / 60 / 60 if x['created_at'] and x['submitted_at'] else None, axis=1))\n",
    "\n"
   ],
   "metadata": {
    "collapsed": false,
    "pycharm": {
     "name": "#%%\n"
    }
   }
  },
  {
   "cell_type": "code",
   "execution_count": 185,
   "outputs": [
    {
     "data": {
      "text/plain": "count    19771.000000\nmean       364.869039\nstd       1487.596901\nmin          0.005556\n25%          5.051806\n50%         34.950833\n75%        172.048472\nmax      46427.839722\nName: review_time_in_hours, dtype: float64"
     },
     "execution_count": 185,
     "metadata": {},
     "output_type": "execute_result"
    }
   ],
   "source": [
    "approved_pull_requests_closed_by_different_person['review_time_in_hours'].describe()"
   ],
   "metadata": {
    "collapsed": false,
    "pycharm": {
     "name": "#%%\n"
    }
   }
  },
  {
   "cell_type": "code",
   "execution_count": 186,
   "outputs": [
    {
     "data": {
      "text/plain": "(0.17569444444444443, 1481.924861111111)"
     },
     "execution_count": 186,
     "metadata": {},
     "output_type": "execute_result"
    }
   ],
   "source": [
    "times = approved_pull_requests_closed_by_different_person['review_time_in_hours']\n",
    "approved_05, approved_95 = times.quantile([0.05, 0.95])\n",
    "approved_05, approved_95"
   ],
   "metadata": {
    "collapsed": false,
    "pycharm": {
     "name": "#%%\n"
    }
   }
  },
  {
   "cell_type": "code",
   "execution_count": 209,
   "outputs": [],
   "source": [
    "# Filter the outliers\n",
    "approved_review_times = approved_pull_requests_closed_by_different_person.where(approved_pull_requests_closed_by_different_person['review_time_in_hours'] >= approved_05).dropna(subset=['review_time_in_hours'])[['review_time_in_hours']]\n",
    "\n",
    "approved_review_times = approved_pull_requests_closed_by_different_person.where(approved_pull_requests_closed_by_different_person['review_time_in_hours'] <= approved_95).dropna(subset=['review_time_in_hours'])[['review_time_in_hours']]"
   ],
   "metadata": {
    "collapsed": false,
    "pycharm": {
     "name": "#%%\n"
    }
   }
  },
  {
   "cell_type": "code",
   "execution_count": 210,
   "outputs": [
    {
     "data": {
      "text/plain": "count    18782.000000\nmean       135.655528\nstd        246.469039\nmin          0.005556\n25%          4.357361\n50%         28.017500\n75%        140.577153\nmax       1481.506944\nName: review_time_in_hours, dtype: float64"
     },
     "execution_count": 210,
     "metadata": {},
     "output_type": "execute_result"
    }
   ],
   "source": [
    "approved_review_times['review_time_in_hours'].describe()"
   ],
   "metadata": {
    "collapsed": false,
    "pycharm": {
     "name": "#%%\n"
    }
   }
  },
  {
   "cell_type": "code",
   "execution_count": 189,
   "outputs": [
    {
     "data": {
      "text/plain": "2"
     },
     "execution_count": 189,
     "metadata": {},
     "output_type": "execute_result"
    }
   ],
   "source": [
    "mean_approved_review_time_in_days = round(approved_review_times.mean()[0] / 60)\n",
    "mean_approved_review_time_in_days"
   ],
   "metadata": {
    "collapsed": false,
    "pycharm": {
     "name": "#%%\n"
    }
   }
  },
  {
   "cell_type": "code",
   "execution_count": 190,
   "outputs": [
    {
     "data": {
      "text/plain": "<Figure size 432x288 with 1 Axes>",
      "image/png": "[encoded data removed]"
     },
     "metadata": {
      "needs_background": "light"
     },
     "output_type": "display_data"
    }
   ],
   "source": [
    "\n",
    "plot = plt.hist(x=approved_review_times, bins=50)"
   ],
   "metadata": {
    "collapsed": false,
    "pycharm": {
     "name": "#%%\n"
    }
   }
  },
  {
   "cell_type": "code",
   "execution_count": 191,
   "outputs": [
    {
     "data": {
      "text/plain": "       review_time_in_hours\ncount          18782.000000\nmean             135.655528\nstd              246.469039\nmin                0.005556\n25%                4.357361\n50%               28.017500\n75%              140.577153\nmax             1481.506944",
      "text/html": "<div>\n<style scoped>\n    .dataframe tbody tr th:only-of-type {\n        vertical-align: middle;\n    }\n\n    .dataframe tbody tr th {\n        vertical-align: top;\n    }\n\n    .dataframe thead th {\n        text-align: right;\n    }\n</style>\n<table border=\"1\" class=\"dataframe\">\n  <thead>\n    <tr style=\"text-align: right;\">\n      <th></th>\n      <th>review_time_in_hours</th>\n    </tr>\n  </thead>\n  <tbody>\n    <tr>\n      <th>count</th>\n      <td>18782.000000</td>\n    </tr>\n    <tr>\n      <th>mean</th>\n      <td>135.655528</td>\n    </tr>\n    <tr>\n      <th>std</th>\n      <td>246.469039</td>\n    </tr>\n    <tr>\n      <th>min</th>\n      <td>0.005556</td>\n    </tr>\n    <tr>\n      <th>25%</th>\n      <td>4.357361</td>\n    </tr>\n    <tr>\n      <th>50%</th>\n      <td>28.017500</td>\n    </tr>\n    <tr>\n      <th>75%</th>\n      <td>140.577153</td>\n    </tr>\n    <tr>\n      <th>max</th>\n      <td>1481.506944</td>\n    </tr>\n  </tbody>\n</table>\n</div>"
     },
     "execution_count": 191,
     "metadata": {},
     "output_type": "execute_result"
    }
   ],
   "source": [
    "approved_review_times.describe()"
   ],
   "metadata": {
    "collapsed": false,
    "pycharm": {
     "name": "#%%\n"
    }
   }
  },
  {
   "cell_type": "code",
   "execution_count": 226,
   "outputs": [
    {
     "data": {
      "text/plain": "       review_time_in_hours\ncount          18782.000000\nmean             135.655528\nstd              246.469039\nmin                0.005556\n25%                4.357361\n50%               28.017500\n75%              140.577153\nmax             1481.506944",
      "text/html": "<div>\n<style scoped>\n    .dataframe tbody tr th:only-of-type {\n        vertical-align: middle;\n    }\n\n    .dataframe tbody tr th {\n        vertical-align: top;\n    }\n\n    .dataframe thead th {\n        text-align: right;\n    }\n</style>\n<table border=\"1\" class=\"dataframe\">\n  <thead>\n    <tr style=\"text-align: right;\">\n      <th></th>\n      <th>review_time_in_hours</th>\n    </tr>\n  </thead>\n  <tbody>\n    <tr>\n      <th>count</th>\n      <td>18782.000000</td>\n    </tr>\n    <tr>\n      <th>mean</th>\n      <td>135.655528</td>\n    </tr>\n    <tr>\n      <th>std</th>\n      <td>246.469039</td>\n    </tr>\n    <tr>\n      <th>min</th>\n      <td>0.005556</td>\n    </tr>\n    <tr>\n      <th>25%</th>\n      <td>4.357361</td>\n    </tr>\n    <tr>\n      <th>50%</th>\n      <td>28.017500</td>\n    </tr>\n    <tr>\n      <th>75%</th>\n      <td>140.577153</td>\n    </tr>\n    <tr>\n      <th>max</th>\n      <td>1481.506944</td>\n    </tr>\n  </tbody>\n</table>\n</div>"
     },
     "execution_count": 226,
     "metadata": {},
     "output_type": "execute_result"
    }
   ],
   "source": [
    "times = approved_review_times[['review_time_in_hours']]\n",
    "approved_under_an_hour = times.where(times['review_time_in_hours'] > 0).dropna()\n",
    "approved_under_an_hour.describe()"
   ],
   "metadata": {
    "collapsed": false,
    "pycharm": {
     "name": "#%%\n"
    }
   }
  },
  {
   "cell_type": "code",
   "execution_count": 223,
   "outputs": [
    {
     "data": {
      "text/plain": "(array([8814., 2006., 1140.,  880.,  748.,  631.,  501.,  406.,  277.,\n         223.]),\n array([5.55555556e-03, 2.40032500e+01, 4.80009444e+01, 7.19986389e+01,\n        9.59963333e+01, 1.19994028e+02, 1.43991722e+02, 1.67989417e+02,\n        1.91987111e+02, 2.15984806e+02, 2.39982500e+02]),\n <BarContainer object of 10 artists>)"
     },
     "execution_count": 223,
     "metadata": {},
     "output_type": "execute_result"
    },
    {
     "data": {
      "text/plain": "<Figure size 432x288 with 1 Axes>",
      "image/png": "[encoded data removed]"
     },
     "metadata": {
      "needs_background": "light"
     },
     "output_type": "display_data"
    }
   ],
   "source": [
    "plt.hist(approved_under_an_hour)"
   ],
   "metadata": {
    "collapsed": false,
    "pycharm": {
     "name": "#%%\n"
    }
   }
  },
  {
   "cell_type": "markdown",
   "source": [
    "### Closed pull requests"
   ],
   "metadata": {
    "collapsed": false,
    "pycharm": {
     "name": "#%% md\n"
    }
   }
  },
  {
   "cell_type": "code",
   "execution_count": 192,
   "outputs": [
    {
     "data": {
      "text/plain": "                         _id           pull_request_id external_id  \\\n1   5ff188713fba52c925be892b  5ff1886f3fba52c925be8927  3202397715   \n18  5ff1887f3fba52c925be898a  5ff1887d3fba52c925be8978  1775164932   \n33  5ff188823fba52c925be89bb  5ff1887f3fba52c925be898c  1772018125   \n\n            created_at                 author_id commit_sha commit_repo_url  \\\n1  2020-04-05 12:24:20  59bc22dcf2a4565fe9cfa0a7        NaN             NaN   \n18 2018-08-07 12:39:03  5ff1887dc26a57681e7b6ee1        NaN             NaN   \n33 2018-08-06 05:18:53  5ff1887dc26a57681e7b6ee1        NaN             NaN   \n\n   event_type                     additional_data commit_id  \n1      closed  {'performed_via_github_app': None}       NaN  \n18     closed  {'performed_via_github_app': None}       NaN  \n33     closed  {'performed_via_github_app': None}       NaN  ",
      "text/html": "<div>\n<style scoped>\n    .dataframe tbody tr th:only-of-type {\n        vertical-align: middle;\n    }\n\n    .dataframe tbody tr th {\n        vertical-align: top;\n    }\n\n    .dataframe thead th {\n        text-align: right;\n    }\n</style>\n<table border=\"1\" class=\"dataframe\">\n  <thead>\n    <tr style=\"text-align: right;\">\n      <th></th>\n      <th>_id</th>\n      <th>pull_request_id</th>\n      <th>external_id</th>\n      <th>created_at</th>\n      <th>author_id</th>\n      <th>commit_sha</th>\n      <th>commit_repo_url</th>\n      <th>event_type</th>\n      <th>additional_data</th>\n      <th>commit_id</th>\n    </tr>\n  </thead>\n  <tbody>\n    <tr>\n      <th>1</th>\n      <td>5ff188713fba52c925be892b</td>\n      <td>5ff1886f3fba52c925be8927</td>\n      <td>3202397715</td>\n      <td>2020-04-05 12:24:20</td>\n      <td>59bc22dcf2a4565fe9cfa0a7</td>\n      <td>NaN</td>\n      <td>NaN</td>\n      <td>closed</td>\n      <td>{'performed_via_github_app': None}</td>\n      <td>NaN</td>\n    </tr>\n    <tr>\n      <th>18</th>\n      <td>5ff1887f3fba52c925be898a</td>\n      <td>5ff1887d3fba52c925be8978</td>\n      <td>1775164932</td>\n      <td>2018-08-07 12:39:03</td>\n      <td>5ff1887dc26a57681e7b6ee1</td>\n      <td>NaN</td>\n      <td>NaN</td>\n      <td>closed</td>\n      <td>{'performed_via_github_app': None}</td>\n      <td>NaN</td>\n    </tr>\n    <tr>\n      <th>33</th>\n      <td>5ff188823fba52c925be89bb</td>\n      <td>5ff1887f3fba52c925be898c</td>\n      <td>1772018125</td>\n      <td>2018-08-06 05:18:53</td>\n      <td>5ff1887dc26a57681e7b6ee1</td>\n      <td>NaN</td>\n      <td>NaN</td>\n      <td>closed</td>\n      <td>{'performed_via_github_app': None}</td>\n      <td>NaN</td>\n    </tr>\n  </tbody>\n</table>\n</div>"
     },
     "execution_count": 192,
     "metadata": {},
     "output_type": "execute_result"
    }
   ],
   "source": [
    "# Get all the events closing a PR\n",
    "df_closed_prs = df_pull_request_event.where(df_pull_request_event['event_type'] == 'closed').dropna(subset=['_id'])\n",
    "df_closed_prs.head(3)"
   ],
   "metadata": {
    "collapsed": false,
    "pycharm": {
     "name": "#%%\n"
    }
   }
  },
  {
   "cell_type": "code",
   "execution_count": 193,
   "outputs": [
    {
     "data": {
      "text/plain": "Index(['_id_x', 'pull_request_id', 'external_id_x', 'created_at_x',\n       'author_id', 'commit_sha', 'commit_repo_url', 'event_type',\n       'additional_data', 'commit_id', '_id_y', 'pull_request_system_id',\n       'external_id_y', 'title', 'description', 'is_draft', 'is_locked',\n       'author_association', 'created_at_y', 'updated_at', 'merged_at',\n       'creator_id', 'linked_user_ids', 'requested_reviewer_ids', 'state',\n       'labels', 'source_repo_url', 'source_branch', 'source_commit_sha',\n       'target_repo_url', 'target_branch', 'target_commit_sha',\n       'source_commit_id', 'target_commit_id', 'merge_commit_id',\n       'assignee_id', 'lock_reason'],\n      dtype='object')"
     },
     "execution_count": 193,
     "metadata": {},
     "output_type": "execute_result"
    }
   ],
   "source": [
    "df_closed_prs__annotated_with_pr_creator = pd.merge(df_closed_prs, df_pull_request, on='pull_request_id')\n",
    "df_closed_prs__annotated_with_pr_creator.columns"
   ],
   "metadata": {
    "collapsed": false,
    "pycharm": {
     "name": "#%%\n"
    }
   }
  },
  {
   "cell_type": "code",
   "execution_count": 194,
   "outputs": [
    {
     "data": {
      "text/plain": "                      author_id                creator_id\n0      59bc22dcf2a4565fe9cfa0a7  5ff1886fc26a57681e7b6cfe\n7      59bc22dcf2a4565fe9cfa0a7  5ff18872c26a57681e7b6d2b\n11     59bc22dcf2a4565fe9cfa0a7  59b9055bc335c776c30e850a\n13     59bc22dcf2a4565fe9cfa0a7  5ff18872c26a57681e7b6d2b\n14     59bc22dcf2a4565fe9cfa0a7  5ff18875c26a57681e7b6d68\n...                         ...                       ...\n46990  59bc22dcf2a4565fe9cfa0a7  5b6434e130a71b06bca36cd2\n46991  5ff34a9dc26a57681ea38bf9  60fd84c6f73e2aa3902e825c\n46992  59bc22dcf2a4565fe9cfa0a7  59bc1a03f2a4565fe9ce189c\n46998  59bc22dcf2a4565fe9cfa0a7  59bc1a03f2a4565fe9ce189c\n47009  5ff34a9dc26a57681ea38bf9  5ff1d47cc26a57681e81d6d6\n\n[31616 rows x 2 columns]",
      "text/html": "<div>\n<style scoped>\n    .dataframe tbody tr th:only-of-type {\n        vertical-align: middle;\n    }\n\n    .dataframe tbody tr th {\n        vertical-align: top;\n    }\n\n    .dataframe thead th {\n        text-align: right;\n    }\n</style>\n<table border=\"1\" class=\"dataframe\">\n  <thead>\n    <tr style=\"text-align: right;\">\n      <th></th>\n      <th>author_id</th>\n      <th>creator_id</th>\n    </tr>\n  </thead>\n  <tbody>\n    <tr>\n      <th>0</th>\n      <td>59bc22dcf2a4565fe9cfa0a7</td>\n      <td>5ff1886fc26a57681e7b6cfe</td>\n    </tr>\n    <tr>\n      <th>7</th>\n      <td>59bc22dcf2a4565fe9cfa0a7</td>\n      <td>5ff18872c26a57681e7b6d2b</td>\n    </tr>\n    <tr>\n      <th>11</th>\n      <td>59bc22dcf2a4565fe9cfa0a7</td>\n      <td>59b9055bc335c776c30e850a</td>\n    </tr>\n    <tr>\n      <th>13</th>\n      <td>59bc22dcf2a4565fe9cfa0a7</td>\n      <td>5ff18872c26a57681e7b6d2b</td>\n    </tr>\n    <tr>\n      <th>14</th>\n      <td>59bc22dcf2a4565fe9cfa0a7</td>\n      <td>5ff18875c26a57681e7b6d68</td>\n    </tr>\n    <tr>\n      <th>...</th>\n      <td>...</td>\n      <td>...</td>\n    </tr>\n    <tr>\n      <th>46990</th>\n      <td>59bc22dcf2a4565fe9cfa0a7</td>\n      <td>5b6434e130a71b06bca36cd2</td>\n    </tr>\n    <tr>\n      <th>46991</th>\n      <td>5ff34a9dc26a57681ea38bf9</td>\n      <td>60fd84c6f73e2aa3902e825c</td>\n    </tr>\n    <tr>\n      <th>46992</th>\n      <td>59bc22dcf2a4565fe9cfa0a7</td>\n      <td>59bc1a03f2a4565fe9ce189c</td>\n    </tr>\n    <tr>\n      <th>46998</th>\n      <td>59bc22dcf2a4565fe9cfa0a7</td>\n      <td>59bc1a03f2a4565fe9ce189c</td>\n    </tr>\n    <tr>\n      <th>47009</th>\n      <td>5ff34a9dc26a57681ea38bf9</td>\n      <td>5ff1d47cc26a57681e81d6d6</td>\n    </tr>\n  </tbody>\n</table>\n<p>31616 rows × 2 columns</p>\n</div>"
     },
     "execution_count": 194,
     "metadata": {},
     "output_type": "execute_result"
    }
   ],
   "source": [
    "# Get the PR's that were merged by someone that is not the same person as the one that opened the request\n",
    "closed_pull_requests_closed_by_different_person = df_closed_prs__annotated_with_pr_creator.where(df_closed_prs__annotated_with_pr_creator['author_id'] != df_closed_prs__annotated_with_pr_creator['creator_id']).dropna(subset=['author_id', 'creator_id'])\n",
    "\n",
    "closed_pull_requests_closed_by_different_person[['author_id', 'creator_id']]"
   ],
   "metadata": {
    "collapsed": false,
    "pycharm": {
     "name": "#%%\n"
    }
   }
  },
  {
   "cell_type": "code",
   "execution_count": 195,
   "outputs": [],
   "source": [
    "# Calculate the reivew time of closed pull requests\n",
    "closed_pull_requests_closed_by_different_person['review_time_in_hours'] = (closed_pull_requests_closed_by_different_person.apply(lambda x: (x['created_at_x'] - x['created_at_y']).total_seconds() / 60 / 60 if x['created_at_x'] and x['created_at_y'] else None, axis=1))\n"
   ],
   "metadata": {
    "collapsed": false,
    "pycharm": {
     "name": "#%%\n"
    }
   }
  },
  {
   "cell_type": "code",
   "execution_count": 196,
   "outputs": [
    {
     "data": {
      "text/plain": "count    31616.000000\nmean      1090.622155\nstd       4119.100288\nmin          0.008611\n25%         18.781181\n50%         86.430139\n75%        339.807569\nmax      69346.616111\nName: review_time_in_hours, dtype: float64"
     },
     "execution_count": 196,
     "metadata": {},
     "output_type": "execute_result"
    }
   ],
   "source": [
    "closed_pull_requests_closed_by_different_person['review_time_in_hours'].describe()"
   ],
   "metadata": {
    "collapsed": false,
    "pycharm": {
     "name": "#%%\n"
    }
   }
  },
  {
   "cell_type": "code",
   "execution_count": 197,
   "outputs": [
    {
     "data": {
      "text/plain": "(0.7643055555555556, 5312.072847222222)"
     },
     "execution_count": 197,
     "metadata": {},
     "output_type": "execute_result"
    }
   ],
   "source": [
    "times = closed_pull_requests_closed_by_different_person['review_time_in_hours']\n",
    "closed_05, closed_95 = times.quantile([0.05, 0.95])\n",
    "closed_05, closed_95"
   ],
   "metadata": {
    "collapsed": false,
    "pycharm": {
     "name": "#%%\n"
    }
   }
  },
  {
   "cell_type": "code",
   "execution_count": 198,
   "outputs": [],
   "source": [
    "# Filter really low values\n",
    "closed_review_times = closed_pull_requests_closed_by_different_person.where(closed_pull_requests_closed_by_different_person['review_time_in_hours'] >= closed_05).dropna(subset=['review_time_in_hours'])[['review_time_in_hours']]\n",
    "\n",
    "closed_review_times = closed_pull_requests_closed_by_different_person.where(closed_pull_requests_closed_by_different_person['review_time_in_hours'] <= closed_95).dropna(subset=['review_time_in_hours'])[['review_time_in_hours']]\n"
   ],
   "metadata": {
    "collapsed": false,
    "pycharm": {
     "name": "#%%\n"
    }
   }
  },
  {
   "cell_type": "code",
   "execution_count": 199,
   "outputs": [
    {
     "data": {
      "text/plain": "<Figure size 432x288 with 1 Axes>",
      "image/png": "[encoded data removed]"
     },
     "metadata": {
      "needs_background": "light"
     },
     "output_type": "display_data"
    }
   ],
   "source": [
    "plot = plt.hist(x=closed_review_times, bins=50)"
   ],
   "metadata": {
    "collapsed": false,
    "pycharm": {
     "name": "#%%\n"
    }
   }
  },
  {
   "cell_type": "code",
   "execution_count": 200,
   "outputs": [
    {
     "data": {
      "text/plain": "       review_time_in_hours\ncount          30035.000000\nmean             325.966631\nstd              705.852023\nmin                0.008611\n25%               17.154028\n50%               73.311944\n75%              269.121944\nmax             5310.835000",
      "text/html": "<div>\n<style scoped>\n    .dataframe tbody tr th:only-of-type {\n        vertical-align: middle;\n    }\n\n    .dataframe tbody tr th {\n        vertical-align: top;\n    }\n\n    .dataframe thead th {\n        text-align: right;\n    }\n</style>\n<table border=\"1\" class=\"dataframe\">\n  <thead>\n    <tr style=\"text-align: right;\">\n      <th></th>\n      <th>review_time_in_hours</th>\n    </tr>\n  </thead>\n  <tbody>\n    <tr>\n      <th>count</th>\n      <td>30035.000000</td>\n    </tr>\n    <tr>\n      <th>mean</th>\n      <td>325.966631</td>\n    </tr>\n    <tr>\n      <th>std</th>\n      <td>705.852023</td>\n    </tr>\n    <tr>\n      <th>min</th>\n      <td>0.008611</td>\n    </tr>\n    <tr>\n      <th>25%</th>\n      <td>17.154028</td>\n    </tr>\n    <tr>\n      <th>50%</th>\n      <td>73.311944</td>\n    </tr>\n    <tr>\n      <th>75%</th>\n      <td>269.121944</td>\n    </tr>\n    <tr>\n      <th>max</th>\n      <td>5310.835000</td>\n    </tr>\n  </tbody>\n</table>\n</div>"
     },
     "execution_count": 200,
     "metadata": {},
     "output_type": "execute_result"
    }
   ],
   "source": [
    "closed_review_times.describe()"
   ],
   "metadata": {
    "collapsed": false,
    "pycharm": {
     "name": "#%%\n"
    }
   }
  },
  {
   "cell_type": "code",
   "execution_count": 201,
   "outputs": [
    {
     "data": {
      "text/plain": "5"
     },
     "execution_count": 201,
     "metadata": {},
     "output_type": "execute_result"
    }
   ],
   "source": [
    "mean_closed_review_time_in_days = round(closed_review_times.mean()[0] / 60)\n",
    "mean_closed_review_time_in_days"
   ],
   "metadata": {
    "collapsed": false,
    "pycharm": {
     "name": "#%%\n"
    }
   }
  },
  {
   "cell_type": "code",
   "execution_count": 202,
   "outputs": [
    {
     "name": "stdout",
     "output_type": "stream",
     "text": [
      "Approved PR's take on average 2 days, whilst closed PR's take on average 5 days\n"
     ]
    }
   ],
   "source": [
    "print(f\"Approved PR's take on average {mean_approved_review_time_in_days} days, whilst closed PR's take on average {mean_closed_review_time_in_days} days\")"
   ],
   "metadata": {
    "collapsed": false,
    "pycharm": {
     "name": "#%%\n"
    }
   }
  }
 ],
 "metadata": {
  "kernelspec": {
   "display_name": "Python 3",
   "language": "python",
   "name": "python3"
  },
  "toc": {
   "base_numbering": 1,
   "nav_menu": {},
   "number_sections": true,
   "sideBar": true,
   "skip_h1_title": false,
   "title_cell": "Table of Contents",
   "title_sidebar": "Contents",
   "toc_cell": true,
   "toc_position": {},
   "toc_section_display": true,
   "toc_window_display": false
  },
  "varInspector": {
   "cols": {
    "lenName": 16,
    "lenType": 16,
    "lenVar": 40
   },
   "kernels_config": {
    "python": {
     "delete_cmd_postfix": "",
     "delete_cmd_prefix": "del ",
     "library": "var_list.py",
     "varRefreshCmd": "print(var_dic_list())"
    },
    "r": {
     "delete_cmd_postfix": ") ",
     "delete_cmd_prefix": "rm(",
     "library": "var_list.r",
     "varRefreshCmd": "cat(var_dic_list()) "
    }
   },
   "types_to_exclude": [
    "module",
    "function",
    "builtin_function_or_method",
    "instance",
    "_Feature"
   ],
   "window_display": false
  }
 },
 "nbformat": 4,
 "nbformat_minor": 5
}